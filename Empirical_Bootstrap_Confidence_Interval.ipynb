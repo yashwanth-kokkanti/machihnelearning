{
 "cells": [
  {
   "cell_type": "code",
   "execution_count": 3,
   "metadata": {},
   "outputs": [
    {
     "name": "stdout",
     "output_type": "stream",
     "text": [
      "Wall time: 0 ns\n"
     ]
    },
    {
     "data": {
      "image/png": "[encoded data removed]",
      "text/plain": [
       "<matplotlib.figure.Figure at 0x1fd20574080>"
      ]
     },
     "metadata": {},
     "output_type": "display_data"
    },
    {
     "name": "stdout",
     "output_type": "stream",
     "text": [
      "95.0 confidence interval 161.5 and 176.0\n",
      "Wall time: 0 ns\n"
     ]
    }
   ],
   "source": [
    "# Empirical Bootstrap confidence Interval.\n",
    "%time\n",
    "import numpy as np\n",
    "from sklearn.utils import resample\n",
    "from sklearn.metrics import accuracy_score\n",
    "from matplotlib import pyplot\n",
    "\n",
    "# Load sample dataset\n",
    "x = np.array([180, 162, 158,172,168,150,171,183,165,176])\n",
    "\n",
    "# configure bootstrap\n",
    "n_iterations = 1000\n",
    "n_size = int(len(x))\n",
    "\n",
    "medians = list()\n",
    "# run boot strap \n",
    "for i in range(n_iterations):\n",
    "    # prepare train and test sets \n",
    "    s = resample(x, n_samples=n_size)\n",
    "    m = np.median(s)\n",
    "    medians.append(m)\n",
    "\n",
    "# plot scores \n",
    "pyplot.hist(medians)\n",
    "pyplot.show()\n",
    "\n",
    "# Compute confidence intervals \n",
    "# 95 % confidence interval means in the range of 2.5 and 97.5 \n",
    "alpha = 0.95\n",
    "p = ((1.0-alpha)/2.0) * 100\n",
    "lower = np.percentile(medians, p)\n",
    "\n",
    "p  = (alpha + ((1.0-alpha)/2.0)) * 100\n",
    "upper = np.percentile(medians, p)\n",
    "print ('%.1f confidence interval %.1f and %.1f' % (alpha*100, lower, upper))\n",
    "%time"
   ]
  },
  {
   "cell_type": "code",
   "execution_count": null,
   "metadata": {},
   "outputs": [],
   "source": []
  }
 ],
 "metadata": {
  "kernelspec": {
   "display_name": "Python 3",
   "language": "python",
   "name": "python3"
  },
  "language_info": {
   "codemirror_mode": {
    "name": "ipython",
    "version": 3
   },
   "file_extension": ".py",
   "mimetype": "text/x-python",
   "name": "python",
   "nbconvert_exporter": "python",
   "pygments_lexer": "ipython3",
   "version": "3.6.6"
  }
 },
 "nbformat": 4,
 "nbformat_minor": 2
}
