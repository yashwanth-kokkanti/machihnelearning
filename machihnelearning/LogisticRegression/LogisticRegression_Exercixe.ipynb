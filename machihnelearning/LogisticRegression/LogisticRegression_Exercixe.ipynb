{
 "cells": [
  {
   "cell_type": "code",
   "execution_count": 1,
   "metadata": {},
   "outputs": [],
   "source": [
    "## Logistic Regression on Amazon FFR \n",
    "\n",
    "\n",
    "# Data source - URL https://www.kaggle.com/snap/amazon-fine-food-reviews\n",
    "\n",
    "## Data Contains reviews of fine food from Amazon. \n",
    "## It includes information about product, user, ratings, text review. \n",
    "\n"
   ]
  },
  {
   "cell_type": "code",
   "execution_count": 2,
   "metadata": {},
   "outputs": [],
   "source": [
    "## Objective: \n",
    "    # 1. Apply Logistic Regreaaion on Amazon FFR using BOW, Word2Vec, TFIDF, AvgWord2Vec\n",
    "    # 2. Do Pertubation Test to check whether features are multi-collinear or not \n",
    "    # 3. Metrics: Accuracy, precision, recall, f1-score etc. Confusion matrix\n",
    "    # 4. Use GridSearchCV and RandomSearchCV to find out best \"C\"\n",
    "    # 5. l1 creates more sparsity with decrease in C\n",
    "\n",
    "## Predict the Polarity of a given review"
   ]
  },
  {
   "cell_type": "code",
   "execution_count": 3,
   "metadata": {},
   "outputs": [],
   "source": [
    "## Columns \n",
    "    # 1.Id\n",
    "    # 2.ProductId - unique identifier for the product\n",
    "    # 3.UserId - unqiue identifier for the user\n",
    "    # 4.ProfileName\n",
    "    # 5.HelpfulnessNumerator - number of users who found the review helpful\n",
    "    # 6.HelpfulnessDenominator - number of users who indicated whether they found the review helpful or not\n",
    "    # 7.Score - rating between 1 and 5\n",
    "    # 8.Time - timestamp for the review\n",
    "    # 9.Summary - brief summary of the review\n",
    "    # 10.Text - text of the review"
   ]
  },
  {
   "cell_type": "code",
   "execution_count": 4,
   "metadata": {},
   "outputs": [
    {
     "name": "stderr",
     "output_type": "stream",
     "text": [
      "C:\\ProgramData\\Anaconda3\\lib\\site-packages\\gensim\\utils.py:1197: UserWarning: detected Windows; aliasing chunkize to chunkize_serial\n",
      "  warnings.warn(\"detected Windows; aliasing chunkize to chunkize_serial\")\n"
     ]
    }
   ],
   "source": [
    "#######################################################################\n",
    "\n",
    "# Lets start with imports \n",
    "\n",
    "\n",
    "import numpy as np\n",
    "import pandas as pd\n",
    "import matplotlib.pyplot as plt\n",
    "import sqlite3 as sql\n",
    "import seaborn as sns\n",
    "from time import time\n",
    "import random\n",
    "import gensim\n",
    "import warnings\n",
    "\n",
    "\n",
    "from sklearn.metrics import accuracy_score\n",
    "from sklearn.metrics import confusion_matrix\n",
    "from sklearn.metrics import precision_score\n",
    "from sklearn.metrics import f1_score\n",
    "from sklearn.metrics import recall_score\n",
    "\n",
    "warnings.filterwarnings(\"ignore\")\n",
    "\n",
    "%matplotlib inline "
   ]
  },
  {
   "cell_type": "code",
   "execution_count": 5,
   "metadata": {},
   "outputs": [
    {
     "data": {
      "text/html": [
       "<div>\n",
       "<style scoped>\n",
       "    .dataframe tbody tr th:only-of-type {\n",
       "        vertical-align: middle;\n",
       "    }\n",
       "\n",
       "    .dataframe tbody tr th {\n",
       "        vertical-align: top;\n",
       "    }\n",
       "\n",
       "    .dataframe thead th {\n",
       "        text-align: right;\n",
       "    }\n",
       "</style>\n",
       "<table border=\"1\" class=\"dataframe\">\n",
       "  <thead>\n",
       "    <tr style=\"text-align: right;\">\n",
       "      <th></th>\n",
       "      <th>index</th>\n",
       "      <th>Id</th>\n",
       "      <th>ProductId</th>\n",
       "      <th>UserId</th>\n",
       "      <th>ProfileName</th>\n",
       "      <th>HelpfulnessNumerator</th>\n",
       "      <th>HelpfulnessDenominator</th>\n",
       "      <th>Score</th>\n",
       "      <th>Time</th>\n",
       "      <th>Summary</th>\n",
       "      <th>Text</th>\n",
       "      <th>CleanedText</th>\n",
       "      <th>CleanedText_NoStem</th>\n",
       "    </tr>\n",
       "  </thead>\n",
       "  <tbody>\n",
       "    <tr>\n",
       "      <th>0</th>\n",
       "      <td>0</td>\n",
       "      <td>1</td>\n",
       "      <td>B001E4KFG0</td>\n",
       "      <td>A3SGXH7AUHU8GW</td>\n",
       "      <td>delmartian</td>\n",
       "      <td>1</td>\n",
       "      <td>1</td>\n",
       "      <td>Positive</td>\n",
       "      <td>1303862400</td>\n",
       "      <td>Good Quality Dog Food</td>\n",
       "      <td>I have bought several of the Vitality canned d...</td>\n",
       "      <td>b'bought sever vital can dog food product foun...</td>\n",
       "      <td>b''</td>\n",
       "    </tr>\n",
       "    <tr>\n",
       "      <th>1</th>\n",
       "      <td>1</td>\n",
       "      <td>2</td>\n",
       "      <td>B00813GRG4</td>\n",
       "      <td>A1D87F6ZCVE5NK</td>\n",
       "      <td>dll pa</td>\n",
       "      <td>0</td>\n",
       "      <td>0</td>\n",
       "      <td>Negative</td>\n",
       "      <td>1346976000</td>\n",
       "      <td>Not as Advertised</td>\n",
       "      <td>Product arrived labeled as Jumbo Salted Peanut...</td>\n",
       "      <td>b'product arriv label jumbo salt peanutsth pea...</td>\n",
       "      <td>b''</td>\n",
       "    </tr>\n",
       "    <tr>\n",
       "      <th>2</th>\n",
       "      <td>2</td>\n",
       "      <td>3</td>\n",
       "      <td>B000LQOCH0</td>\n",
       "      <td>ABXLMWJIXXAIN</td>\n",
       "      <td>Natalia Corres \"Natalia Corres\"</td>\n",
       "      <td>1</td>\n",
       "      <td>1</td>\n",
       "      <td>Positive</td>\n",
       "      <td>1219017600</td>\n",
       "      <td>\"Delight\" says it all</td>\n",
       "      <td>This is a confection that has been around a fe...</td>\n",
       "      <td>b'confect around centuri light pillowi citrus ...</td>\n",
       "      <td>b''</td>\n",
       "    </tr>\n",
       "    <tr>\n",
       "      <th>3</th>\n",
       "      <td>3</td>\n",
       "      <td>4</td>\n",
       "      <td>B000UA0QIQ</td>\n",
       "      <td>A395BORC6FGVXV</td>\n",
       "      <td>Karl</td>\n",
       "      <td>3</td>\n",
       "      <td>3</td>\n",
       "      <td>Negative</td>\n",
       "      <td>1307923200</td>\n",
       "      <td>Cough Medicine</td>\n",
       "      <td>If you are looking for the secret ingredient i...</td>\n",
       "      <td>b'look secret ingredi robitussin believ found ...</td>\n",
       "      <td>b''</td>\n",
       "    </tr>\n",
       "    <tr>\n",
       "      <th>4</th>\n",
       "      <td>4</td>\n",
       "      <td>5</td>\n",
       "      <td>B006K2ZZ7K</td>\n",
       "      <td>A1UQRSCLF8GW1T</td>\n",
       "      <td>Michael D. Bigham \"M. Wassir\"</td>\n",
       "      <td>0</td>\n",
       "      <td>0</td>\n",
       "      <td>Positive</td>\n",
       "      <td>1350777600</td>\n",
       "      <td>Great taffy</td>\n",
       "      <td>Great taffy at a great price.  There was a wid...</td>\n",
       "      <td>b'great taffi great price wide assort yummi ta...</td>\n",
       "      <td>b''</td>\n",
       "    </tr>\n",
       "  </tbody>\n",
       "</table>\n",
       "</div>"
      ],
      "text/plain": [
       "   index  Id   ProductId          UserId                      ProfileName  \\\n",
       "0      0   1  B001E4KFG0  A3SGXH7AUHU8GW                       delmartian   \n",
       "1      1   2  B00813GRG4  A1D87F6ZCVE5NK                           dll pa   \n",
       "2      2   3  B000LQOCH0   ABXLMWJIXXAIN  Natalia Corres \"Natalia Corres\"   \n",
       "3      3   4  B000UA0QIQ  A395BORC6FGVXV                             Karl   \n",
       "4      4   5  B006K2ZZ7K  A1UQRSCLF8GW1T    Michael D. Bigham \"M. Wassir\"   \n",
       "\n",
       "   HelpfulnessNumerator  HelpfulnessDenominator     Score        Time  \\\n",
       "0                     1                       1  Positive  1303862400   \n",
       "1                     0                       0  Negative  1346976000   \n",
       "2                     1                       1  Positive  1219017600   \n",
       "3                     3                       3  Negative  1307923200   \n",
       "4                     0                       0  Positive  1350777600   \n",
       "\n",
       "                 Summary                                               Text  \\\n",
       "0  Good Quality Dog Food  I have bought several of the Vitality canned d...   \n",
       "1      Not as Advertised  Product arrived labeled as Jumbo Salted Peanut...   \n",
       "2  \"Delight\" says it all  This is a confection that has been around a fe...   \n",
       "3         Cough Medicine  If you are looking for the secret ingredient i...   \n",
       "4            Great taffy  Great taffy at a great price.  There was a wid...   \n",
       "\n",
       "                                         CleanedText CleanedText_NoStem  \n",
       "0  b'bought sever vital can dog food product foun...                b''  \n",
       "1  b'product arriv label jumbo salt peanutsth pea...                b''  \n",
       "2  b'confect around centuri light pillowi citrus ...                b''  \n",
       "3  b'look secret ingredi robitussin believ found ...                b''  \n",
       "4  b'great taffi great price wide assort yummi ta...                b''  "
      ]
     },
     "execution_count": 5,
     "metadata": {},
     "output_type": "execute_result"
    }
   ],
   "source": [
    "## Load from SQL file (sqlite)\n",
    "\n",
    "con = sql.connect('final.sqlite') ## This file obtained after text preprocessing in previous chapter \n",
    "\n",
    "df = pd.read_sql_query(''' SELECT * from Reviews''', con)\n",
    "\n",
    "df.head()"
   ]
  },
  {
   "cell_type": "code",
   "execution_count": 6,
   "metadata": {},
   "outputs": [
    {
     "name": "stdout",
     "output_type": "stream",
     "text": [
      "(364171, 13)\n",
      "364171\n"
     ]
    },
    {
     "data": {
      "text/html": [
       "<div>\n",
       "<style scoped>\n",
       "    .dataframe tbody tr th:only-of-type {\n",
       "        vertical-align: middle;\n",
       "    }\n",
       "\n",
       "    .dataframe tbody tr th {\n",
       "        vertical-align: top;\n",
       "    }\n",
       "\n",
       "    .dataframe thead th {\n",
       "        text-align: right;\n",
       "    }\n",
       "</style>\n",
       "<table border=\"1\" class=\"dataframe\">\n",
       "  <thead>\n",
       "    <tr style=\"text-align: right;\">\n",
       "      <th></th>\n",
       "      <th>index</th>\n",
       "      <th>Id</th>\n",
       "      <th>HelpfulnessNumerator</th>\n",
       "      <th>HelpfulnessDenominator</th>\n",
       "      <th>Time</th>\n",
       "    </tr>\n",
       "  </thead>\n",
       "  <tbody>\n",
       "    <tr>\n",
       "      <th>count</th>\n",
       "      <td>364171.000000</td>\n",
       "      <td>364171.000000</td>\n",
       "      <td>364171.000000</td>\n",
       "      <td>364171.000000</td>\n",
       "      <td>3.641710e+05</td>\n",
       "    </tr>\n",
       "    <tr>\n",
       "      <th>mean</th>\n",
       "      <td>241825.377603</td>\n",
       "      <td>261814.561014</td>\n",
       "      <td>1.739021</td>\n",
       "      <td>2.186841</td>\n",
       "      <td>1.296135e+09</td>\n",
       "    </tr>\n",
       "    <tr>\n",
       "      <th>std</th>\n",
       "      <td>154519.869452</td>\n",
       "      <td>166958.768333</td>\n",
       "      <td>6.723921</td>\n",
       "      <td>7.348482</td>\n",
       "      <td>4.864772e+07</td>\n",
       "    </tr>\n",
       "    <tr>\n",
       "      <th>min</th>\n",
       "      <td>0.000000</td>\n",
       "      <td>1.000000</td>\n",
       "      <td>0.000000</td>\n",
       "      <td>0.000000</td>\n",
       "      <td>9.393408e+08</td>\n",
       "    </tr>\n",
       "    <tr>\n",
       "      <th>25%</th>\n",
       "      <td>104427.500000</td>\n",
       "      <td>113379.500000</td>\n",
       "      <td>0.000000</td>\n",
       "      <td>0.000000</td>\n",
       "      <td>1.270858e+09</td>\n",
       "    </tr>\n",
       "    <tr>\n",
       "      <th>50%</th>\n",
       "      <td>230033.000000</td>\n",
       "      <td>249445.000000</td>\n",
       "      <td>0.000000</td>\n",
       "      <td>1.000000</td>\n",
       "      <td>1.311379e+09</td>\n",
       "    </tr>\n",
       "    <tr>\n",
       "      <th>75%</th>\n",
       "      <td>376763.500000</td>\n",
       "      <td>407408.500000</td>\n",
       "      <td>2.000000</td>\n",
       "      <td>2.000000</td>\n",
       "      <td>1.332893e+09</td>\n",
       "    </tr>\n",
       "    <tr>\n",
       "      <th>max</th>\n",
       "      <td>525813.000000</td>\n",
       "      <td>568454.000000</td>\n",
       "      <td>866.000000</td>\n",
       "      <td>878.000000</td>\n",
       "      <td>1.351210e+09</td>\n",
       "    </tr>\n",
       "  </tbody>\n",
       "</table>\n",
       "</div>"
      ],
      "text/plain": [
       "               index             Id  HelpfulnessNumerator  \\\n",
       "count  364171.000000  364171.000000         364171.000000   \n",
       "mean   241825.377603  261814.561014              1.739021   \n",
       "std    154519.869452  166958.768333              6.723921   \n",
       "min         0.000000       1.000000              0.000000   \n",
       "25%    104427.500000  113379.500000              0.000000   \n",
       "50%    230033.000000  249445.000000              0.000000   \n",
       "75%    376763.500000  407408.500000              2.000000   \n",
       "max    525813.000000  568454.000000            866.000000   \n",
       "\n",
       "       HelpfulnessDenominator          Time  \n",
       "count           364171.000000  3.641710e+05  \n",
       "mean                 2.186841  1.296135e+09  \n",
       "std                  7.348482  4.864772e+07  \n",
       "min                  0.000000  9.393408e+08  \n",
       "25%                  0.000000  1.270858e+09  \n",
       "50%                  1.000000  1.311379e+09  \n",
       "75%                  2.000000  1.332893e+09  \n",
       "max                878.000000  1.351210e+09  "
      ]
     },
     "execution_count": 6,
     "metadata": {},
     "output_type": "execute_result"
    }
   ],
   "source": [
    "print (df.shape)\n",
    "print (df['Score'].size)\n",
    "df.describe()"
   ]
  },
  {
   "cell_type": "code",
   "execution_count": 7,
   "metadata": {},
   "outputs": [
    {
     "data": {
      "text/html": [
       "<div>\n",
       "<style scoped>\n",
       "    .dataframe tbody tr th:only-of-type {\n",
       "        vertical-align: middle;\n",
       "    }\n",
       "\n",
       "    .dataframe tbody tr th {\n",
       "        vertical-align: top;\n",
       "    }\n",
       "\n",
       "    .dataframe thead th {\n",
       "        text-align: right;\n",
       "    }\n",
       "</style>\n",
       "<table border=\"1\" class=\"dataframe\">\n",
       "  <thead>\n",
       "    <tr style=\"text-align: right;\">\n",
       "      <th></th>\n",
       "      <th>index</th>\n",
       "      <th>Id</th>\n",
       "      <th>ProductId</th>\n",
       "      <th>UserId</th>\n",
       "      <th>ProfileName</th>\n",
       "      <th>HelpfulnessNumerator</th>\n",
       "      <th>HelpfulnessDenominator</th>\n",
       "      <th>Score</th>\n",
       "      <th>Time</th>\n",
       "      <th>Summary</th>\n",
       "      <th>Text</th>\n",
       "      <th>CleanedText</th>\n",
       "      <th>CleanedText_NoStem</th>\n",
       "    </tr>\n",
       "  </thead>\n",
       "  <tbody>\n",
       "    <tr>\n",
       "      <th>0</th>\n",
       "      <td>0</td>\n",
       "      <td>1</td>\n",
       "      <td>B001E4KFG0</td>\n",
       "      <td>A3SGXH7AUHU8GW</td>\n",
       "      <td>delmartian</td>\n",
       "      <td>1</td>\n",
       "      <td>1</td>\n",
       "      <td>1</td>\n",
       "      <td>1303862400</td>\n",
       "      <td>Good Quality Dog Food</td>\n",
       "      <td>I have bought several of the Vitality canned d...</td>\n",
       "      <td>b'bought sever vital can dog food product foun...</td>\n",
       "      <td>b''</td>\n",
       "    </tr>\n",
       "    <tr>\n",
       "      <th>1</th>\n",
       "      <td>1</td>\n",
       "      <td>2</td>\n",
       "      <td>B00813GRG4</td>\n",
       "      <td>A1D87F6ZCVE5NK</td>\n",
       "      <td>dll pa</td>\n",
       "      <td>0</td>\n",
       "      <td>0</td>\n",
       "      <td>0</td>\n",
       "      <td>1346976000</td>\n",
       "      <td>Not as Advertised</td>\n",
       "      <td>Product arrived labeled as Jumbo Salted Peanut...</td>\n",
       "      <td>b'product arriv label jumbo salt peanutsth pea...</td>\n",
       "      <td>b''</td>\n",
       "    </tr>\n",
       "    <tr>\n",
       "      <th>2</th>\n",
       "      <td>2</td>\n",
       "      <td>3</td>\n",
       "      <td>B000LQOCH0</td>\n",
       "      <td>ABXLMWJIXXAIN</td>\n",
       "      <td>Natalia Corres \"Natalia Corres\"</td>\n",
       "      <td>1</td>\n",
       "      <td>1</td>\n",
       "      <td>1</td>\n",
       "      <td>1219017600</td>\n",
       "      <td>\"Delight\" says it all</td>\n",
       "      <td>This is a confection that has been around a fe...</td>\n",
       "      <td>b'confect around centuri light pillowi citrus ...</td>\n",
       "      <td>b''</td>\n",
       "    </tr>\n",
       "    <tr>\n",
       "      <th>3</th>\n",
       "      <td>3</td>\n",
       "      <td>4</td>\n",
       "      <td>B000UA0QIQ</td>\n",
       "      <td>A395BORC6FGVXV</td>\n",
       "      <td>Karl</td>\n",
       "      <td>3</td>\n",
       "      <td>3</td>\n",
       "      <td>0</td>\n",
       "      <td>1307923200</td>\n",
       "      <td>Cough Medicine</td>\n",
       "      <td>If you are looking for the secret ingredient i...</td>\n",
       "      <td>b'look secret ingredi robitussin believ found ...</td>\n",
       "      <td>b''</td>\n",
       "    </tr>\n",
       "    <tr>\n",
       "      <th>4</th>\n",
       "      <td>4</td>\n",
       "      <td>5</td>\n",
       "      <td>B006K2ZZ7K</td>\n",
       "      <td>A1UQRSCLF8GW1T</td>\n",
       "      <td>Michael D. Bigham \"M. Wassir\"</td>\n",
       "      <td>0</td>\n",
       "      <td>0</td>\n",
       "      <td>1</td>\n",
       "      <td>1350777600</td>\n",
       "      <td>Great taffy</td>\n",
       "      <td>Great taffy at a great price.  There was a wid...</td>\n",
       "      <td>b'great taffi great price wide assort yummi ta...</td>\n",
       "      <td>b''</td>\n",
       "    </tr>\n",
       "  </tbody>\n",
       "</table>\n",
       "</div>"
      ],
      "text/plain": [
       "   index  Id   ProductId          UserId                      ProfileName  \\\n",
       "0      0   1  B001E4KFG0  A3SGXH7AUHU8GW                       delmartian   \n",
       "1      1   2  B00813GRG4  A1D87F6ZCVE5NK                           dll pa   \n",
       "2      2   3  B000LQOCH0   ABXLMWJIXXAIN  Natalia Corres \"Natalia Corres\"   \n",
       "3      3   4  B000UA0QIQ  A395BORC6FGVXV                             Karl   \n",
       "4      4   5  B006K2ZZ7K  A1UQRSCLF8GW1T    Michael D. Bigham \"M. Wassir\"   \n",
       "\n",
       "   HelpfulnessNumerator  HelpfulnessDenominator  Score        Time  \\\n",
       "0                     1                       1      1  1303862400   \n",
       "1                     0                       0      0  1346976000   \n",
       "2                     1                       1      1  1219017600   \n",
       "3                     3                       3      0  1307923200   \n",
       "4                     0                       0      1  1350777600   \n",
       "\n",
       "                 Summary                                               Text  \\\n",
       "0  Good Quality Dog Food  I have bought several of the Vitality canned d...   \n",
       "1      Not as Advertised  Product arrived labeled as Jumbo Salted Peanut...   \n",
       "2  \"Delight\" says it all  This is a confection that has been around a fe...   \n",
       "3         Cough Medicine  If you are looking for the secret ingredient i...   \n",
       "4            Great taffy  Great taffy at a great price.  There was a wid...   \n",
       "\n",
       "                                         CleanedText CleanedText_NoStem  \n",
       "0  b'bought sever vital can dog food product foun...                b''  \n",
       "1  b'product arriv label jumbo salt peanutsth pea...                b''  \n",
       "2  b'confect around centuri light pillowi citrus ...                b''  \n",
       "3  b'look secret ingredi robitussin believ found ...                b''  \n",
       "4  b'great taffi great price wide assort yummi ta...                b''  "
      ]
     },
     "execution_count": 7,
     "metadata": {},
     "output_type": "execute_result"
    }
   ],
   "source": [
    "### Convert Score back to 1 or 0 \n",
    "\n",
    "def polarity(x):\n",
    "    if x == 'Positive':\n",
    "        return 1\n",
    "    return 0\n",
    "\n",
    "df['Score'] = df['Score'].map(polarity)\n",
    "\n",
    "df.head()"
   ]
  },
  {
   "cell_type": "code",
   "execution_count": 8,
   "metadata": {},
   "outputs": [
    {
     "data": {
      "text/html": [
       "<div>\n",
       "<style scoped>\n",
       "    .dataframe tbody tr th:only-of-type {\n",
       "        vertical-align: middle;\n",
       "    }\n",
       "\n",
       "    .dataframe tbody tr th {\n",
       "        vertical-align: top;\n",
       "    }\n",
       "\n",
       "    .dataframe thead th {\n",
       "        text-align: right;\n",
       "    }\n",
       "</style>\n",
       "<table border=\"1\" class=\"dataframe\">\n",
       "  <thead>\n",
       "    <tr style=\"text-align: right;\">\n",
       "      <th></th>\n",
       "      <th>index</th>\n",
       "      <th>Id</th>\n",
       "      <th>ProductId</th>\n",
       "      <th>UserId</th>\n",
       "      <th>ProfileName</th>\n",
       "      <th>HelpfulnessNumerator</th>\n",
       "      <th>HelpfulnessDenominator</th>\n",
       "      <th>Score</th>\n",
       "      <th>Time</th>\n",
       "      <th>Summary</th>\n",
       "      <th>Text</th>\n",
       "      <th>CleanedText</th>\n",
       "      <th>CleanedText_NoStem</th>\n",
       "    </tr>\n",
       "  </thead>\n",
       "  <tbody>\n",
       "    <tr>\n",
       "      <th>169267</th>\n",
       "      <td>212458</td>\n",
       "      <td>230269</td>\n",
       "      <td>B00004RYGX</td>\n",
       "      <td>A1B2IZU1JLZA6</td>\n",
       "      <td>Wes</td>\n",
       "      <td>19</td>\n",
       "      <td>23</td>\n",
       "      <td>0</td>\n",
       "      <td>948240000</td>\n",
       "      <td>WARNING: CLAMSHELL EDITION IS EDITED TV VERSION</td>\n",
       "      <td>I, myself always enjoyed this movie, it's very...</td>\n",
       "      <td>b'alway enjoy movi funni entertain didnt hesit...</td>\n",
       "      <td>b''</td>\n",
       "    </tr>\n",
       "    <tr>\n",
       "      <th>169303</th>\n",
       "      <td>212494</td>\n",
       "      <td>230308</td>\n",
       "      <td>B00004RYGX</td>\n",
       "      <td>A3C3BAQDZWH5YE</td>\n",
       "      <td>Kushana no shinryaku (Kushana's invasion)</td>\n",
       "      <td>0</td>\n",
       "      <td>1</td>\n",
       "      <td>1</td>\n",
       "      <td>1014681600</td>\n",
       "      <td>...</td>\n",
       "      <td>It was on the other night, and, having been a ...</td>\n",
       "      <td>b'night big fan cartoon shown decid watch also...</td>\n",
       "      <td>b''</td>\n",
       "    </tr>\n",
       "    <tr>\n",
       "      <th>161893</th>\n",
       "      <td>202477</td>\n",
       "      <td>219396</td>\n",
       "      <td>B00005IX98</td>\n",
       "      <td>AGUF1WPEG4GSM</td>\n",
       "      <td>\"lchang44\"</td>\n",
       "      <td>5</td>\n",
       "      <td>8</td>\n",
       "      <td>0</td>\n",
       "      <td>1055376000</td>\n",
       "      <td>Almost expired, Sept '03</td>\n",
       "      <td>I returned this due to the very short/brief ex...</td>\n",
       "      <td>b'return due shortbrief expir date sept would ...</td>\n",
       "      <td>b''</td>\n",
       "    </tr>\n",
       "    <tr>\n",
       "      <th>358742</th>\n",
       "      <td>516067</td>\n",
       "      <td>557955</td>\n",
       "      <td>B0000DJDL4</td>\n",
       "      <td>A15SCA1C3F22KW</td>\n",
       "      <td>Mom2two \"sdbartels2\"</td>\n",
       "      <td>0</td>\n",
       "      <td>0</td>\n",
       "      <td>1</td>\n",
       "      <td>1067990400</td>\n",
       "      <td>Great Holiday tradition</td>\n",
       "      <td>Our family has been giving and recieving Kring...</td>\n",
       "      <td>b'famili give reciev kringl mani year one dani...</td>\n",
       "      <td>b''</td>\n",
       "    </tr>\n",
       "    <tr>\n",
       "      <th>147545</th>\n",
       "      <td>179643</td>\n",
       "      <td>194858</td>\n",
       "      <td>B0000E65WB</td>\n",
       "      <td>A2VZ11U5DXM8J5</td>\n",
       "      <td>C. Ebeling \"ctlpareader\"</td>\n",
       "      <td>1</td>\n",
       "      <td>1</td>\n",
       "      <td>1</td>\n",
       "      <td>1068336000</td>\n",
       "      <td>Stock Up On This Item</td>\n",
       "      <td>I usually purchase this item in smaller links ...</td>\n",
       "      <td>b'usual purchas item smaller link pound stash ...</td>\n",
       "      <td>b''</td>\n",
       "    </tr>\n",
       "  </tbody>\n",
       "</table>\n",
       "</div>"
      ],
      "text/plain": [
       "         index      Id   ProductId          UserId  \\\n",
       "169267  212458  230269  B00004RYGX   A1B2IZU1JLZA6   \n",
       "169303  212494  230308  B00004RYGX  A3C3BAQDZWH5YE   \n",
       "161893  202477  219396  B00005IX98   AGUF1WPEG4GSM   \n",
       "358742  516067  557955  B0000DJDL4  A15SCA1C3F22KW   \n",
       "147545  179643  194858  B0000E65WB  A2VZ11U5DXM8J5   \n",
       "\n",
       "                                      ProfileName  HelpfulnessNumerator  \\\n",
       "169267                                        Wes                    19   \n",
       "169303  Kushana no shinryaku (Kushana's invasion)                     0   \n",
       "161893                                 \"lchang44\"                     5   \n",
       "358742                       Mom2two \"sdbartels2\"                     0   \n",
       "147545                   C. Ebeling \"ctlpareader\"                     1   \n",
       "\n",
       "        HelpfulnessDenominator  Score        Time  \\\n",
       "169267                      23      0   948240000   \n",
       "169303                       1      1  1014681600   \n",
       "161893                       8      0  1055376000   \n",
       "358742                       0      1  1067990400   \n",
       "147545                       1      1  1068336000   \n",
       "\n",
       "                                                Summary  \\\n",
       "169267  WARNING: CLAMSHELL EDITION IS EDITED TV VERSION   \n",
       "169303                                              ...   \n",
       "161893                         Almost expired, Sept '03   \n",
       "358742                          Great Holiday tradition   \n",
       "147545                            Stock Up On This Item   \n",
       "\n",
       "                                                     Text  \\\n",
       "169267  I, myself always enjoyed this movie, it's very...   \n",
       "169303  It was on the other night, and, having been a ...   \n",
       "161893  I returned this due to the very short/brief ex...   \n",
       "358742  Our family has been giving and recieving Kring...   \n",
       "147545  I usually purchase this item in smaller links ...   \n",
       "\n",
       "                                              CleanedText CleanedText_NoStem  \n",
       "169267  b'alway enjoy movi funni entertain didnt hesit...                b''  \n",
       "169303  b'night big fan cartoon shown decid watch also...                b''  \n",
       "161893  b'return due shortbrief expir date sept would ...                b''  \n",
       "358742  b'famili give reciev kringl mani year one dani...                b''  \n",
       "147545  b'usual purchas item smaller link pound stash ...                b''  "
      ]
     },
     "execution_count": 8,
     "metadata": {},
     "output_type": "execute_result"
    }
   ],
   "source": [
    "###### Lets consider only few samples due to computational limitation\n",
    "\n",
    "n_samples = 30000\n",
    "df_sample = df.sample(n_samples)\n",
    "\n",
    "### Sort them based on Time series (Time Series split)\n",
    "\n",
    "df_sample.sort_values('Time', inplace=True)\n",
    "df_sample.head()"
   ]
  },
  {
   "cell_type": "code",
   "execution_count": 10,
   "metadata": {},
   "outputs": [
    {
     "data": {
      "text/plain": [
       "(30000, 13)"
      ]
     },
     "execution_count": 10,
     "metadata": {},
     "output_type": "execute_result"
    }
   ],
   "source": [
    "#### Lets Save data to disk\n",
    "\n",
    "import pickle \n",
    "\n",
    "def savetofile(obj, filename):\n",
    "    ''' Save to Local Disk'''\n",
    "    \n",
    "    pickle.dump(obj, open(filename+\".p\",\"wb\"))\n",
    "\n",
    "def openfromfile(filename):\n",
    "    ''' Read data from pickled file'''\n",
    "    \n",
    "    temp = pickle.load(open(filename+\".p\",\"rb\"))\n",
    "    return temp\n",
    "\n",
    "\n",
    "## Save to Local Machine \n",
    "savetofile(df_sample, \"sample_30000_logisticRegression\")\n",
    "\n",
    "df_sample = openfromfile('sample_30000_logisticRegression')\n",
    "df_sample.shape"
   ]
  },
  {
   "cell_type": "code",
   "execution_count": 16,
   "metadata": {},
   "outputs": [
    {
     "name": "stdout",
     "output_type": "stream",
     "text": [
      "(25230, 13)\n",
      "(4770, 13)\n"
     ]
    }
   ],
   "source": [
    "print (df_sample[df_sample.Score == 1].shape)\n",
    "print (df_sample[df_sample.Score == 0].shape)\n",
    "## Example of perfectly Imbalanced class .. we are not bothered  about balancing data for now"
   ]
  },
  {
   "cell_type": "code",
   "execution_count": 17,
   "metadata": {},
   "outputs": [
    {
     "name": "stdout",
     "output_type": "stream",
     "text": [
      "Train data size  (21000, 30393)\n",
      "Test data size  (9000, 30393)\n"
     ]
    }
   ],
   "source": [
    "####  LogisticRegression Using BOW - Bag of Words - UniGram \n",
    "\n",
    "from sklearn.model_selection import train_test_split\n",
    "from sklearn.feature_extraction.text import CountVectorizer\n",
    "from sklearn import preprocessing\n",
    "\n",
    "X_train, X_test, y_train, y_test = train_test_split(df_sample['CleanedText'].values, \n",
    "                                                    df_sample['Score'].values, \n",
    "                                                    test_size=0.3, \n",
    "                                                    shuffle=False)\n",
    "## Unigram \n",
    "uni_gram = CountVectorizer() ## By default it is uni_gram .. \n",
    "X_train = uni_gram.fit_transform(X_train)\n",
    "\n",
    "## Normalize Data \n",
    "X_train = preprocessing.normalize(X_train)\n",
    "print (\"Train data size \", X_train.shape)\n",
    "\n",
    "X_test = uni_gram.transform(X_test)\n",
    "X_test = preprocessing.normalize(X_test)\n",
    "\n",
    "print (\"Test data size \", X_test.shape)\n"
   ]
  },
  {
   "cell_type": "code",
   "execution_count": 18,
   "metadata": {},
   "outputs": [
    {
     "name": "stdout",
     "output_type": "stream",
     "text": [
      "(1910, 30393) (1909, 30393)\n",
      "(3819, 30393) (1909, 30393)\n",
      "(5728, 30393) (1909, 30393)\n",
      "(7637, 30393) (1909, 30393)\n",
      "(9546, 30393) (1909, 30393)\n",
      "(11455, 30393) (1909, 30393)\n",
      "(13364, 30393) (1909, 30393)\n",
      "(15273, 30393) (1909, 30393)\n",
      "(17182, 30393) (1909, 30393)\n",
      "(19091, 30393) (1909, 30393)\n"
     ]
    }
   ],
   "source": [
    "### Time Series Split Example \n",
    "from sklearn.model_selection import TimeSeriesSplit\n",
    "\n",
    "tscv = TimeSeriesSplit(n_splits=10)\n",
    "\n",
    "for train, cv in tscv.split(X_train):\n",
    "    print (X_train[train].shape, X_train[cv].shape)"
   ]
  },
  {
   "cell_type": "code",
   "execution_count": 19,
   "metadata": {},
   "outputs": [
    {
     "name": "stdout",
     "output_type": "stream",
     "text": [
      "Fitting 10 folds for each of 16 candidates, totalling 160 fits\n"
     ]
    },
    {
     "name": "stderr",
     "output_type": "stream",
     "text": [
      "[Parallel(n_jobs=1)]: Done 160 out of 160 | elapsed:   59.7s finished\n"
     ]
    },
    {
     "name": "stdout",
     "output_type": "stream",
     "text": [
      "Best HyperParameter  {'C': 10, 'penalty': 'l2'}\n",
      "Best Accuracy:  90.51859612362495\n",
      "Wall time: 1min\n"
     ]
    }
   ],
   "source": [
    "%%time\n",
    "### Fit Model \n",
    "\n",
    "from sklearn.model_selection import GridSearchCV\n",
    "from sklearn.linear_model import LogisticRegression\n",
    "\n",
    "model = LogisticRegression()\n",
    "param_grid = {'C':[1000, 100, 10, 1, 0.1, 0.01, 0.001, 0.0001],\n",
    "             'penalty':['l1','l2']}\n",
    "\n",
    "tscv = TimeSeriesSplit(n_splits=10)\n",
    "\n",
    "gsv = GridSearchCV(model, param_grid, cv=tscv, verbose=1)\n",
    "\n",
    "gsv.fit(X_train,y_train)\n",
    "\n",
    "savetofile(gsv,\"Logistic_Regression_unigram\")\n",
    "\n",
    "print(\"Best HyperParameter \", gsv.best_params_)\n",
    "\n",
    "print(\"Best Accuracy: \", (gsv.best_score_*100))"
   ]
  },
  {
   "cell_type": "code",
   "execution_count": 20,
   "metadata": {},
   "outputs": [
    {
     "data": {
      "image/png": "[encoded data removed]",
      "text/plain": [
       "<Figure size 432x288 with 1 Axes>"
      ]
     },
     "metadata": {
      "needs_background": "light"
     },
     "output_type": "display_data"
    }
   ],
   "source": [
    "\n",
    "def plot_error_vs_c(gsv):\n",
    "    x1=[]\n",
    "    y1=[]\n",
    "    x2=[]\n",
    "    y2=[]\n",
    "    for a in gsv.grid_scores_:\n",
    "        if (a[0]['penalty']) == 'l1':\n",
    "            y1.append(1-a[1])\n",
    "            x1.append(a[0]['C'])\n",
    "        else:\n",
    "            y2.append(1-a[1])\n",
    "            x2.append(a[0]['C'])\n",
    "    plt.xlim(-10,500)\n",
    "    plt.ylim(0,0.2)\n",
    "    plt.xlabel(\"C\",fontsize=15)\n",
    "    plt.ylabel(\"Misclassification Error\")\n",
    "    plt.title('Misclassification Error v/s C')\n",
    "    plt.plot(x1,y1,'b',label=\"L1\")\n",
    "    plt.plot(x2,y2,'r',label=\"L2\")\n",
    "    plt.legend()\n",
    "    plt.show()\n",
    "    \n",
    "gsv = openfromfile(\"Logistic_Regression_unigram\")\n",
    "plot_error_vs_c(gsv)"
   ]
  },
  {
   "cell_type": "code",
   "execution_count": 22,
   "metadata": {},
   "outputs": [
    {
     "name": "stdout",
     "output_type": "stream",
     "text": [
      "Accuracy =  90.76666666666667\n",
      "Precision  0.9291165437847626\n",
      "Recall  0.9620948298955264\n",
      "F1-Score  0.9453181548989932\n",
      "Non Zero weights: 30393\n"
     ]
    },
    {
     "data": {
      "text/plain": [
       "<matplotlib.axes._subplots.AxesSubplot at 0x21f7ad8c160>"
      ]
     },
     "execution_count": 22,
     "metadata": {},
     "output_type": "execute_result"
    },
    {
     "data": {
      "image/png": "[encoded data removed]",
      "text/plain": [
       "<Figure size 432x288 with 2 Axes>"
      ]
     },
     "metadata": {},
     "output_type": "display_data"
    }
   ],
   "source": [
    "#### Accuracy \n",
    "\n",
    "from sklearn.linear_model import LogisticRegression\n",
    "\n",
    "lr = LogisticRegression(C=10, penalty='l2')\n",
    "\n",
    "lr.fit(X_train, y_train)\n",
    "\n",
    "y_pred = lr.predict(X_test)\n",
    "\n",
    "print (\"Accuracy = \", (accuracy_score(y_test, y_pred) * 100))\n",
    "print(\"Precision \", (precision_score(y_test, y_pred)))\n",
    "print(\"Recall \", (recall_score(y_test, y_pred)))\n",
    "print(\"F1-Score \", (f1_score(y_test, y_pred)))\n",
    "print(\"Non Zero weights:\",np.count_nonzero(lr.coef_))\n",
    "\n",
    "df_conf_mat = pd.DataFrame(confusion_matrix(y_test, y_pred), range(2), range(2))\n",
    "\n",
    "sns.set(font_scale=1.4)\n",
    "sns.heatmap(df_conf_mat, annot=True, annot_kws={'size':16}, fmt='g')"
   ]
  },
  {
   "cell_type": "code",
   "execution_count": 32,
   "metadata": {},
   "outputs": [
    {
     "name": "stdout",
     "output_type": "stream",
     "text": [
      "Accuracy =  90.78888888888889\n",
      "Precision  0.9305825872583365\n",
      "Recall  0.9606214840610768\n",
      "F1-Score  0.945363474593027\n",
      "Non Zero weights: 1446\n"
     ]
    },
    {
     "data": {
      "text/plain": [
       "<matplotlib.axes._subplots.AxesSubplot at 0x21f7009b048>"
      ]
     },
     "execution_count": 32,
     "metadata": {},
     "output_type": "execute_result"
    },
    {
     "data": {
      "image/png": "[encoded data removed]",
      "text/plain": [
       "<Figure size 432x288 with 2 Axes>"
      ]
     },
     "metadata": {},
     "output_type": "display_data"
    }
   ],
   "source": [
    "## Accuracy for L1 and Noon Zero weights \n",
    "\n",
    "from sklearn.linear_model import LogisticRegression\n",
    "\n",
    "lr = LogisticRegression(C=4, penalty='l1')\n",
    "\n",
    "lr.fit(X_train, y_train)\n",
    "\n",
    "y_pred = lr.predict(X_test)\n",
    "\n",
    "print (\"Accuracy = \", (accuracy_score(y_test, y_pred) * 100))\n",
    "print(\"Precision \", (precision_score(y_test, y_pred)))\n",
    "print(\"Recall \", (recall_score(y_test, y_pred)))\n",
    "print(\"F1-Score \", (f1_score(y_test, y_pred)))\n",
    "print(\"Non Zero weights:\",np.count_nonzero(lr.coef_))\n",
    "\n",
    "df_conf_mat = pd.DataFrame(confusion_matrix(y_test, y_pred), range(2), range(2))\n",
    "\n",
    "sns.set(font_scale=1.4)\n",
    "sns.heatmap(df_conf_mat, annot=True, annot_kws={'size':16}, fmt='g')"
   ]
  },
  {
   "cell_type": "code",
   "execution_count": 39,
   "metadata": {},
   "outputs": [
    {
     "name": "stdout",
     "output_type": "stream",
     "text": [
      "Coefficients =  [ 0.60095234  0.5875567   0.56179211 ... -0.67376425  2.59297211\n",
      " -0.49469006]\n",
      "Size of Coeccifients =  (30393,)\n",
      "Max of Coefficient =  65.66589059240046\n",
      "Min of Coefficient =  -47.79165449700298\n",
      "Mean of Coefficients =  0.08593450089156617\n",
      "0.8459047619047619\n",
      "Wall time: 10.8 s\n"
     ]
    }
   ],
   "source": [
    "%%time \n",
    "\n",
    "################# Implementing LinearRegression\n",
    "\n",
    "from sklearn.linear_model import LinearRegression\n",
    "\n",
    "lr = LinearRegression(fit_intercept=True, normalize=True)\n",
    "\n",
    "lr.fit(X_train, y_train)\n",
    "\n",
    "y_pred = lr.predict(X_test)\n",
    "\n",
    "# print (\"Accuracy = \", (accuracy_score(y_test, y_pred) * 100))\n",
    "# print(\"Precision \", (precision_score(y_test, y_pred)))\n",
    "# print(\"Recall \", (recall_score(y_test, y_pred)))\n",
    "# print(\"F1-Score \", (f1_score(y_test, y_pred)))\n",
    "# print(\"Non Zero weights:\",np.count_nonzero(lr.coef_))\n",
    "print (\"Coefficients = \", lr.coef_)\n",
    "print (\"Size of Coeccifients = \", lr.coef_.shape)\n",
    "print (\"Max of Coefficient = \", max(lr.coef_))\n",
    "print (\"Min of Coefficient = \", min(lr.coef_))\n",
    "print (\"Mean of Coefficients = \", np.mean(lr.coef_))\n",
    "\n",
    "print (lr.intercept_)\n",
    "\n",
    "# df_conf_mat = pd.DataFrame(confusion_matrix(y_test, y_pred), range(2), range(2))\n",
    "\n",
    "# sns.set(font_scale=1.4)\n",
    "# sns.heatmap(df_conf_mat, annot=True, annot_kws={'size':16}, fmt='g')"
   ]
  },
  {
   "cell_type": "code",
   "execution_count": 43,
   "metadata": {},
   "outputs": [
    {
     "name": "stdout",
     "output_type": "stream",
     "text": [
      "Accuracy  87.97777777777777\n",
      "F1-Score  0.9274701702641104\n",
      "Non Zero weights: 4512\n"
     ]
    }
   ],
   "source": [
    "### Checking for Sparsity using L1 Regularization with increase/decrease in C (1/lambda)\n",
    "\n",
    "model = LogisticRegression(C= 1000, penalty= 'l1')\n",
    "\n",
    "model.fit(X_train,y_train)\n",
    "\n",
    "y_pred = model.predict(X_test)\n",
    "\n",
    "print(\"Accuracy \", (accuracy_score(y_test, y_pred)*100))\n",
    "print(\"F1-Score \", (f1_score(y_test, y_pred)))\n",
    "print(\"Non Zero weights:\", np.count_nonzero(model.coef_))"
   ]
  },
  {
   "cell_type": "code",
   "execution_count": 44,
   "metadata": {},
   "outputs": [
    {
     "name": "stdout",
     "output_type": "stream",
     "text": [
      "Accuracy  88.3\n",
      "F1-Score  0.9295793486256938\n",
      "Non Zero weights: 4110\n"
     ]
    }
   ],
   "source": [
    "model = LogisticRegression(C= 100, penalty= 'l1')\n",
    "\n",
    "model.fit(X_train,y_train)\n",
    "\n",
    "y_pred = model.predict(X_test)\n",
    "\n",
    "print(\"Accuracy \", (accuracy_score(y_test, y_pred)*100))\n",
    "print(\"F1-Score \", (f1_score(y_test, y_pred)))\n",
    "print(\"Non Zero weights:\", np.count_nonzero(model.coef_))"
   ]
  },
  {
   "cell_type": "code",
   "execution_count": 45,
   "metadata": {},
   "outputs": [
    {
     "name": "stdout",
     "output_type": "stream",
     "text": [
      "Accuracy  89.85555555555555\n",
      "F1-Score  0.9394039954868256\n",
      "Non Zero weights: 2649\n"
     ]
    }
   ],
   "source": [
    "model = LogisticRegression(C=10, penalty= 'l1')\n",
    "\n",
    "model.fit(X_train,y_train)\n",
    "\n",
    "y_pred = model.predict(X_test)\n",
    "\n",
    "print(\"Accuracy \", (accuracy_score(y_test, y_pred)*100))\n",
    "print(\"F1-Score \", (f1_score(y_test, y_pred)))\n",
    "print(\"Non Zero weights:\", np.count_nonzero(model.coef_))"
   ]
  },
  {
   "cell_type": "code",
   "execution_count": 46,
   "metadata": {},
   "outputs": [
    {
     "name": "stdout",
     "output_type": "stream",
     "text": [
      "Accuracy  90.23333333333333\n",
      "F1-Score  0.9427995054337217\n",
      "Non Zero weights: 507\n"
     ]
    }
   ],
   "source": [
    "model = LogisticRegression(C=1, penalty= 'l1')\n",
    "\n",
    "model.fit(X_train,y_train)\n",
    "\n",
    "y_pred = model.predict(X_test)\n",
    "\n",
    "print(\"Accuracy \", (accuracy_score(y_test, y_pred)*100))\n",
    "print(\"F1-Score \", (f1_score(y_test, y_pred)))\n",
    "print(\"Non Zero weights:\", np.count_nonzero(model.coef_))"
   ]
  },
  {
   "cell_type": "code",
   "execution_count": 47,
   "metadata": {},
   "outputs": [
    {
     "name": "stdout",
     "output_type": "stream",
     "text": [
      "Accuracy  85.64444444444445\n",
      "F1-Score  0.919531639262581\n",
      "Non Zero weights: 59\n"
     ]
    }
   ],
   "source": [
    "model = LogisticRegression(C=0.1, penalty= 'l1')\n",
    "\n",
    "model.fit(X_train,y_train)\n",
    "\n",
    "y_pred = model.predict(X_test)\n",
    "\n",
    "print(\"Accuracy \", (accuracy_score(y_test, y_pred)*100))\n",
    "print(\"F1-Score \", (f1_score(y_test, y_pred)))\n",
    "print(\"Non Zero weights:\", np.count_nonzero(model.coef_))"
   ]
  },
  {
   "cell_type": "code",
   "execution_count": 48,
   "metadata": {},
   "outputs": [],
   "source": [
    "### As C decreases (1/lambda) increases, and sparsity increases "
   ]
  },
  {
   "cell_type": "code",
   "execution_count": 51,
   "metadata": {},
   "outputs": [
    {
     "name": "stdout",
     "output_type": "stream",
     "text": [
      "Fitting 10 folds for each of 10 candidates, totalling 100 fits\n"
     ]
    },
    {
     "name": "stderr",
     "output_type": "stream",
     "text": [
      "[Parallel(n_jobs=1)]: Done 100 out of 100 | elapsed:   48.5s finished\n"
     ]
    },
    {
     "name": "stdout",
     "output_type": "stream",
     "text": [
      "Best Param :  {'penalty': 'l2', 'C': 10}\n",
      "Best Accuracy :  90.51859612362495\n",
      "Wall time: 49.6 s\n"
     ]
    }
   ],
   "source": [
    "%%time \n",
    "### RandomSearchCV \n",
    "\n",
    "from sklearn.model_selection import RandomizedSearchCV\n",
    "from sklearn.linear_model import LogisticRegression\n",
    "\n",
    "model = LogisticRegression()\n",
    "\n",
    "tscv = TimeSeriesSplit(n_splits=10)\n",
    "\n",
    "params = {\"C\":[1000, 100, 10, 1, 0.1, 0.001, 0.0001], \n",
    "         'penalty':['l1', 'l2']}\n",
    "\n",
    "rsv = RandomizedSearchCV(model, params, cv=tscv, verbose=1)\n",
    "\n",
    "rsv.fit(X_train, y_train)\n",
    "\n",
    "savetofile(rsv, \"LogisticRegression_unigram_RandomSearchCV\")\n",
    "\n",
    "print (\"Best Param : \", rsv.best_params_)\n",
    "print (\"Best Accuracy : \", rsv.best_score_ * 100)"
   ]
  },
  {
   "cell_type": "code",
   "execution_count": 52,
   "metadata": {},
   "outputs": [
    {
     "name": "stdout",
     "output_type": "stream",
     "text": [
      "Accuracy =  90.76666666666667\n",
      "Precision  0.9291165437847626\n",
      "Recall  0.9620948298955264\n",
      "F1-Score  0.9453181548989932\n",
      "Non Zero weights: 30393\n"
     ]
    },
    {
     "data": {
      "text/plain": [
       "<matplotlib.axes._subplots.AxesSubplot at 0x21f6bfe4828>"
      ]
     },
     "execution_count": 52,
     "metadata": {},
     "output_type": "execute_result"
    },
    {
     "data": {
      "image/png": "[encoded data removed]",
      "text/plain": [
       "<Figure size 432x288 with 2 Axes>"
      ]
     },
     "metadata": {},
     "output_type": "display_data"
    }
   ],
   "source": [
    "## Accuracy for L2 and Noon Zero weights \n",
    "\n",
    "from sklearn.linear_model import LogisticRegression\n",
    "\n",
    "lr = LogisticRegression(C=10, penalty='l2')\n",
    "\n",
    "lr.fit(X_train, y_train)\n",
    "\n",
    "y_pred = lr.predict(X_test)\n",
    "\n",
    "print (\"Accuracy = \", (accuracy_score(y_test, y_pred) * 100))\n",
    "print(\"Precision \", (precision_score(y_test, y_pred)))\n",
    "print(\"Recall \", (recall_score(y_test, y_pred)))\n",
    "print(\"F1-Score \", (f1_score(y_test, y_pred)))\n",
    "print(\"Non Zero weights:\",np.count_nonzero(lr.coef_))\n",
    "\n",
    "df_conf_mat = pd.DataFrame(confusion_matrix(y_test, y_pred), range(2), range(2))\n",
    "\n",
    "sns.set(font_scale=1.4)\n",
    "sns.heatmap(df_conf_mat, annot=True, annot_kws={'size':16}, fmt='g')"
   ]
  },
  {
   "cell_type": "code",
   "execution_count": 55,
   "metadata": {},
   "outputs": [
    {
     "data": {
      "image/png": "[encoded data removed]",
      "text/plain": [
       "<Figure size 432x288 with 1 Axes>"
      ]
     },
     "metadata": {},
     "output_type": "display_data"
    }
   ],
   "source": [
    "def plot_error_vs_c_r(rsv):\n",
    "    x1=[]\n",
    "    y1=[]\n",
    "    x2=[]\n",
    "    y2=[]\n",
    "    for a in rsv.grid_scores_:\n",
    "        if (a[0]['penalty']) == 'l1':\n",
    "            y1.append(1-a[1])\n",
    "            x1.append(a[0]['C'])\n",
    "        else:\n",
    "            y2.append(1-a[1])\n",
    "            x2.append(a[0]['C'])\n",
    "\n",
    "    ind1 = np.argsort(x1)\n",
    "    x1=np.array(x1)\n",
    "    y1=np.array(y1)\n",
    "    ind2 = np.argsort(x2)\n",
    "    x2=np.array(x2)\n",
    "    y2=np.array(y2)\n",
    "    plt.xlim(-10,1010)\n",
    "    plt.ylim(0,0.2)\n",
    "    plt.xlabel(\"C\",fontsize=15)\n",
    "    plt.ylabel(\"Misclassification Error\")\n",
    "    plt.title('Misclassification Error v/s C')\n",
    "    plt.plot(x1[ind1],y1[ind1],'b',label=\"L1\")\n",
    "    plt.plot(x2[ind2],y2[ind2],'r',label=\"L2\")\n",
    "    plt.legend()\n",
    "    plt.show()\n",
    "    \n",
    "plot_error_vs_c_r(rsv)"
   ]
  },
  {
   "cell_type": "code",
   "execution_count": 58,
   "metadata": {},
   "outputs": [
    {
     "name": "stdout",
     "output_type": "stream",
     "text": [
      "Accuracy : 90.76666666666667\n",
      "Non Zero Weights :  30393\n"
     ]
    }
   ],
   "source": [
    "####### Performm Pertubation Technique to determine Multicollinearity \n",
    "# Steps :\n",
    "    # Calculate weights of model \n",
    "    # Add less noise to the weights \n",
    "    # calculates weights again \n",
    "    # compare weights again, if they differ much then they are collinear \n",
    "    \n",
    "model = LogisticRegression(C=10, penalty='l2')\n",
    "model.fit(X_train, y_train)\n",
    "\n",
    "y_pred = model.predict(X_test)\n",
    "\n",
    "print (\"Accuracy :\", accuracy_score(y_test, y_pred) * 100)\n",
    "print (\"Non Zero Weights : \", np.count_nonzero(model.coef_))"
   ]
  },
  {
   "cell_type": "code",
   "execution_count": 65,
   "metadata": {},
   "outputs": [
    {
     "name": "stdout",
     "output_type": "stream",
     "text": [
      "[2.1850436433345455, 0.6496609392387752, 0.5928529175016587, 0.5152670235508705, 0.40702089310659695, 0.3894957353533963, 0.3873406722073803, 0.24508475019651044, 0.2439541041731301, 0.2008282680824051, 0.1441265112543827, 0.1390461883124917, 0.11471921334166985, 0.10883892282134452, 0.09801853125951852, 0.0823891716484149, 0.07711262145615123, 0.062184892742177963, 0.059874266789735335, 0.05701699351143326, 0.051227925117839156, 0.040082634804681494, 0.023315348694695814, 0.022375990909882806, 0.021303643461488875, 0.018650073610859328, 0.018494301742371117, 0.014995524557882394, 0.00990805314736219, 0.007919432178361796, 0.006239369868920298, 0.0055168262751722295, 0.004593193736688679, 0.0043155671069804, 0.0027688142935617826, 0.0025606392636713902, 0.0024572392845997387, 0.0012129523583354286, 0.00027403729530807, 2.5953608038699096e-05, -0.0022365087141550354, -0.050721727983899845, -0.07521241651012686, -0.20268790891331778, -0.24020671827647386, -0.25065051377286623, -0.5918667241107852, -0.8549842196300932, -1.0117198240870986, -1.2234703272951002]\n",
      "[ 4.00826348e-02  2.13036435e-02  5.51682628e-03  6.23936987e-03\n",
      "  2.33153487e-02  1.21295236e-03  5.12279251e-02  2.74037295e-04\n",
      "  1.86500736e-02  2.45084750e-01 -1.22347033e+00  3.89495735e-01\n",
      " -2.40206718e-01 -7.52124165e-02  1.84943017e-02  9.80185313e-02\n",
      "  2.45723928e-03  4.31556711e-03  5.92852918e-01  2.43954104e-01\n",
      "  5.70169935e-02  5.15267024e-01  7.71126215e-02 -5.07217280e-02\n",
      "  1.14719213e-01  4.07020893e-01  6.49660939e-01  1.39046188e-01\n",
      "  2.18504364e+00  9.90805315e-03  1.49955246e-02  2.59536080e-05\n",
      " -2.50650514e-01 -5.91866724e-01  2.56063926e-03 -2.02687909e-01\n",
      "  6.21848927e-02  1.44126511e-01  7.91943218e-03 -8.54984220e-01\n",
      "  8.23891716e-02  5.98742668e-02  2.76881429e-03 -1.01171982e+00\n",
      "  1.08838923e-01  3.87340672e-01 -2.23650871e-03  2.00828268e-01\n",
      "  2.23759909e-02  4.59319374e-03]\n"
     ]
    }
   ],
   "source": [
    "from scipy.sparse import find\n",
    "\n",
    "#Weights before adding random noise\n",
    "weights1 = find(model.coef_[0])[2]\n",
    "\n",
    "print(sorted(weights1[:50], reverse=True))\n",
    "print(weights1[:50])"
   ]
  },
  {
   "cell_type": "code",
   "execution_count": 67,
   "metadata": {},
   "outputs": [],
   "source": [
    "X_train_new = X_train\n",
    "\n",
    "## Generate Random Noise \n",
    "\n",
    "noise_data = np.random.uniform(low=-0.0001, high=0.0001, size=(find(X_train_new)[0].size, ))\n",
    "\n",
    "## Getting the positions of row and column and value of non-zero datapoints \n",
    "a,b,c = find(X_train_new)\n",
    "\n",
    "## Add random noise to Data points \n",
    "X_train_new[a, b] = noise_data + X_train_new[a, b]"
   ]
  },
  {
   "cell_type": "code",
   "execution_count": 78,
   "metadata": {},
   "outputs": [
    {
     "name": "stdout",
     "output_type": "stream",
     "text": [
      "Shape of Noise Data :  (663886,)\n",
      "<class 'numpy.ndarray'>\n",
      "<class 'scipy.sparse.csr.csr_matrix'>\n",
      "<class 'scipy.sparse.csr.csr_matrix'>\n"
     ]
    },
    {
     "data": {
      "text/plain": [
       "(21000, 30393)"
      ]
     },
     "execution_count": 78,
     "metadata": {},
     "output_type": "execute_result"
    }
   ],
   "source": [
    "print (\"Shape of Noise Data : \", noise_data.shape)\n",
    "print (type(noise_data))\n",
    "print (type(X_train_new))\n",
    "\n",
    "X_train_new.shape\n"
   ]
  },
  {
   "cell_type": "code",
   "execution_count": 80,
   "metadata": {},
   "outputs": [
    {
     "name": "stdout",
     "output_type": "stream",
     "text": [
      "Accuracy  90.75555555555556\n",
      "Non Zero weights :  30393\n"
     ]
    }
   ],
   "source": [
    "#Training on train data having random noise\n",
    "from sklearn.linear_model import LogisticRegression\n",
    "\n",
    "model = LogisticRegression(C= 10, penalty= 'l2')\n",
    "\n",
    "model.fit(X_train_new,y_train)\n",
    "\n",
    "y_pred = model.predict(X_test)\n",
    "\n",
    "print(\"Accuracy \", (accuracy_score(y_test, y_pred)*100))\n",
    "print(\"Non Zero weights : \", np.count_nonzero(model.coef_))"
   ]
  },
  {
   "cell_type": "code",
   "execution_count": 82,
   "metadata": {},
   "outputs": [
    {
     "name": "stdout",
     "output_type": "stream",
     "text": [
      "New Weights :  [ 4.00969419e-02  2.13285087e-02  5.51555800e-03  6.22489442e-03\n",
      "  2.33088324e-02  1.21321547e-03  5.12292241e-02  2.73811272e-04\n",
      "  1.86620551e-02  2.45174677e-01 -1.22328799e+00  3.88938764e-01\n",
      " -2.40295905e-01 -7.51731250e-02  1.84998825e-02  9.80373503e-02\n",
      "  2.45737012e-03  4.31036544e-03  5.92568864e-01  2.44335564e-01\n",
      "  5.70352846e-02  5.15293310e-01  7.71467841e-02 -5.06696968e-02\n",
      "  1.14783911e-01  4.06974039e-01  6.50049560e-01  1.38986548e-01\n",
      "  2.18560225e+00  9.85435392e-03  1.50846888e-02  2.59504154e-05\n",
      " -2.50737997e-01 -5.91887027e-01  2.55911048e-03 -2.03215560e-01\n",
      "  6.22366287e-02  1.44071805e-01  7.90467298e-03 -8.55352022e-01\n",
      "  8.24159413e-02  5.98607797e-02  2.77145588e-03 -1.01218048e+00\n",
      "  1.08813521e-01  3.87228893e-01 -1.53942072e-03  2.00658461e-01\n",
      "  2.24021037e-02  4.59900609e-03]\n"
     ]
    }
   ],
   "source": [
    "from scipy.sparse import find\n",
    "\n",
    "#Weights after adding random noise\n",
    "\n",
    "weights2 = find(model.coef_[0])[2]\n",
    "\n",
    "print(\"New Weights : \", weights2[:50])"
   ]
  },
  {
   "cell_type": "code",
   "execution_count": 86,
   "metadata": {},
   "outputs": [
    {
     "name": "stdout",
     "output_type": "stream",
     "text": [
      "30393\n"
     ]
    }
   ],
   "source": [
    "print(weights2.size)\n",
    "weights_diff = (abs(weights1 - weights2)/weights1) * 100"
   ]
  },
  {
   "cell_type": "code",
   "execution_count": 87,
   "metadata": {},
   "outputs": [
    {
     "name": "stdout",
     "output_type": "stream",
     "text": [
      "6\n"
     ]
    }
   ],
   "source": [
    "print(weights_diff[np.where(weights_diff > 25)].size)"
   ]
  },
  {
   "cell_type": "code",
   "execution_count": 88,
   "metadata": {},
   "outputs": [],
   "source": [
    "### TOtally 6 Weights are Multi Collinear "
   ]
  },
  {
   "cell_type": "code",
   "execution_count": 94,
   "metadata": {},
   "outputs": [
    {
     "name": "stdout",
     "output_type": "stream",
     "text": [
      "Positive \t\t\t\t\t\t Negative\n",
      "(-10.835917028023415, ' :: ', 'worst', '  ', 8.896396412832061, ' :: ', 'excel')\n",
      "(-9.706511824429297, ' :: ', 'terribl', '  ', 8.619153286132839, ' :: ', 'delici')\n",
      "(-9.491837684240538, ' :: ', 'horribl', '  ', 8.282771027630343, ' :: ', 'perfect')\n",
      "(-9.384973243207666, ' :: ', 'disappoint', '  ', 7.661593457222012, ' :: ', 'best')\n",
      "(-9.03448074276073, ' :: ', 'return', '  ', 7.5131949658226755, ' :: ', 'carri')\n",
      "(-8.961395184118338, ' :: ', 'aw', '  ', 7.41550143234091, ' :: ', 'great')\n",
      "(-8.113562107798401, ' :: ', 'threw', '  ', 7.283875323458035, ' :: ', 'hook')\n",
      "(-7.2188931399468315, ' :: ', 'wors', '  ', 7.202807117832649, ' :: ', 'addict')\n",
      "(-6.963094925654316, ' :: ', 'disgust', '  ', 6.722771855688228, ' :: ', 'amaz')\n",
      "(-6.90732941662969, ' :: ', 'weak', '  ', 6.375682396165699, ' :: ', 'smooth')\n",
      "(-6.5119293236254645, ' :: ', 'unfortun', '  ', 6.373678563842667, ' :: ', 'nice')\n",
      "(-6.506469656223164, ' :: ', 'gross', '  ', 6.303476000611472, ' :: ', 'worri')\n",
      "(-6.502068707950183, ' :: ', 'wouldnt', '  ', 6.209455536257588, ' :: ', 'often')\n",
      "(-6.326899689465879, ' :: ', 'earth', '  ', 6.180036577733144, ' :: ', 'beat')\n",
      "(-6.246458927347158, ' :: ', 'wast', '  ', 6.081564913571346, ' :: ', 'hesit')\n",
      "(-6.243977993231095, ' :: ', 'moldi', '  ', 5.990546759117997, ' :: ', 'tasti')\n",
      "(-6.180764786770939, ' :: ', 'tasteless', '  ', 5.932486797450192, ' :: ', 'pleasant')\n",
      "(-6.173270975702938, ' :: ', 'unless', '  ', 5.767540695773618, ' :: ', 'yummi')\n",
      "(-6.096785330407914, ' :: ', 'trash', '  ', 5.7493839852181505, ' :: ', 'wonder')\n",
      "(-6.0297908178588155, ' :: ', 'china', '  ', 5.7248937196767145, ' :: ', 'favorit')\n",
      "(-5.98618921717293, ' :: ', 'refund', '  ', 5.542968379750098, ' :: ', 'thank')\n",
      "(-5.908969393524772, ' :: ', 'mistak', '  ', 5.523466335665529, ' :: ', 'beauti')\n",
      "(-5.815709956624953, ' :: ', 'sorri', '  ', 5.491915939849271, ' :: ', 'happi')\n",
      "(-5.655081010819576, ' :: ', 'poor', '  ', 5.208391976738964, ' :: ', 'satisfi')\n",
      "(-5.63211793564242, ' :: ', 'neither', '  ', 5.200150179113156, ' :: ', 'fantast')\n"
     ]
    }
   ],
   "source": [
    "### Extract Important Features \n",
    "def get_important_features(vectorizer, model, n=25):\n",
    "    feature_names = vectorizer.get_feature_names()\n",
    "    coef_with_fns = sorted(zip(model.coef_[0], feature_names))\n",
    "    \n",
    "    top = zip(coef_with_fns[:n], coef_with_fns[:-(n + 1):-1])\n",
    "    \n",
    "    print (\"Positive \\t\\t\\t\\t\\t\\t Negative\")\n",
    "    \n",
    "    for (coef_1, fn_1), (coef_2, fn_2) in top:\n",
    "        print ((coef_1, \" :: \", fn_1, '  ', coef_2, \" :: \", fn_2))\n",
    "        \n",
    "get_important_features(uni_gram, model)"
   ]
  },
  {
   "cell_type": "code",
   "execution_count": 95,
   "metadata": {},
   "outputs": [
    {
     "name": "stdout",
     "output_type": "stream",
     "text": [
      "Train Data Size:  (21000, 435142)\n",
      "Test Data Size:  (9000, 435142)\n",
      "Wall time: 4.48 s\n"
     ]
    }
   ],
   "source": [
    "%%time\n",
    "########################################################333\n",
    "## TFIDF bi_gram LogisticRegression\n",
    "\n",
    "from sklearn.feature_extraction.text import TfidfVectorizer\n",
    "from sklearn.model_selection import train_test_split\n",
    "from sklearn import preprocessing\n",
    "\n",
    "#Breaking into Train and test\n",
    "X_train, X_test, y_train, y_test = train_test_split(df_sample['CleanedText'].values,\n",
    "                                                    df_sample['Score'].values,\n",
    "                                                    test_size=0.3,\n",
    "                                                    shuffle=False)\n",
    "\n",
    "\n",
    "tfidf = TfidfVectorizer(ngram_range=(1,2)) #Using bi-grams\n",
    "\n",
    "X_train = tfidf.fit_transform(X_train)\n",
    "\n",
    "#Normalize Data\n",
    "X_train = preprocessing.normalize(X_train)\n",
    "\n",
    "print(\"Train Data Size: \",X_train.shape)\n",
    "\n",
    "X_test = tfidf.transform(X_test)\n",
    "\n",
    "#Normalize Data\n",
    "X_test = preprocessing.normalize(X_test)\n",
    "\n",
    "print(\"Test Data Size: \",X_test.shape)"
   ]
  },
  {
   "cell_type": "code",
   "execution_count": 96,
   "metadata": {},
   "outputs": [
    {
     "name": "stdout",
     "output_type": "stream",
     "text": [
      "Wall time: 0 ns\n",
      "Fitting 10 folds for each of 16 candidates, totalling 160 fits\n"
     ]
    },
    {
     "name": "stderr",
     "output_type": "stream",
     "text": [
      "[Parallel(n_jobs=1)]: Done 160 out of 160 | elapsed:  2.7min finished\n"
     ]
    },
    {
     "name": "stdout",
     "output_type": "stream",
     "text": [
      "Best HyperParameter:  {'C': 10, 'penalty': 'l1'}\n",
      "Best Accuracy:  91.03195390256678\n"
     ]
    }
   ],
   "source": [
    "%time\n",
    "from sklearn.model_selection import GridSearchCV\n",
    "from sklearn.linear_model import LogisticRegression\n",
    "\n",
    "clf = LogisticRegression()\n",
    "\n",
    "#params we need to try on classifier\n",
    "param_grid = {'C':[1000, 100, 10, 1, 0.1, 0.01 , 0.001, 0.0001],\n",
    "             'penalty':['l1','l2']} \n",
    "\n",
    "tscv = TimeSeriesSplit(n_splits=10) #For time based splitting\n",
    "\n",
    "gsv = GridSearchCV(clf,param_grid,cv=tscv,verbose=1)\n",
    "\n",
    "gsv.fit(X_train,y_train)\n",
    "\n",
    "savetofile(gsv,\"LogisticRegression_birgram_TfIdf_gsv\")\n",
    "\n",
    "print(\"Best HyperParameter: \",gsv.best_params_)\n",
    "print(\"Best Accuracy: \", (gsv.best_score_*100))"
   ]
  },
  {
   "cell_type": "code",
   "execution_count": 97,
   "metadata": {},
   "outputs": [
    {
     "data": {
      "image/png": "[encoded data removed]",
      "text/plain": [
       "<Figure size 432x288 with 1 Axes>"
      ]
     },
     "metadata": {},
     "output_type": "display_data"
    }
   ],
   "source": [
    "gsv = openfromfile(\"LogisticRegression_birgram_TfIdf_gsv\")\n",
    "plot_error_vs_c(gsv)"
   ]
  },
  {
   "cell_type": "code",
   "execution_count": 98,
   "metadata": {},
   "outputs": [
    {
     "name": "stdout",
     "output_type": "stream",
     "text": [
      "Accuracy =  91.9\n",
      "Precision  0.9452742894910773\n",
      "Recall  0.9578087329225824\n",
      "F1-Score  0.9515002328521056\n",
      "Non Zero weights: 3449\n"
     ]
    },
    {
     "data": {
      "text/plain": [
       "<matplotlib.axes._subplots.AxesSubplot at 0x21f0366fa90>"
      ]
     },
     "execution_count": 98,
     "metadata": {},
     "output_type": "execute_result"
    },
    {
     "data": {
      "image/png": "[encoded data removed]",
      "text/plain": [
       "<Figure size 432x288 with 2 Axes>"
      ]
     },
     "metadata": {},
     "output_type": "display_data"
    }
   ],
   "source": [
    "### Accuracy TfIdf, Bigram, GridSearchCV L1, C=10\n",
    "\n",
    "#### Accuracy \n",
    "\n",
    "from sklearn.linear_model import LogisticRegression\n",
    "\n",
    "lr = LogisticRegression(C=10, penalty='l1')\n",
    "\n",
    "lr.fit(X_train, y_train)\n",
    "\n",
    "y_pred = lr.predict(X_test)\n",
    "\n",
    "print (\"Accuracy = \", (accuracy_score(y_test, y_pred) * 100))\n",
    "print(\"Precision \", (precision_score(y_test, y_pred)))\n",
    "print(\"Recall \", (recall_score(y_test, y_pred)))\n",
    "print(\"F1-Score \", (f1_score(y_test, y_pred)))\n",
    "print(\"Non Zero weights:\",np.count_nonzero(lr.coef_))\n",
    "\n",
    "df_conf_mat = pd.DataFrame(confusion_matrix(y_test, y_pred), range(2), range(2))\n",
    "\n",
    "sns.set(font_scale=1.4)\n",
    "sns.heatmap(df_conf_mat, annot=True, annot_kws={'size':16}, fmt='g')"
   ]
  },
  {
   "cell_type": "code",
   "execution_count": 102,
   "metadata": {},
   "outputs": [
    {
     "name": "stdout",
     "output_type": "stream",
     "text": [
      "Fitting 10 folds for each of 10 candidates, totalling 100 fits\n"
     ]
    },
    {
     "name": "stderr",
     "output_type": "stream",
     "text": [
      "[Parallel(n_jobs=1)]: Done 100 out of 100 | elapsed:  1.0min finished\n"
     ]
    },
    {
     "name": "stdout",
     "output_type": "stream",
     "text": [
      "Best HyperParameter:  {'penalty': 'l1', 'C': 10}\n",
      "Best Accuracy:  91.03195390256678\n",
      "Wall time: 1min 2s\n"
     ]
    }
   ],
   "source": [
    "%%time\n",
    "#### Use RandomSearch For Hyper Parameter Tuning \n",
    "from sklearn.model_selection import RandomizedSearchCV\n",
    "from sklearn.linear_model import LogisticRegression\n",
    "\n",
    "clf = LogisticRegression()\n",
    "\n",
    "#params we need to try on classifier\n",
    "param_grid = {'C':[1000, 100, 10, 1, 0.1, 0.01, 0.001, 0.0001]\n",
    "              ,'penalty':['l1','l2']}\n",
    "\n",
    "tscv = TimeSeriesSplit(n_splits=10) #For time based splitting\n",
    "\n",
    "rsv = RandomizedSearchCV(clf,param_grid,cv=tscv,verbose=1)\n",
    "rsv.fit(X_train,y_train)\n",
    "\n",
    "savetofile(gsv,\"LogisticRegression_Bigram_TfIdf_RSV\")\n",
    "\n",
    "print(\"Best HyperParameter: \", rsv.best_params_)\n",
    "print(\"Best Accuracy: \", (rsv.best_score_*100))"
   ]
  },
  {
   "cell_type": "code",
   "execution_count": 103,
   "metadata": {},
   "outputs": [
    {
     "data": {
      "image/png": "[encoded data removed]",
      "text/plain": [
       "<Figure size 432x288 with 1 Axes>"
      ]
     },
     "metadata": {},
     "output_type": "display_data"
    }
   ],
   "source": [
    "rsv = openfromfile(\"LogisticRegression_Bigram_TfIdf_RSV\")\n",
    "plot_error_vs_c_r(rsv)"
   ]
  },
  {
   "cell_type": "code",
   "execution_count": 104,
   "metadata": {},
   "outputs": [
    {
     "name": "stdout",
     "output_type": "stream",
     "text": [
      "Accuracy =  91.9\n",
      "Precision  0.9453920401956896\n",
      "Recall  0.9576747923921779\n",
      "F1-Score  0.951493778694524\n",
      "Non Zero weights: 3437\n"
     ]
    },
    {
     "data": {
      "text/plain": [
       "<matplotlib.axes._subplots.AxesSubplot at 0x21f7bb42ac8>"
      ]
     },
     "execution_count": 104,
     "metadata": {},
     "output_type": "execute_result"
    },
    {
     "data": {
      "image/png": "[encoded data removed]",
      "text/plain": [
       "<Figure size 432x288 with 2 Axes>"
      ]
     },
     "metadata": {},
     "output_type": "display_data"
    }
   ],
   "source": [
    "#### Accuracy TfIDf, BiGram, RandomSearchCv, L1, c=10\n",
    "\n",
    "from sklearn.linear_model import LogisticRegression\n",
    "\n",
    "lr = LogisticRegression(C=10, penalty='l1')\n",
    "\n",
    "lr.fit(X_train, y_train)\n",
    "\n",
    "y_pred = lr.predict(X_test)\n",
    "\n",
    "print (\"Accuracy = \", (accuracy_score(y_test, y_pred) * 100))\n",
    "print(\"Precision \", (precision_score(y_test, y_pred)))\n",
    "print(\"Recall \", (recall_score(y_test, y_pred)))\n",
    "print(\"F1-Score \", (f1_score(y_test, y_pred)))\n",
    "print(\"Non Zero weights:\",np.count_nonzero(lr.coef_))\n",
    "\n",
    "df_conf_mat = pd.DataFrame(confusion_matrix(y_test, y_pred), range(2), range(2))\n",
    "\n",
    "sns.set(font_scale=1.4)\n",
    "sns.heatmap(df_conf_mat, annot=True, annot_kws={'size':16}, fmt='g')"
   ]
  },
  {
   "cell_type": "code",
   "execution_count": 110,
   "metadata": {},
   "outputs": [
    {
     "name": "stdout",
     "output_type": "stream",
     "text": [
      "Accuracy : 92.08888888888889\n",
      "Non Zero Weights : 435142\n"
     ]
    },
    {
     "data": {
      "text/plain": [
       "435142"
      ]
     },
     "execution_count": 110,
     "metadata": {},
     "output_type": "execute_result"
    }
   ],
   "source": [
    "### Pertubation Test \n",
    "\n",
    "from sklearn.linear_model import LogisticRegression\n",
    "\n",
    "model = LogisticRegression(C=100, penalty='l2')\n",
    "model.fit(X_train, y_train)\n",
    "\n",
    "y_pred = model.predict(X_test)\n",
    "\n",
    "print (\"Accuracy :\", accuracy_score(y_test, y_pred) * 100)\n",
    "print (\"Non Zero Weights :\", np.count_nonzero(model.coef_))\n",
    "len (model.coef_[0])\n"
   ]
  },
  {
   "cell_type": "code",
   "execution_count": 113,
   "metadata": {},
   "outputs": [
    {
     "data": {
      "text/plain": [
       "[0.5834004633350846,\n",
       " 0.5001782348611153,\n",
       " 0.4756497399371605,\n",
       " 0.4156813746825652,\n",
       " 0.39642018165119347,\n",
       " 0.3777081820412953,\n",
       " 0.374375059011512,\n",
       " 0.20517544986128272,\n",
       " 0.20517544986128272,\n",
       " 0.14966424168745812,\n",
       " 0.14966424168745812,\n",
       " 0.11965753781633322,\n",
       " 0.10500016584394783,\n",
       " 0.0916421961575452,\n",
       " 0.0916421961575452,\n",
       " 0.08900805817606816,\n",
       " 0.08900805817606816,\n",
       " 0.07217886443549439,\n",
       " 0.07129062736382294,\n",
       " 0.06670120213014813,\n",
       " 0.05109421429093516,\n",
       " 0.049617383934720774,\n",
       " 0.049617383934720774,\n",
       " 0.04019912843927486,\n",
       " 0.03734431207941917,\n",
       " 0.02197139462766901,\n",
       " 0.01799145918163809,\n",
       " 0.01585235039775456,\n",
       " 0.012817522081566557,\n",
       " 0.012817522081566557,\n",
       " 0.012071833768453673,\n",
       " 0.007433172240802562,\n",
       " 0.007433172240802562,\n",
       " 0.003642029374461493,\n",
       " 0.003642029374461493,\n",
       " 0.001685532701076989,\n",
       " 0.001685532701076989,\n",
       " 0.0012421020911540645,\n",
       " 0.0012421020911540645,\n",
       " -0.01584751579319062,\n",
       " -0.4305404681559803,\n",
       " -0.4305404681559803,\n",
       " -0.4321544048983737,\n",
       " -0.4321544048983737,\n",
       " -0.46079304926681885,\n",
       " -0.49433024739272324,\n",
       " -0.5292354201221501,\n",
       " -0.9555736810771065,\n",
       " -0.9555736810771065,\n",
       " -1.911147362154213]"
      ]
     },
     "execution_count": 113,
     "metadata": {},
     "output_type": "execute_result"
    }
   ],
   "source": [
    "from scipy.sparse import find\n",
    "\n",
    "## Weights before adding Random Noise \n",
    "weights1 = find(model.coef_[0])[2]\n",
    "sorted(weights1[:50], reverse=True)"
   ]
  },
  {
   "cell_type": "code",
   "execution_count": 114,
   "metadata": {},
   "outputs": [],
   "source": [
    "### Adding Norise to the data \n",
    "\n",
    "X_train_new = X_train\n",
    "\n",
    "noise_data = np.random.uniform(low=-0.0001, high=0.0001, size=find(X_train_new)[0].size,)\n",
    "\n",
    "## Getting positions of rowm column and value of non-zero datapoints \n",
    "a, b, c= find(X_train_new)\n",
    "\n",
    "## Add noise to the data \n",
    "\n",
    "X_train_new[a, b] = X_train_new[a, b] + noise_data"
   ]
  },
  {
   "cell_type": "code",
   "execution_count": 116,
   "metadata": {},
   "outputs": [
    {
     "name": "stdout",
     "output_type": "stream",
     "text": [
      "Accuracy  91.5111111111111\n",
      "Non Zero weights :  435142\n"
     ]
    }
   ],
   "source": [
    "\n",
    "#Training on train data having random noise\n",
    "from sklearn.linear_model import LogisticRegression\n",
    "\n",
    "model = LogisticRegression(C= 10, penalty= 'l2')\n",
    "model.fit(X_train_new,y_train)\n",
    "\n",
    "y_pred = model.predict(X_test)\n",
    "\n",
    "print(\"Accuracy \", (accuracy_score(y_test, y_pred)*100))\n",
    "print(\"Non Zero weights : \",np.count_nonzero(model.coef_))"
   ]
  },
  {
   "cell_type": "code",
   "execution_count": 118,
   "metadata": {},
   "outputs": [
    {
     "data": {
      "text/plain": [
       "[0.21121082540286942,\n",
       " 0.19618299976378123,\n",
       " 0.19242285220241473,\n",
       " 0.16158159277218673,\n",
       " 0.16083611744686574,\n",
       " 0.16017756530065447,\n",
       " 0.15640241937418517,\n",
       " 0.10255737023137884,\n",
       " 0.10251434324033426,\n",
       " 0.07792457858566311,\n",
       " 0.07792111269070634,\n",
       " 0.0665345017545311,\n",
       " 0.04681718337839555,\n",
       " 0.04679716106188223,\n",
       " 0.04410993064832433,\n",
       " 0.04410781980470464,\n",
       " 0.043744408559277234,\n",
       " 0.04078299889947916,\n",
       " 0.040727472201501004,\n",
       " 0.03890579619440841,\n",
       " 0.03159869936273969,\n",
       " 0.0315732180067302,\n",
       " 0.030024294911607605,\n",
       " 0.025129424685576458,\n",
       " 0.015964650069254557,\n",
       " 0.015932657402016447,\n",
       " 0.012338658357429646,\n",
       " 0.010954827418022527,\n",
       " 0.010941017875520728,\n",
       " 0.010384630843149745,\n",
       " 0.008676206697011427,\n",
       " 0.00867254882322531,\n",
       " 0.004341977723902828,\n",
       " 0.004339373316795045,\n",
       " 0.00301715283326099,\n",
       " 0.0030164346183231966,\n",
       " 0.002258525105317153,\n",
       " 0.002255421451592344,\n",
       " -0.0019240198309325041,\n",
       " -0.007457810549536157,\n",
       " -0.22037141588565815,\n",
       " -0.22051158081705,\n",
       " -0.22678448340181107,\n",
       " -0.23211769814289654,\n",
       " -0.2321370642048482,\n",
       " -0.24884142785006394,\n",
       " -0.27070769603912187,\n",
       " -0.47204685115981704,\n",
       " -0.47205724448034325,\n",
       " -0.9440166727084214]"
      ]
     },
     "execution_count": 118,
     "metadata": {},
     "output_type": "execute_result"
    }
   ],
   "source": [
    "### Compute Weights after training with Noise \n",
    "from scipy.sparse import find\n",
    "\n",
    "weights2 = find(model.coef_[0])[2]\n",
    "sorted(weights2[:50], reverse=True)"
   ]
  },
  {
   "cell_type": "code",
   "execution_count": 119,
   "metadata": {},
   "outputs": [],
   "source": [
    "weights_diff = (abs(weights1 - weights2) / weights2)  * 100"
   ]
  },
  {
   "cell_type": "code",
   "execution_count": 120,
   "metadata": {},
   "outputs": [
    {
     "name": "stdout",
     "output_type": "stream",
     "text": [
      "267037\n"
     ]
    }
   ],
   "source": [
    "print (weights_diff[np.where(weights_diff > 30)].size)"
   ]
  },
  {
   "cell_type": "code",
   "execution_count": 123,
   "metadata": {},
   "outputs": [
    {
     "name": "stdout",
     "output_type": "stream",
     "text": [
      "Positive \t\t\t\t\t\t Negative\n",
      "(-15.444396013107838, ' :: ', 'disappoint', '  ', 16.63525540168391, ' :: ', 'great')\n",
      "(-12.024556643239482, ' :: ', 'not', '  ', 13.256650408807763, ' :: ', 'love')\n",
      "(-9.973921996871717, ' :: ', 'return', '  ', 12.632018455749781, ' :: ', 'best')\n",
      "(-9.373536157716321, ' :: ', 'worst', '  ', 11.426281601149942, ' :: ', 'delici')\n",
      "(-9.009990320606716, ' :: ', 'terribl', '  ', 11.3446590541702, ' :: ', 'good')\n",
      "(-8.758024682642631, ' :: ', 'horribl', '  ', 9.721397215407181, ' :: ', 'perfect')\n",
      "(-7.60797441020799, ' :: ', 'bad', '  ', 9.009268833707857, ' :: ', 'excel')\n",
      "(-7.581766101410727, ' :: ', 'aw', '  ', 8.86830592740675, ' :: ', 'nice')\n",
      "(-7.578576119176755, ' :: ', 'weak', '  ', 8.053172149528507, ' :: ', 'favorit')\n",
      "(-7.463707067925659, ' :: ', 'money', '  ', 6.664661057245743, ' :: ', 'enjoy')\n",
      "(-7.308199861244486, ' :: ', 'wast', '  ', 6.656191888454779, ' :: ', 'wonder')\n",
      "(-7.22988251039519, ' :: ', 'not good', '  ', 6.526685514518322, ' :: ', 'amaz')\n",
      "(-7.1685429670576175, ' :: ', 'threw', '  ', 6.521551042580798, ' :: ', 'tasti')\n",
      "(-6.9365279526668, ' :: ', 'not worth', '  ', 6.414849052107229, ' :: ', 'happi')\n",
      "(-6.533029976359013, ' :: ', 'wouldnt', '  ', 6.387651874269379, ' :: ', 'thank')\n",
      "(-6.45895280914386, ' :: ', 'not recommend', '  ', 6.253109043012779, ' :: ', 'find')\n",
      "(-6.378517339182602, ' :: ', 'unfortun', '  ', 6.053272608219105, ' :: ', 'not disappoint')\n",
      "(-5.953661713850272, ' :: ', 'not buy', '  ', 6.025238325124191, ' :: ', 'littl')\n",
      "(-5.9268388447927025, ' :: ', 'would not', '  ', 5.837524808486299, ' :: ', 'easi')\n",
      "(-5.92017512335294, ' :: ', 'disgust', '  ', 5.832347825938922, ' :: ', 'high recommend')\n",
      "(-5.833221520919005, ' :: ', 'throw', '  ', 5.711481494886086, ' :: ', 'carri')\n",
      "(-5.811176039165419, ' :: ', 'tast', '  ', 5.599976018686582, ' :: ', 'smooth')\n",
      "(-5.7631608930095215, ' :: ', 'poor', '  ', 5.578156421647609, ' :: ', 'alway')\n",
      "(-5.760515733886067, ' :: ', 'wont buy', '  ', 5.240417058689365, ' :: ', 'addict')\n",
      "(-5.561795963176292, ' :: ', 'tast like', '  ', 5.236165599223926, ' :: ', 'quick')\n"
     ]
    }
   ],
   "source": [
    "### 267027 features are collinear out of 435142 FEatures \n",
    "\n",
    "get_important_features(tfidf, model)"
   ]
  },
  {
   "cell_type": "code",
   "execution_count": null,
   "metadata": {},
   "outputs": [],
   "source": []
  }
 ],
 "metadata": {
  "kernelspec": {
   "display_name": "Python 3",
   "language": "python",
   "name": "python3"
  },
  "language_info": {
   "codemirror_mode": {
    "name": "ipython",
    "version": 3
   },
   "file_extension": ".py",
   "mimetype": "text/x-python",
   "name": "python",
   "nbconvert_exporter": "python",
   "pygments_lexer": "ipython3",
   "version": "3.7.0"
  }
 },
 "nbformat": 4,
 "nbformat_minor": 2
}
