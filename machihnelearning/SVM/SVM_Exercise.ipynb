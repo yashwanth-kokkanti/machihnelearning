{
 "cells": [
  {
   "cell_type": "code",
   "execution_count": 1,
   "metadata": {},
   "outputs": [],
   "source": [
    "## Logistic Regression on Amazon FFR \n",
    "\n",
    "\n",
    "# Data source - URL https://www.kaggle.com/snap/amazon-fine-food-reviews\n",
    "\n",
    "## Data Contains reviews of fine food from Amazon. \n",
    "## It includes information about product, user, ratings, text review. \n",
    "\n"
   ]
  },
  {
   "cell_type": "code",
   "execution_count": 2,
   "metadata": {},
   "outputs": [],
   "source": [
    "## Objective: \n",
    "    # 1. Apply SVM (RBF) on Amazon FFR using BOW, Word2Vec, TFIDF, AvgWord2Vec\n",
    "    # 2. Metrics: Accuracy, precision, recall, f1-score etc. Confusion matrix\n",
    "    # 3. Use GridSearchCV and RandomSearchCV to find out best Params like \"C\", \"sigma(in RBF)\"\n",
    "\n",
    "## Predict the Polarity of a given review"
   ]
  },
  {
   "cell_type": "code",
   "execution_count": 3,
   "metadata": {},
   "outputs": [],
   "source": [
    "## Columns \n",
    "    # 1.Id\n",
    "    # 2.ProductId - unique identifier for the product\n",
    "    # 3.UserId - unqiue identifier for the user\n",
    "    # 4.ProfileName\n",
    "    # 5.HelpfulnessNumerator - number of users who found the review helpful\n",
    "    # 6.HelpfulnessDenominator - number of users who indicated whether they found the review helpful or not\n",
    "    # 7.Score - rating between 1 and 5\n",
    "    # 8.Time - timestamp for the review\n",
    "    # 9.Summary - brief summary of the review\n",
    "    # 10.Text - text of the review"
   ]
  },
  {
   "cell_type": "code",
   "execution_count": 4,
   "metadata": {},
   "outputs": [
    {
     "name": "stderr",
     "output_type": "stream",
     "text": [
      "C:\\ProgramData\\Anaconda3\\lib\\site-packages\\gensim\\utils.py:1197: UserWarning: detected Windows; aliasing chunkize to chunkize_serial\n",
      "  warnings.warn(\"detected Windows; aliasing chunkize to chunkize_serial\")\n"
     ]
    }
   ],
   "source": [
    "#######################################################################\n",
    "\n",
    "# Lets start with imports \n",
    "\n",
    "\n",
    "import numpy as np\n",
    "import pandas as pd\n",
    "import matplotlib.pyplot as plt\n",
    "import sqlite3 as sql\n",
    "import seaborn as sns\n",
    "from time import time\n",
    "import random\n",
    "import gensim\n",
    "import warnings\n",
    "\n",
    "\n",
    "from sklearn.metrics import accuracy_score\n",
    "from sklearn.metrics import confusion_matrix\n",
    "from sklearn.metrics import precision_score\n",
    "from sklearn.metrics import f1_score\n",
    "from sklearn.metrics import recall_score\n",
    "\n",
    "warnings.filterwarnings(\"ignore\")\n",
    "\n",
    "%matplotlib inline "
   ]
  },
  {
   "cell_type": "code",
   "execution_count": 5,
   "metadata": {},
   "outputs": [
    {
     "data": {
      "text/html": [
       "<div>\n",
       "<style scoped>\n",
       "    .dataframe tbody tr th:only-of-type {\n",
       "        vertical-align: middle;\n",
       "    }\n",
       "\n",
       "    .dataframe tbody tr th {\n",
       "        vertical-align: top;\n",
       "    }\n",
       "\n",
       "    .dataframe thead th {\n",
       "        text-align: right;\n",
       "    }\n",
       "</style>\n",
       "<table border=\"1\" class=\"dataframe\">\n",
       "  <thead>\n",
       "    <tr style=\"text-align: right;\">\n",
       "      <th></th>\n",
       "      <th>index</th>\n",
       "      <th>Id</th>\n",
       "      <th>ProductId</th>\n",
       "      <th>UserId</th>\n",
       "      <th>ProfileName</th>\n",
       "      <th>HelpfulnessNumerator</th>\n",
       "      <th>HelpfulnessDenominator</th>\n",
       "      <th>Score</th>\n",
       "      <th>Time</th>\n",
       "      <th>Summary</th>\n",
       "      <th>Text</th>\n",
       "      <th>CleanedText</th>\n",
       "      <th>CleanedText_NoStem</th>\n",
       "    </tr>\n",
       "  </thead>\n",
       "  <tbody>\n",
       "    <tr>\n",
       "      <th>0</th>\n",
       "      <td>0</td>\n",
       "      <td>1</td>\n",
       "      <td>B001E4KFG0</td>\n",
       "      <td>A3SGXH7AUHU8GW</td>\n",
       "      <td>delmartian</td>\n",
       "      <td>1</td>\n",
       "      <td>1</td>\n",
       "      <td>Positive</td>\n",
       "      <td>1303862400</td>\n",
       "      <td>Good Quality Dog Food</td>\n",
       "      <td>I have bought several of the Vitality canned d...</td>\n",
       "      <td>b'bought sever vital can dog food product foun...</td>\n",
       "      <td>b''</td>\n",
       "    </tr>\n",
       "    <tr>\n",
       "      <th>1</th>\n",
       "      <td>1</td>\n",
       "      <td>2</td>\n",
       "      <td>B00813GRG4</td>\n",
       "      <td>A1D87F6ZCVE5NK</td>\n",
       "      <td>dll pa</td>\n",
       "      <td>0</td>\n",
       "      <td>0</td>\n",
       "      <td>Negative</td>\n",
       "      <td>1346976000</td>\n",
       "      <td>Not as Advertised</td>\n",
       "      <td>Product arrived labeled as Jumbo Salted Peanut...</td>\n",
       "      <td>b'product arriv label jumbo salt peanutsth pea...</td>\n",
       "      <td>b''</td>\n",
       "    </tr>\n",
       "    <tr>\n",
       "      <th>2</th>\n",
       "      <td>2</td>\n",
       "      <td>3</td>\n",
       "      <td>B000LQOCH0</td>\n",
       "      <td>ABXLMWJIXXAIN</td>\n",
       "      <td>Natalia Corres \"Natalia Corres\"</td>\n",
       "      <td>1</td>\n",
       "      <td>1</td>\n",
       "      <td>Positive</td>\n",
       "      <td>1219017600</td>\n",
       "      <td>\"Delight\" says it all</td>\n",
       "      <td>This is a confection that has been around a fe...</td>\n",
       "      <td>b'confect around centuri light pillowi citrus ...</td>\n",
       "      <td>b''</td>\n",
       "    </tr>\n",
       "    <tr>\n",
       "      <th>3</th>\n",
       "      <td>3</td>\n",
       "      <td>4</td>\n",
       "      <td>B000UA0QIQ</td>\n",
       "      <td>A395BORC6FGVXV</td>\n",
       "      <td>Karl</td>\n",
       "      <td>3</td>\n",
       "      <td>3</td>\n",
       "      <td>Negative</td>\n",
       "      <td>1307923200</td>\n",
       "      <td>Cough Medicine</td>\n",
       "      <td>If you are looking for the secret ingredient i...</td>\n",
       "      <td>b'look secret ingredi robitussin believ found ...</td>\n",
       "      <td>b''</td>\n",
       "    </tr>\n",
       "    <tr>\n",
       "      <th>4</th>\n",
       "      <td>4</td>\n",
       "      <td>5</td>\n",
       "      <td>B006K2ZZ7K</td>\n",
       "      <td>A1UQRSCLF8GW1T</td>\n",
       "      <td>Michael D. Bigham \"M. Wassir\"</td>\n",
       "      <td>0</td>\n",
       "      <td>0</td>\n",
       "      <td>Positive</td>\n",
       "      <td>1350777600</td>\n",
       "      <td>Great taffy</td>\n",
       "      <td>Great taffy at a great price.  There was a wid...</td>\n",
       "      <td>b'great taffi great price wide assort yummi ta...</td>\n",
       "      <td>b''</td>\n",
       "    </tr>\n",
       "  </tbody>\n",
       "</table>\n",
       "</div>"
      ],
      "text/plain": [
       "   index  Id   ProductId          UserId                      ProfileName  \\\n",
       "0      0   1  B001E4KFG0  A3SGXH7AUHU8GW                       delmartian   \n",
       "1      1   2  B00813GRG4  A1D87F6ZCVE5NK                           dll pa   \n",
       "2      2   3  B000LQOCH0   ABXLMWJIXXAIN  Natalia Corres \"Natalia Corres\"   \n",
       "3      3   4  B000UA0QIQ  A395BORC6FGVXV                             Karl   \n",
       "4      4   5  B006K2ZZ7K  A1UQRSCLF8GW1T    Michael D. Bigham \"M. Wassir\"   \n",
       "\n",
       "   HelpfulnessNumerator  HelpfulnessDenominator     Score        Time  \\\n",
       "0                     1                       1  Positive  1303862400   \n",
       "1                     0                       0  Negative  1346976000   \n",
       "2                     1                       1  Positive  1219017600   \n",
       "3                     3                       3  Negative  1307923200   \n",
       "4                     0                       0  Positive  1350777600   \n",
       "\n",
       "                 Summary                                               Text  \\\n",
       "0  Good Quality Dog Food  I have bought several of the Vitality canned d...   \n",
       "1      Not as Advertised  Product arrived labeled as Jumbo Salted Peanut...   \n",
       "2  \"Delight\" says it all  This is a confection that has been around a fe...   \n",
       "3         Cough Medicine  If you are looking for the secret ingredient i...   \n",
       "4            Great taffy  Great taffy at a great price.  There was a wid...   \n",
       "\n",
       "                                         CleanedText CleanedText_NoStem  \n",
       "0  b'bought sever vital can dog food product foun...                b''  \n",
       "1  b'product arriv label jumbo salt peanutsth pea...                b''  \n",
       "2  b'confect around centuri light pillowi citrus ...                b''  \n",
       "3  b'look secret ingredi robitussin believ found ...                b''  \n",
       "4  b'great taffi great price wide assort yummi ta...                b''  "
      ]
     },
     "execution_count": 5,
     "metadata": {},
     "output_type": "execute_result"
    }
   ],
   "source": [
    "## Load from SQL file (sqlite)\n",
    "\n",
    "con = sql.connect('final.sqlite') ## This file obtained after text preprocessing in previous chapter \n",
    "\n",
    "df = pd.read_sql_query(''' SELECT * from Reviews''', con)\n",
    "\n",
    "df.head()"
   ]
  },
  {
   "cell_type": "code",
   "execution_count": 6,
   "metadata": {},
   "outputs": [
    {
     "name": "stdout",
     "output_type": "stream",
     "text": [
      "(364171, 13)\n",
      "364171\n"
     ]
    },
    {
     "data": {
      "text/html": [
       "<div>\n",
       "<style scoped>\n",
       "    .dataframe tbody tr th:only-of-type {\n",
       "        vertical-align: middle;\n",
       "    }\n",
       "\n",
       "    .dataframe tbody tr th {\n",
       "        vertical-align: top;\n",
       "    }\n",
       "\n",
       "    .dataframe thead th {\n",
       "        text-align: right;\n",
       "    }\n",
       "</style>\n",
       "<table border=\"1\" class=\"dataframe\">\n",
       "  <thead>\n",
       "    <tr style=\"text-align: right;\">\n",
       "      <th></th>\n",
       "      <th>index</th>\n",
       "      <th>Id</th>\n",
       "      <th>HelpfulnessNumerator</th>\n",
       "      <th>HelpfulnessDenominator</th>\n",
       "      <th>Time</th>\n",
       "    </tr>\n",
       "  </thead>\n",
       "  <tbody>\n",
       "    <tr>\n",
       "      <th>count</th>\n",
       "      <td>364171.000000</td>\n",
       "      <td>364171.000000</td>\n",
       "      <td>364171.000000</td>\n",
       "      <td>364171.000000</td>\n",
       "      <td>3.641710e+05</td>\n",
       "    </tr>\n",
       "    <tr>\n",
       "      <th>mean</th>\n",
       "      <td>241825.377603</td>\n",
       "      <td>261814.561014</td>\n",
       "      <td>1.739021</td>\n",
       "      <td>2.186841</td>\n",
       "      <td>1.296135e+09</td>\n",
       "    </tr>\n",
       "    <tr>\n",
       "      <th>std</th>\n",
       "      <td>154519.869452</td>\n",
       "      <td>166958.768333</td>\n",
       "      <td>6.723921</td>\n",
       "      <td>7.348482</td>\n",
       "      <td>4.864772e+07</td>\n",
       "    </tr>\n",
       "    <tr>\n",
       "      <th>min</th>\n",
       "      <td>0.000000</td>\n",
       "      <td>1.000000</td>\n",
       "      <td>0.000000</td>\n",
       "      <td>0.000000</td>\n",
       "      <td>9.393408e+08</td>\n",
       "    </tr>\n",
       "    <tr>\n",
       "      <th>25%</th>\n",
       "      <td>104427.500000</td>\n",
       "      <td>113379.500000</td>\n",
       "      <td>0.000000</td>\n",
       "      <td>0.000000</td>\n",
       "      <td>1.270858e+09</td>\n",
       "    </tr>\n",
       "    <tr>\n",
       "      <th>50%</th>\n",
       "      <td>230033.000000</td>\n",
       "      <td>249445.000000</td>\n",
       "      <td>0.000000</td>\n",
       "      <td>1.000000</td>\n",
       "      <td>1.311379e+09</td>\n",
       "    </tr>\n",
       "    <tr>\n",
       "      <th>75%</th>\n",
       "      <td>376763.500000</td>\n",
       "      <td>407408.500000</td>\n",
       "      <td>2.000000</td>\n",
       "      <td>2.000000</td>\n",
       "      <td>1.332893e+09</td>\n",
       "    </tr>\n",
       "    <tr>\n",
       "      <th>max</th>\n",
       "      <td>525813.000000</td>\n",
       "      <td>568454.000000</td>\n",
       "      <td>866.000000</td>\n",
       "      <td>878.000000</td>\n",
       "      <td>1.351210e+09</td>\n",
       "    </tr>\n",
       "  </tbody>\n",
       "</table>\n",
       "</div>"
      ],
      "text/plain": [
       "               index             Id  HelpfulnessNumerator  \\\n",
       "count  364171.000000  364171.000000         364171.000000   \n",
       "mean   241825.377603  261814.561014              1.739021   \n",
       "std    154519.869452  166958.768333              6.723921   \n",
       "min         0.000000       1.000000              0.000000   \n",
       "25%    104427.500000  113379.500000              0.000000   \n",
       "50%    230033.000000  249445.000000              0.000000   \n",
       "75%    376763.500000  407408.500000              2.000000   \n",
       "max    525813.000000  568454.000000            866.000000   \n",
       "\n",
       "       HelpfulnessDenominator          Time  \n",
       "count           364171.000000  3.641710e+05  \n",
       "mean                 2.186841  1.296135e+09  \n",
       "std                  7.348482  4.864772e+07  \n",
       "min                  0.000000  9.393408e+08  \n",
       "25%                  0.000000  1.270858e+09  \n",
       "50%                  1.000000  1.311379e+09  \n",
       "75%                  2.000000  1.332893e+09  \n",
       "max                878.000000  1.351210e+09  "
      ]
     },
     "execution_count": 6,
     "metadata": {},
     "output_type": "execute_result"
    }
   ],
   "source": [
    "print (df.shape)\n",
    "print (df['Score'].size)\n",
    "df.describe()"
   ]
  },
  {
   "cell_type": "code",
   "execution_count": 7,
   "metadata": {},
   "outputs": [
    {
     "data": {
      "text/html": [
       "<div>\n",
       "<style scoped>\n",
       "    .dataframe tbody tr th:only-of-type {\n",
       "        vertical-align: middle;\n",
       "    }\n",
       "\n",
       "    .dataframe tbody tr th {\n",
       "        vertical-align: top;\n",
       "    }\n",
       "\n",
       "    .dataframe thead th {\n",
       "        text-align: right;\n",
       "    }\n",
       "</style>\n",
       "<table border=\"1\" class=\"dataframe\">\n",
       "  <thead>\n",
       "    <tr style=\"text-align: right;\">\n",
       "      <th></th>\n",
       "      <th>index</th>\n",
       "      <th>Id</th>\n",
       "      <th>ProductId</th>\n",
       "      <th>UserId</th>\n",
       "      <th>ProfileName</th>\n",
       "      <th>HelpfulnessNumerator</th>\n",
       "      <th>HelpfulnessDenominator</th>\n",
       "      <th>Score</th>\n",
       "      <th>Time</th>\n",
       "      <th>Summary</th>\n",
       "      <th>Text</th>\n",
       "      <th>CleanedText</th>\n",
       "      <th>CleanedText_NoStem</th>\n",
       "    </tr>\n",
       "  </thead>\n",
       "  <tbody>\n",
       "    <tr>\n",
       "      <th>0</th>\n",
       "      <td>0</td>\n",
       "      <td>1</td>\n",
       "      <td>B001E4KFG0</td>\n",
       "      <td>A3SGXH7AUHU8GW</td>\n",
       "      <td>delmartian</td>\n",
       "      <td>1</td>\n",
       "      <td>1</td>\n",
       "      <td>1</td>\n",
       "      <td>1303862400</td>\n",
       "      <td>Good Quality Dog Food</td>\n",
       "      <td>I have bought several of the Vitality canned d...</td>\n",
       "      <td>b'bought sever vital can dog food product foun...</td>\n",
       "      <td>b''</td>\n",
       "    </tr>\n",
       "    <tr>\n",
       "      <th>1</th>\n",
       "      <td>1</td>\n",
       "      <td>2</td>\n",
       "      <td>B00813GRG4</td>\n",
       "      <td>A1D87F6ZCVE5NK</td>\n",
       "      <td>dll pa</td>\n",
       "      <td>0</td>\n",
       "      <td>0</td>\n",
       "      <td>0</td>\n",
       "      <td>1346976000</td>\n",
       "      <td>Not as Advertised</td>\n",
       "      <td>Product arrived labeled as Jumbo Salted Peanut...</td>\n",
       "      <td>b'product arriv label jumbo salt peanutsth pea...</td>\n",
       "      <td>b''</td>\n",
       "    </tr>\n",
       "    <tr>\n",
       "      <th>2</th>\n",
       "      <td>2</td>\n",
       "      <td>3</td>\n",
       "      <td>B000LQOCH0</td>\n",
       "      <td>ABXLMWJIXXAIN</td>\n",
       "      <td>Natalia Corres \"Natalia Corres\"</td>\n",
       "      <td>1</td>\n",
       "      <td>1</td>\n",
       "      <td>1</td>\n",
       "      <td>1219017600</td>\n",
       "      <td>\"Delight\" says it all</td>\n",
       "      <td>This is a confection that has been around a fe...</td>\n",
       "      <td>b'confect around centuri light pillowi citrus ...</td>\n",
       "      <td>b''</td>\n",
       "    </tr>\n",
       "    <tr>\n",
       "      <th>3</th>\n",
       "      <td>3</td>\n",
       "      <td>4</td>\n",
       "      <td>B000UA0QIQ</td>\n",
       "      <td>A395BORC6FGVXV</td>\n",
       "      <td>Karl</td>\n",
       "      <td>3</td>\n",
       "      <td>3</td>\n",
       "      <td>0</td>\n",
       "      <td>1307923200</td>\n",
       "      <td>Cough Medicine</td>\n",
       "      <td>If you are looking for the secret ingredient i...</td>\n",
       "      <td>b'look secret ingredi robitussin believ found ...</td>\n",
       "      <td>b''</td>\n",
       "    </tr>\n",
       "    <tr>\n",
       "      <th>4</th>\n",
       "      <td>4</td>\n",
       "      <td>5</td>\n",
       "      <td>B006K2ZZ7K</td>\n",
       "      <td>A1UQRSCLF8GW1T</td>\n",
       "      <td>Michael D. Bigham \"M. Wassir\"</td>\n",
       "      <td>0</td>\n",
       "      <td>0</td>\n",
       "      <td>1</td>\n",
       "      <td>1350777600</td>\n",
       "      <td>Great taffy</td>\n",
       "      <td>Great taffy at a great price.  There was a wid...</td>\n",
       "      <td>b'great taffi great price wide assort yummi ta...</td>\n",
       "      <td>b''</td>\n",
       "    </tr>\n",
       "  </tbody>\n",
       "</table>\n",
       "</div>"
      ],
      "text/plain": [
       "   index  Id   ProductId          UserId                      ProfileName  \\\n",
       "0      0   1  B001E4KFG0  A3SGXH7AUHU8GW                       delmartian   \n",
       "1      1   2  B00813GRG4  A1D87F6ZCVE5NK                           dll pa   \n",
       "2      2   3  B000LQOCH0   ABXLMWJIXXAIN  Natalia Corres \"Natalia Corres\"   \n",
       "3      3   4  B000UA0QIQ  A395BORC6FGVXV                             Karl   \n",
       "4      4   5  B006K2ZZ7K  A1UQRSCLF8GW1T    Michael D. Bigham \"M. Wassir\"   \n",
       "\n",
       "   HelpfulnessNumerator  HelpfulnessDenominator  Score        Time  \\\n",
       "0                     1                       1      1  1303862400   \n",
       "1                     0                       0      0  1346976000   \n",
       "2                     1                       1      1  1219017600   \n",
       "3                     3                       3      0  1307923200   \n",
       "4                     0                       0      1  1350777600   \n",
       "\n",
       "                 Summary                                               Text  \\\n",
       "0  Good Quality Dog Food  I have bought several of the Vitality canned d...   \n",
       "1      Not as Advertised  Product arrived labeled as Jumbo Salted Peanut...   \n",
       "2  \"Delight\" says it all  This is a confection that has been around a fe...   \n",
       "3         Cough Medicine  If you are looking for the secret ingredient i...   \n",
       "4            Great taffy  Great taffy at a great price.  There was a wid...   \n",
       "\n",
       "                                         CleanedText CleanedText_NoStem  \n",
       "0  b'bought sever vital can dog food product foun...                b''  \n",
       "1  b'product arriv label jumbo salt peanutsth pea...                b''  \n",
       "2  b'confect around centuri light pillowi citrus ...                b''  \n",
       "3  b'look secret ingredi robitussin believ found ...                b''  \n",
       "4  b'great taffi great price wide assort yummi ta...                b''  "
      ]
     },
     "execution_count": 7,
     "metadata": {},
     "output_type": "execute_result"
    }
   ],
   "source": [
    "### Convert Score back to 1 or 0 \n",
    "\n",
    "def polarity(x):\n",
    "    if x == 'Positive':\n",
    "        return 1\n",
    "    return 0\n",
    "\n",
    "df['Score'] = df['Score'].map(polarity)\n",
    "\n",
    "df.head()"
   ]
  },
  {
   "cell_type": "code",
   "execution_count": 9,
   "metadata": {},
   "outputs": [
    {
     "data": {
      "text/html": [
       "<div>\n",
       "<style scoped>\n",
       "    .dataframe tbody tr th:only-of-type {\n",
       "        vertical-align: middle;\n",
       "    }\n",
       "\n",
       "    .dataframe tbody tr th {\n",
       "        vertical-align: top;\n",
       "    }\n",
       "\n",
       "    .dataframe thead th {\n",
       "        text-align: right;\n",
       "    }\n",
       "</style>\n",
       "<table border=\"1\" class=\"dataframe\">\n",
       "  <thead>\n",
       "    <tr style=\"text-align: right;\">\n",
       "      <th></th>\n",
       "      <th>index</th>\n",
       "      <th>Id</th>\n",
       "      <th>ProductId</th>\n",
       "      <th>UserId</th>\n",
       "      <th>ProfileName</th>\n",
       "      <th>HelpfulnessNumerator</th>\n",
       "      <th>HelpfulnessDenominator</th>\n",
       "      <th>Score</th>\n",
       "      <th>Time</th>\n",
       "      <th>Summary</th>\n",
       "      <th>Text</th>\n",
       "      <th>CleanedText</th>\n",
       "      <th>CleanedText_NoStem</th>\n",
       "    </tr>\n",
       "  </thead>\n",
       "  <tbody>\n",
       "    <tr>\n",
       "      <th>104684</th>\n",
       "      <td>121041</td>\n",
       "      <td>131217</td>\n",
       "      <td>B00004RAMX</td>\n",
       "      <td>A5NQLNC6QPGSI</td>\n",
       "      <td>Kim Nason</td>\n",
       "      <td>7</td>\n",
       "      <td>8</td>\n",
       "      <td>1</td>\n",
       "      <td>965001600</td>\n",
       "      <td>End your Gopher Problems</td>\n",
       "      <td>I have just recently purchased the Woodstream ...</td>\n",
       "      <td>b'recent purchas woodstream corp gopher trap w...</td>\n",
       "      <td>b''</td>\n",
       "    </tr>\n",
       "    <tr>\n",
       "      <th>169366</th>\n",
       "      <td>212557</td>\n",
       "      <td>230375</td>\n",
       "      <td>B00004RYGX</td>\n",
       "      <td>A3K3YJWV0N54ZO</td>\n",
       "      <td>Joey</td>\n",
       "      <td>2</td>\n",
       "      <td>3</td>\n",
       "      <td>1</td>\n",
       "      <td>1001289600</td>\n",
       "      <td>Beetlejuice is a greatmovie, but they cheated ...</td>\n",
       "      <td>Just to warn you. when in trying to trick you ...</td>\n",
       "      <td>b'warn tri trick widescreen format compani mad...</td>\n",
       "      <td>b''</td>\n",
       "    </tr>\n",
       "    <tr>\n",
       "      <th>169331</th>\n",
       "      <td>212522</td>\n",
       "      <td>230337</td>\n",
       "      <td>B00004RYGX</td>\n",
       "      <td>A1CAA94EOP0J2S</td>\n",
       "      <td>Travis J Smith</td>\n",
       "      <td>4</td>\n",
       "      <td>4</td>\n",
       "      <td>1</td>\n",
       "      <td>1036022400</td>\n",
       "      <td>Great Comedy</td>\n",
       "      <td>Beetlejuice is the story of ghosts (Alec Baldw...</td>\n",
       "      <td>b'beetlejuic stori ghost alec baldwin geena da...</td>\n",
       "      <td>b''</td>\n",
       "    </tr>\n",
       "    <tr>\n",
       "      <th>169321</th>\n",
       "      <td>212512</td>\n",
       "      <td>230327</td>\n",
       "      <td>B00004RYGX</td>\n",
       "      <td>A3M5O6UHXO9IBU</td>\n",
       "      <td>Gary</td>\n",
       "      <td>2</td>\n",
       "      <td>34</td>\n",
       "      <td>0</td>\n",
       "      <td>1052265600</td>\n",
       "      <td>Certificate: Puerile</td>\n",
       "      <td>Embarrassing comedy that comes over like a chi...</td>\n",
       "      <td>b'embarrass comedi come like child attent defi...</td>\n",
       "      <td>b''</td>\n",
       "    </tr>\n",
       "    <tr>\n",
       "      <th>281003</th>\n",
       "      <td>390522</td>\n",
       "      <td>422248</td>\n",
       "      <td>B0000D9N9A</td>\n",
       "      <td>A3LFT71N1YOQXN</td>\n",
       "      <td>Bell Mays</td>\n",
       "      <td>14</td>\n",
       "      <td>16</td>\n",
       "      <td>1</td>\n",
       "      <td>1068422400</td>\n",
       "      <td>Hot Sizzling bubbly Raclette! !  Bubbly Bubbly...</td>\n",
       "      <td>Put in under a Reclette grill or just put it i...</td>\n",
       "      <td>b'put reclett grill put oven minut serv boil b...</td>\n",
       "      <td>b''</td>\n",
       "    </tr>\n",
       "  </tbody>\n",
       "</table>\n",
       "</div>"
      ],
      "text/plain": [
       "         index      Id   ProductId          UserId     ProfileName  \\\n",
       "104684  121041  131217  B00004RAMX   A5NQLNC6QPGSI       Kim Nason   \n",
       "169366  212557  230375  B00004RYGX  A3K3YJWV0N54ZO            Joey   \n",
       "169331  212522  230337  B00004RYGX  A1CAA94EOP0J2S  Travis J Smith   \n",
       "169321  212512  230327  B00004RYGX  A3M5O6UHXO9IBU            Gary   \n",
       "281003  390522  422248  B0000D9N9A  A3LFT71N1YOQXN       Bell Mays   \n",
       "\n",
       "        HelpfulnessNumerator  HelpfulnessDenominator  Score        Time  \\\n",
       "104684                     7                       8      1   965001600   \n",
       "169366                     2                       3      1  1001289600   \n",
       "169331                     4                       4      1  1036022400   \n",
       "169321                     2                      34      0  1052265600   \n",
       "281003                    14                      16      1  1068422400   \n",
       "\n",
       "                                                  Summary  \\\n",
       "104684                           End your Gopher Problems   \n",
       "169366  Beetlejuice is a greatmovie, but they cheated ...   \n",
       "169331                                       Great Comedy   \n",
       "169321                               Certificate: Puerile   \n",
       "281003  Hot Sizzling bubbly Raclette! !  Bubbly Bubbly...   \n",
       "\n",
       "                                                     Text  \\\n",
       "104684  I have just recently purchased the Woodstream ...   \n",
       "169366  Just to warn you. when in trying to trick you ...   \n",
       "169331  Beetlejuice is the story of ghosts (Alec Baldw...   \n",
       "169321  Embarrassing comedy that comes over like a chi...   \n",
       "281003  Put in under a Reclette grill or just put it i...   \n",
       "\n",
       "                                              CleanedText CleanedText_NoStem  \n",
       "104684  b'recent purchas woodstream corp gopher trap w...                b''  \n",
       "169366  b'warn tri trick widescreen format compani mad...                b''  \n",
       "169331  b'beetlejuic stori ghost alec baldwin geena da...                b''  \n",
       "169321  b'embarrass comedi come like child attent defi...                b''  \n",
       "281003  b'put reclett grill put oven minut serv boil b...                b''  "
      ]
     },
     "execution_count": 9,
     "metadata": {},
     "output_type": "execute_result"
    }
   ],
   "source": [
    "## Select samples \n",
    "\n",
    "n_samples = 15000\n",
    "df_sample = df.sample(n_samples)\n",
    "\n",
    "## Sorting based on Time \n",
    "df_sample.sort_values('Time', inplace=True)\n",
    "df_sample.head()"
   ]
  },
  {
   "cell_type": "code",
   "execution_count": 10,
   "metadata": {},
   "outputs": [],
   "source": [
    "## Saving to File \n",
    "\n",
    "import pickle\n",
    "\n",
    "def savetofile(obj,filename):\n",
    "    pickle.dump(obj,open(filename+\".p\",\"wb\"))\n",
    "def openfromfile(filename):\n",
    "    temp = pickle.load(open(filename+\".p\",\"rb\"))\n",
    "    return temp\n",
    "\n",
    "savetofile(df_sample, \"SVM_data_15k\")\n",
    "df_sample = openfromfile(\"SVM_data_15k\")"
   ]
  },
  {
   "cell_type": "code",
   "execution_count": 11,
   "metadata": {},
   "outputs": [
    {
     "data": {
      "text/html": [
       "<div>\n",
       "<style scoped>\n",
       "    .dataframe tbody tr th:only-of-type {\n",
       "        vertical-align: middle;\n",
       "    }\n",
       "\n",
       "    .dataframe tbody tr th {\n",
       "        vertical-align: top;\n",
       "    }\n",
       "\n",
       "    .dataframe thead th {\n",
       "        text-align: right;\n",
       "    }\n",
       "</style>\n",
       "<table border=\"1\" class=\"dataframe\">\n",
       "  <thead>\n",
       "    <tr style=\"text-align: right;\">\n",
       "      <th></th>\n",
       "      <th>index</th>\n",
       "      <th>Id</th>\n",
       "      <th>HelpfulnessNumerator</th>\n",
       "      <th>HelpfulnessDenominator</th>\n",
       "      <th>Score</th>\n",
       "      <th>Time</th>\n",
       "    </tr>\n",
       "  </thead>\n",
       "  <tbody>\n",
       "    <tr>\n",
       "      <th>count</th>\n",
       "      <td>364171.000000</td>\n",
       "      <td>364171.000000</td>\n",
       "      <td>364171.000000</td>\n",
       "      <td>364171.000000</td>\n",
       "      <td>364171.000000</td>\n",
       "      <td>3.641710e+05</td>\n",
       "    </tr>\n",
       "    <tr>\n",
       "      <th>mean</th>\n",
       "      <td>241825.377603</td>\n",
       "      <td>261814.561014</td>\n",
       "      <td>1.739021</td>\n",
       "      <td>2.186841</td>\n",
       "      <td>0.843178</td>\n",
       "      <td>1.296135e+09</td>\n",
       "    </tr>\n",
       "    <tr>\n",
       "      <th>std</th>\n",
       "      <td>154519.869452</td>\n",
       "      <td>166958.768333</td>\n",
       "      <td>6.723921</td>\n",
       "      <td>7.348482</td>\n",
       "      <td>0.363633</td>\n",
       "      <td>4.864772e+07</td>\n",
       "    </tr>\n",
       "    <tr>\n",
       "      <th>min</th>\n",
       "      <td>0.000000</td>\n",
       "      <td>1.000000</td>\n",
       "      <td>0.000000</td>\n",
       "      <td>0.000000</td>\n",
       "      <td>0.000000</td>\n",
       "      <td>9.393408e+08</td>\n",
       "    </tr>\n",
       "    <tr>\n",
       "      <th>25%</th>\n",
       "      <td>104427.500000</td>\n",
       "      <td>113379.500000</td>\n",
       "      <td>0.000000</td>\n",
       "      <td>0.000000</td>\n",
       "      <td>1.000000</td>\n",
       "      <td>1.270858e+09</td>\n",
       "    </tr>\n",
       "    <tr>\n",
       "      <th>50%</th>\n",
       "      <td>230033.000000</td>\n",
       "      <td>249445.000000</td>\n",
       "      <td>0.000000</td>\n",
       "      <td>1.000000</td>\n",
       "      <td>1.000000</td>\n",
       "      <td>1.311379e+09</td>\n",
       "    </tr>\n",
       "    <tr>\n",
       "      <th>75%</th>\n",
       "      <td>376763.500000</td>\n",
       "      <td>407408.500000</td>\n",
       "      <td>2.000000</td>\n",
       "      <td>2.000000</td>\n",
       "      <td>1.000000</td>\n",
       "      <td>1.332893e+09</td>\n",
       "    </tr>\n",
       "    <tr>\n",
       "      <th>max</th>\n",
       "      <td>525813.000000</td>\n",
       "      <td>568454.000000</td>\n",
       "      <td>866.000000</td>\n",
       "      <td>878.000000</td>\n",
       "      <td>1.000000</td>\n",
       "      <td>1.351210e+09</td>\n",
       "    </tr>\n",
       "  </tbody>\n",
       "</table>\n",
       "</div>"
      ],
      "text/plain": [
       "               index             Id  HelpfulnessNumerator  \\\n",
       "count  364171.000000  364171.000000         364171.000000   \n",
       "mean   241825.377603  261814.561014              1.739021   \n",
       "std    154519.869452  166958.768333              6.723921   \n",
       "min         0.000000       1.000000              0.000000   \n",
       "25%    104427.500000  113379.500000              0.000000   \n",
       "50%    230033.000000  249445.000000              0.000000   \n",
       "75%    376763.500000  407408.500000              2.000000   \n",
       "max    525813.000000  568454.000000            866.000000   \n",
       "\n",
       "       HelpfulnessDenominator          Score          Time  \n",
       "count           364171.000000  364171.000000  3.641710e+05  \n",
       "mean                 2.186841       0.843178  1.296135e+09  \n",
       "std                  7.348482       0.363633  4.864772e+07  \n",
       "min                  0.000000       0.000000  9.393408e+08  \n",
       "25%                  0.000000       1.000000  1.270858e+09  \n",
       "50%                  1.000000       1.000000  1.311379e+09  \n",
       "75%                  2.000000       1.000000  1.332893e+09  \n",
       "max                878.000000       1.000000  1.351210e+09  "
      ]
     },
     "execution_count": 11,
     "metadata": {},
     "output_type": "execute_result"
    }
   ],
   "source": [
    "df.describe()"
   ]
  },
  {
   "cell_type": "code",
   "execution_count": 13,
   "metadata": {},
   "outputs": [
    {
     "name": "stdout",
     "output_type": "stream",
     "text": [
      "(10500, 19668)\n",
      "(4500, 19668)\n"
     ]
    }
   ],
   "source": [
    "############################################################### \n",
    "\n",
    "## BOW - Bag of Words .. Convert Text column to Vectors based on BOW technique\n",
    "\n",
    "from sklearn.feature_extraction.text import CountVectorizer\n",
    "from sklearn.model_selection import train_test_split\n",
    "from sklearn import preprocessing\n",
    "\n",
    "\n",
    "X_train, X_test, y_train, y_test = train_test_split(df_sample['CleanedText'].values,\n",
    "                                                    df_sample['Score'].values,\n",
    "                                                    test_size=0.3,\n",
    "                                                    shuffle=False)\n",
    "\n",
    "uni_gram = CountVectorizer() ## By Default uni_gram is created\n",
    "\n",
    "X_train = uni_gram.fit_transform(X_train)\n",
    "X_train_scaled = preprocessing.StandardScaler(X_train)\n",
    "\n",
    "X_train = preprocessing.normalize(X_train)\n",
    "## Normalization is the process of scaling individual samples to have unit norm.\n",
    "# Helpful when used with dot-product or along with Kernel (Similarity)\n",
    "\n",
    "print (X_train.shape)\n",
    "\n",
    "X_test = uni_gram.transform(X_test)\n",
    "\n",
    "X_test_scaled = preprocessing.StandardScaler(X_test)\n",
    "\n",
    "## Normalize \n",
    "X_test =  preprocessing.normalize(X_test)\n",
    "\n",
    "print (X_test.shape)"
   ]
  },
  {
   "cell_type": "code",
   "execution_count": 14,
   "metadata": {},
   "outputs": [],
   "source": [
    "## Scaler - StandardScaler, MinMaxScaler - (Scaling data to certain range)\n",
    "## Imputer - Imputing Missing vlaues with mean, median or mode etc\n",
    "## LabelEncder - Encode Labels/Categorical values\n",
    "## OneHot Encoder - create features for categorical values\n",
    "## Binning - Bin/split certain Numerical continuous data  into ranges \n",
    "\n",
    "## Normalize - Normal Form of vectos ||x|| -- (Unit Vector). Used in dot-product, kernels, similarity function\n",
    "\n",
    "## CountVectorizer - Convert into BOW "
   ]
  },
  {
   "cell_type": "code",
   "execution_count": 19,
   "metadata": {},
   "outputs": [
    {
     "name": "stdout",
     "output_type": "stream",
     "text": [
      "(10500, 19668)\n",
      "Train Shape = :  (1750, 19668)  :: CV Shape =  (1750, 19668)\n",
      "Train =  (1750,)  :: CV =  (1750,)\n",
      "Train Shape = :  (3500, 19668)  :: CV Shape =  (1750, 19668)\n",
      "Train =  (3500,)  :: CV =  (1750,)\n",
      "Train Shape = :  (5250, 19668)  :: CV Shape =  (1750, 19668)\n",
      "Train =  (5250,)  :: CV =  (1750,)\n",
      "Train Shape = :  (7000, 19668)  :: CV Shape =  (1750, 19668)\n",
      "Train =  (7000,)  :: CV =  (1750,)\n",
      "Train Shape = :  (8750, 19668)  :: CV Shape =  (1750, 19668)\n",
      "Train =  (8750,)  :: CV =  (1750,)\n"
     ]
    }
   ],
   "source": [
    "### TimeseriesSplit Cross Validation \n",
    "## sklearn.model_selection.TimeseriesSplit splits data into Timeseries intervals\n",
    "  ## For example a = [1, 2, 3, 4, 5], TimeseriesSplit(n_splits=5) splits a = {[1], [1, 2], [1,2 3], [1, 2, 3, 4], [1,2,3,4,5]}\n",
    "\n",
    "from sklearn.model_selection import TimeSeriesSplit\n",
    "\n",
    "tscv = TimeSeriesSplit(n_splits=5)\n",
    "\n",
    "print (X_train.shape)\n",
    "for train, cv in tscv.split(X_train):\n",
    "    print (\"Train Shape = : \", X_train[train].shape, \" :: CV Shape = \", X_train[cv].shape)\n",
    "    print (\"Train = \", train.shape, \" :: CV = \", cv.shape)"
   ]
  },
  {
   "attachments": {
    "TimeSeriesSplitImage.png": {
     "image/png": "[encoded data removed]"
    }
   },
   "cell_type": "markdown",
   "metadata": {},
   "source": [
    "![TimeSeriesSplitImage.png](attachment:TimeSeriesSplitImage.png)"
   ]
  },
  {
   "cell_type": "code",
   "execution_count": 20,
   "metadata": {},
   "outputs": [
    {
     "name": "stdout",
     "output_type": "stream",
     "text": [
      "Fitting 5 folds for each of 30 candidates, totalling 150 fits\n"
     ]
    },
    {
     "name": "stderr",
     "output_type": "stream",
     "text": [
      "[Parallel(n_jobs=-1)]: Done  34 tasks      | elapsed:  4.1min\n",
      "[Parallel(n_jobs=-1)]: Done 150 out of 150 | elapsed: 16.4min finished\n"
     ]
    },
    {
     "name": "stdout",
     "output_type": "stream",
     "text": [
      "Best HyperParameter :  {'C': 100, 'gamma': 0.01}\n"
     ]
    },
    {
     "ename": "AttributeError",
     "evalue": "'GridSearchCV' object has no attribute 'best_score'",
     "output_type": "error",
     "traceback": [
      "\u001b[1;31m---------------------------------------------------------------------------\u001b[0m",
      "\u001b[1;31mAttributeError\u001b[0m                            Traceback (most recent call last)",
      "\u001b[1;32m<timed exec>\u001b[0m in \u001b[0;36m<module>\u001b[1;34m()\u001b[0m\n",
      "\u001b[1;31mAttributeError\u001b[0m: 'GridSearchCV' object has no attribute 'best_score'"
     ]
    }
   ],
   "source": [
    "%%time\n",
    "\n",
    "#################### Lets train our with SVC (rbf) and find out best hyper param C, gamma\n",
    "\n",
    "from sklearn.model_selection import GridSearchCV\n",
    "from sklearn.svm import SVC\n",
    "\n",
    "model = SVC() ## By default kernel = RBF, Other kernels are - Polynomial, Linear, sigmoid, Callable's\n",
    "\n",
    "param_grid = {'gamma': [100, 10, 1, 0.5, 0.1, 0.01], \n",
    "             \"C\": [100, 10, 1, 0.1, 0.001]}\n",
    "\n",
    "gsv = GridSearchCV(model, param_grid, cv=tscv, verbose=1, n_jobs=-1)\n",
    "\n",
    "gsv.fit(X_train, y_train)\n",
    "\n",
    "print (\"Best HyperParameter : \", gsv.best_params_)\n"
   ]
  },
  {
   "cell_type": "code",
   "execution_count": 22,
   "metadata": {},
   "outputs": [
    {
     "name": "stdout",
     "output_type": "stream",
     "text": [
      "Best Score/Accuracy :  89.53142857142858\n",
      "Accuracy  89.44444444444444\n",
      "Precision  0.9093925472179684\n",
      "Recall  0.9674178658702145\n",
      "F1-Score  0.9375082226022892\n"
     ]
    },
    {
     "data": {
      "text/plain": [
       "<matplotlib.axes._subplots.AxesSubplot at 0x1fd39b72cc0>"
      ]
     },
     "execution_count": 22,
     "metadata": {},
     "output_type": "execute_result"
    },
    {
     "data": {
      "image/png": "[encoded data removed]",
      "text/plain": [
       "<Figure size 432x288 with 2 Axes>"
      ]
     },
     "metadata": {},
     "output_type": "display_data"
    }
   ],
   "source": [
    "### Accuracy SVC (kernel=rbf), Uni_gram, GridSearchCV\n",
    "\n",
    "print (\"Best Score/Accuracy : \", gsv.best_score_ * 100)\n",
    "\n",
    "from sklearn.svm import SVC\n",
    "\n",
    "model = SVC(C=gsv.best_params_['C'], gamma=gsv.best_params_['gamma']) \n",
    "## C = Hyperparamter in Loss ::: inverse to lambda in Logistic loss \n",
    "## gamma = hyperpamater in RBF (equal to K in knn), gamma says how many nearest points to consider in similarity function\n",
    "\n",
    "model.fit(X_train, y_train)\n",
    "\n",
    "y_pred = model.predict(X_test)\n",
    "\n",
    "print(\"Accuracy \", (accuracy_score(y_test, y_pred)*100))\n",
    "print(\"Precision \", (precision_score(y_test, y_pred)))\n",
    "print(\"Recall \", (recall_score(y_test, y_pred)))\n",
    "print(\"F1-Score \", (f1_score(y_test, y_pred)))\n",
    "\n",
    "df_cm = pd.DataFrame(confusion_matrix(y_test, y_pred), range(2),range(2))\n",
    "sns.set(font_scale=1.4)#for label size\n",
    "\n",
    "sns.heatmap(df_cm, annot=True,annot_kws={\"size\": 16}, fmt='g')"
   ]
  },
  {
   "cell_type": "code",
   "execution_count": 23,
   "metadata": {},
   "outputs": [
    {
     "name": "stdout",
     "output_type": "stream",
     "text": [
      "Fitting 5 folds for each of 15 candidates, totalling 75 fits\n"
     ]
    },
    {
     "name": "stderr",
     "output_type": "stream",
     "text": [
      "[Parallel(n_jobs=-1)]: Done  34 tasks      | elapsed:  3.5min\n",
      "[Parallel(n_jobs=-1)]: Done  75 out of  75 | elapsed: 10.7min finished\n"
     ]
    },
    {
     "name": "stdout",
     "output_type": "stream",
     "text": [
      "Best HyperParameter :  {'gamma': 0.1, 'C': 10}\n",
      "Best Score/Accuracy  :  89.45142857142856\n",
      "Wall time: 11min 7s\n"
     ]
    }
   ],
   "source": [
    "%%time\n",
    "############# Using SVC, RBF Kernel, Uni_gram, RandomSearchCV\n",
    "\n",
    "from sklearn.model_selection import RandomizedSearchCV\n",
    "from sklearn.svm import SVC\n",
    "\n",
    "model = SVC(kernel='rbf')\n",
    "\n",
    "param_grid = {'gamma': [100, 10, 1, 0.5, 0.1, 0.01], \n",
    "             \"C\": [100, 10, 1, 0.1, 0.001]}\n",
    "\n",
    "tscv = TimeSeriesSplit(n_splits=5)\n",
    "gsv = RandomizedSearchCV(model, param_grid, cv=tscv, verbose=1, n_jobs=-1, n_iter=15)\n",
    "\n",
    "gsv.fit(X_train, y_train)\n",
    "\n",
    "print (\"Best HyperParameter : \", gsv.best_params_)\n",
    "print (\"Best Score/Accuracy  : \", gsv.best_score_ * 100 )\n"
   ]
  },
  {
   "cell_type": "code",
   "execution_count": 24,
   "metadata": {},
   "outputs": [
    {
     "name": "stdout",
     "output_type": "stream",
     "text": [
      "Accuracy  89.64444444444445\n",
      "Precision  0.9100178434871272\n",
      "Recall  0.9693184903611186\n",
      "F1-Score  0.9387325795424665\n",
      "Wall time: 33.9 s\n"
     ]
    },
    {
     "data": {
      "image/png": "[encoded data removed]",
      "text/plain": [
       "<Figure size 432x288 with 2 Axes>"
      ]
     },
     "metadata": {},
     "output_type": "display_data"
    }
   ],
   "source": [
    "%%time\n",
    "### Accuracy SVC (kernel=rbf), Uni_gram, RandomSearchCV\n",
    "\n",
    "from sklearn.svm import SVC\n",
    "\n",
    "model = SVC(C=gsv.best_params_['C'], gamma=gsv.best_params_['gamma']) \n",
    "## C = Hyperparamter in Loss ::: inverse to lambda in Logistic loss \n",
    "## gamma = hyperpamater in RBF (equal to K in knn), gamma says how many nearest points to consider in similarity function\n",
    "\n",
    "model.fit(X_train, y_train)\n",
    "\n",
    "y_pred = model.predict(X_test)\n",
    "\n",
    "print(\"Accuracy \", (accuracy_score(y_test, y_pred)*100))\n",
    "print(\"Precision \", (precision_score(y_test, y_pred)))\n",
    "print(\"Recall \", (recall_score(y_test, y_pred)))\n",
    "print(\"F1-Score \", (f1_score(y_test, y_pred)))\n",
    "\n",
    "df_cm = pd.DataFrame(confusion_matrix(y_test, y_pred), range(2),range(2))\n",
    "sns.set(font_scale=1.4)#for label size\n",
    "\n",
    "sns.heatmap(df_cm, annot=True,annot_kws={\"size\": 16}, fmt='g')"
   ]
  },
  {
   "cell_type": "code",
   "execution_count": 27,
   "metadata": {},
   "outputs": [
    {
     "name": "stdout",
     "output_type": "stream",
     "text": [
      "Train Data Size:  (10500, 232711)\n",
      "Test Data Size:  (10500, 232711)\n",
      "Wall time: 1.91 s\n"
     ]
    }
   ],
   "source": [
    "%%time\n",
    "######################### Bi-Gram, SVC, GridSearchCV\n",
    "\n",
    "from sklearn.feature_extraction.text import CountVectorizer\n",
    "from sklearn.model_selection import train_test_split\n",
    "from sklearn import preprocessing \n",
    "\n",
    "X_train, X_test, y_train, y_test, = train_test_split(df_sample['CleanedText'].values,\n",
    "                                                    df_sample['Score'].values,\n",
    "                                                    test_size=0.3,\n",
    "                                                    shuffle=False, \n",
    "                                                    random_state=0)\n",
    "\n",
    "bi_gram = CountVectorizer(ngram_range=(2,2))  ## considering only bigrams .. not unigrams \n",
    "\n",
    "X_train = bi_gram.fit_transform(X_train)\n",
    "\n",
    "## normalize Data \n",
    "X_train = preprocessing.normalize(X_train)\n",
    "\n",
    "X_test = bi_gram.transform(X_test)\n",
    "\n",
    "print(\"Train Data Size: \",X_train.shape)\n",
    "\n",
    "X_test = preprocessing.normalize(X_test)\n",
    "\n",
    "print(\"Test Data Size: \",X_train.shape)"
   ]
  },
  {
   "cell_type": "code",
   "execution_count": 28,
   "metadata": {},
   "outputs": [
    {
     "name": "stdout",
     "output_type": "stream",
     "text": [
      "Fitting 5 folds for each of 30 candidates, totalling 150 fits\n"
     ]
    },
    {
     "name": "stderr",
     "output_type": "stream",
     "text": [
      "[Parallel(n_jobs=-1)]: Done  34 tasks      | elapsed:  6.5min\n",
      "[Parallel(n_jobs=-1)]: Done 150 out of 150 | elapsed: 22.4min finished\n"
     ]
    },
    {
     "name": "stdout",
     "output_type": "stream",
     "text": [
      "Best HyperParameter :  {'C': 100, 'gamma': 0.01}\n"
     ]
    },
    {
     "ename": "AttributeError",
     "evalue": "'GridSearchCV' object has no attribute 'best_score'",
     "output_type": "error",
     "traceback": [
      "\u001b[1;31m---------------------------------------------------------------------------\u001b[0m",
      "\u001b[1;31mAttributeError\u001b[0m                            Traceback (most recent call last)",
      "\u001b[1;32m<timed exec>\u001b[0m in \u001b[0;36m<module>\u001b[1;34m()\u001b[0m\n",
      "\u001b[1;31mAttributeError\u001b[0m: 'GridSearchCV' object has no attribute 'best_score'"
     ]
    }
   ],
   "source": [
    "%%time\n",
    "\n",
    "#################### SVC, Bi-gram, BOW, GridSearchCV, RBF kernel, \"C\", \"gamma\"\n",
    "\n",
    "\n",
    "from sklearn.model_selection import GridSearchCV\n",
    "from sklearn.svm import SVC\n",
    "\n",
    "model = SVC() ## By default kernel = RBF, Other kernels are - Polynomial, Linear, sigmoid, Callable's\n",
    "\n",
    "param_grid = {'gamma': [100, 10, 1, 0.5, 0.1, 0.01], \n",
    "             \"C\": [100, 10, 1, 0.1, 0.001]}\n",
    "\n",
    "gsv = GridSearchCV(model, param_grid, cv=tscv, verbose=1, n_jobs=-1)\n",
    "\n",
    "gsv.fit(X_train, y_train)\n",
    "\n",
    "print (\"Best HyperParameter : \", gsv.best_params_)\n"
   ]
  },
  {
   "cell_type": "code",
   "execution_count": 29,
   "metadata": {},
   "outputs": [
    {
     "name": "stdout",
     "output_type": "stream",
     "text": [
      "Best Score/Accoracy :  86.4\n",
      "Accuracy  87.3111111111111\n",
      "Precision  0.8780369290573372\n",
      "Recall  0.9812652728753734\n",
      "F1-Score  0.9267854853186306\n",
      "Wall time: 1min 50s\n"
     ]
    },
    {
     "data": {
      "image/png": "[encoded data removed]",
      "text/plain": [
       "<Figure size 432x288 with 2 Axes>"
      ]
     },
     "metadata": {},
     "output_type": "display_data"
    }
   ],
   "source": [
    "%%time\n",
    "### Accuracy SVC (kernel=rbf), bi-gram, GridSearchCV \n",
    "\n",
    "print (\"Best Score/Accoracy : \", gsv.best_score_ * 100)\n",
    "\n",
    "from sklearn.svm import SVC\n",
    "\n",
    "model = SVC(C=gsv.best_params_['C'], gamma=gsv.best_params_['gamma']) \n",
    "## C = Hyperparamter in Loss ::: inverse to lambda in Logistic loss \n",
    "## gamma = hyperpamater in RBF (equal to K in knn), gamma says how many nearest points to consider in similarity function\n",
    "\n",
    "model.fit(X_train, y_train)\n",
    "\n",
    "y_pred = model.predict(X_test)\n",
    "\n",
    "print(\"Accuracy \", (accuracy_score(y_test, y_pred)*100))\n",
    "print(\"Precision \", (precision_score(y_test, y_pred)))\n",
    "print(\"Recall \", (recall_score(y_test, y_pred)))\n",
    "print(\"F1-Score \", (f1_score(y_test, y_pred)))\n",
    "\n",
    "df_cm = pd.DataFrame(confusion_matrix(y_test, y_pred), range(2),range(2))\n",
    "sns.set(font_scale=1.4)#for label size\n",
    "\n",
    "sns.heatmap(df_cm, annot=True,annot_kws={\"size\": 16}, fmt='g')"
   ]
  },
  {
   "cell_type": "code",
   "execution_count": 30,
   "metadata": {},
   "outputs": [
    {
     "name": "stdout",
     "output_type": "stream",
     "text": [
      "Fitting 5 folds for each of 10 candidates, totalling 50 fits\n"
     ]
    },
    {
     "name": "stderr",
     "output_type": "stream",
     "text": [
      "[Parallel(n_jobs=-1)]: Done  34 tasks      | elapsed:  4.4min\n",
      "[Parallel(n_jobs=-1)]: Done  50 out of  50 | elapsed:  9.0min finished\n"
     ]
    },
    {
     "name": "stdout",
     "output_type": "stream",
     "text": [
      "Best HyperParameter :  {'gamma': 0.5, 'C': 10}\n"
     ]
    },
    {
     "ename": "AttributeError",
     "evalue": "'RandomizedSearchCV' object has no attribute 'best_score'",
     "output_type": "error",
     "traceback": [
      "\u001b[1;31m---------------------------------------------------------------------------\u001b[0m",
      "\u001b[1;31mAttributeError\u001b[0m                            Traceback (most recent call last)",
      "\u001b[1;32m<timed exec>\u001b[0m in \u001b[0;36m<module>\u001b[1;34m()\u001b[0m\n",
      "\u001b[1;31mAttributeError\u001b[0m: 'RandomizedSearchCV' object has no attribute 'best_score'"
     ]
    }
   ],
   "source": [
    "%%time\n",
    "\n",
    "#################### SVC, Bi-gram, BOW, RandomSearchCV, RBF kernel, \"C\", \"gamma\"\n",
    "\n",
    "\n",
    "from sklearn.model_selection import RandomizedSearchCV\n",
    "from sklearn.svm import SVC\n",
    "\n",
    "model = SVC() ## By default kernel = RBF, Other kernels are - Polynomial, Linear, sigmoid, Callable's\n",
    "\n",
    "param_grid = {'gamma': [100, 10, 1, 0.5, 0.1, 0.01], \n",
    "             \"C\": [100, 10, 1, 0.1, 0.001]}\n",
    "\n",
    "gsv = RandomizedSearchCV(model, param_grid, cv=tscv, verbose=1, n_jobs=-1)\n",
    "\n",
    "gsv.fit(X_train, y_train)\n",
    "\n",
    "print (\"Best HyperParameter : \", gsv.best_params_)\n"
   ]
  },
  {
   "cell_type": "code",
   "execution_count": 31,
   "metadata": {},
   "outputs": [
    {
     "name": "stdout",
     "output_type": "stream",
     "text": [
      "Best Score/Accoracy :  85.78285714285714\n",
      "Accuracy  85.97777777777777\n",
      "Precision  0.8595664467483506\n",
      "Recall  0.9904968775454792\n",
      "F1-Score  0.9203986375678063\n",
      "Wall time: 2min 3s\n"
     ]
    },
    {
     "data": {
      "image/png": "[encoded data removed]",
      "text/plain": [
       "<Figure size 432x288 with 2 Axes>"
      ]
     },
     "metadata": {},
     "output_type": "display_data"
    }
   ],
   "source": [
    "%%time\n",
    "### Accuracy SVC (kernel=rbf), bi-gram, GridSearchCV \n",
    "\n",
    "print (\"Best Score/Accoracy : \", gsv.best_score_ * 100)\n",
    "\n",
    "from sklearn.svm import SVC\n",
    "\n",
    "model = SVC(C=gsv.best_params_['C'], gamma=gsv.best_params_['gamma']) \n",
    "## C = Hyperparamter in Loss ::: inverse to lambda in Logistic loss \n",
    "## gamma = hyperpamater in RBF (equal to K in knn), gamma says how many nearest points to consider in similarity function\n",
    "\n",
    "model.fit(X_train, y_train)\n",
    "\n",
    "y_pred = model.predict(X_test)\n",
    "\n",
    "print(\"Accuracy \", (accuracy_score(y_test, y_pred)*100))\n",
    "print(\"Precision \", (precision_score(y_test, y_pred)))\n",
    "print(\"Recall \", (recall_score(y_test, y_pred)))\n",
    "print(\"F1-Score \", (f1_score(y_test, y_pred)))\n",
    "\n",
    "df_cm = pd.DataFrame(confusion_matrix(y_test, y_pred), range(2),range(2))\n",
    "sns.set(font_scale=1.4)#for label size\n",
    "\n",
    "sns.heatmap(df_cm, annot=True,annot_kws={\"size\": 16}, fmt='g')"
   ]
  },
  {
   "cell_type": "code",
   "execution_count": 32,
   "metadata": {},
   "outputs": [
    {
     "name": "stdout",
     "output_type": "stream",
     "text": [
      "Train Data Size:  (10500, 19668)\n",
      "Test Data Size:  (4500, 19668)\n",
      "Wall time: 698 ms\n"
     ]
    }
   ],
   "source": [
    "%%time\n",
    "##################################################################################3\n",
    "\n",
    "## TfIdf vectorizer , uni_gram, TfIDf\n",
    "\n",
    "\n",
    "\n",
    "from sklearn.feature_extraction.text import TfidfVectorizer\n",
    "from sklearn.model_selection import train_test_split\n",
    "from sklearn import preprocessing\n",
    "\n",
    "#Breaking into Train and test\n",
    "X_train, X_test, y_train, y_test = train_test_split(df_sample['CleanedText'].values,\n",
    "                                                    df_sample['Score'].values,\n",
    "                                                    test_size=0.3,\n",
    "                                                    shuffle=False)\n",
    "\n",
    "tfidf = TfidfVectorizer() #Using bi-grams\n",
    "X_train = tfidf.fit_transform(X_train)\n",
    "\n",
    "#Normalize Data\n",
    "\n",
    "X_train = preprocessing.normalize(X_train)\n",
    "print(\"Train Data Size: \",X_train.shape)\n",
    "\n",
    "X_test = tfidf.transform(X_test)\n",
    "#Normalize Data\n",
    "\n",
    "X_test = preprocessing.normalize(X_test)\n",
    "print(\"Test Data Size: \",X_test.shape)"
   ]
  },
  {
   "cell_type": "code",
   "execution_count": 33,
   "metadata": {},
   "outputs": [
    {
     "name": "stdout",
     "output_type": "stream",
     "text": [
      "Fitting 5 folds for each of 30 candidates, totalling 150 fits\n"
     ]
    },
    {
     "name": "stderr",
     "output_type": "stream",
     "text": [
      "[Parallel(n_jobs=-1)]: Done  34 tasks      | elapsed:  3.6min\n",
      "[Parallel(n_jobs=-1)]: Done 150 out of 150 | elapsed: 15.4min finished\n"
     ]
    },
    {
     "name": "stdout",
     "output_type": "stream",
     "text": [
      "Best HyperParameter :  {'C': 10, 'gamma': 0.1}\n",
      "Best Score/Accuracy :  89.06285714285714\n",
      "Wall time: 15min 43s\n"
     ]
    }
   ],
   "source": [
    "%%time\n",
    "\n",
    "#################### SVC, uni-gram, TfIdf, GridSearchCV, RBF kernel, \"C\", \"gamma\"\n",
    "\n",
    "\n",
    "from sklearn.model_selection import GridSearchCV\n",
    "from sklearn.svm import SVC\n",
    "\n",
    "model = SVC() ## By default kernel = RBF, Other kernels are - Polynomial, Linear, sigmoid, Callable's\n",
    "\n",
    "param_grid = {'gamma': [100, 10, 1, 0.5, 0.1, 0.01], \n",
    "             \"C\": [100, 10, 1, 0.1, 0.001]}\n",
    "\n",
    "gsv = GridSearchCV(model, param_grid, cv=tscv, verbose=1, n_jobs=-1)\n",
    "\n",
    "gsv.fit(X_train, y_train)\n",
    "\n",
    "print (\"Best HyperParameter : \", gsv.best_params_)\n",
    "print (\"Best Score/Accuracy : \", gsv.best_score_ * 100)"
   ]
  },
  {
   "cell_type": "code",
   "execution_count": 35,
   "metadata": {},
   "outputs": [
    {
     "name": "stdout",
     "output_type": "stream",
     "text": [
      "Accuracy  89.17777777777778\n",
      "Precision  0.9091141833077317\n",
      "Recall  0.9641596524572359\n",
      "F1-Score  0.9358281723547239\n",
      "Wall time: 22.6 s\n"
     ]
    },
    {
     "data": {
      "image/png": "[encoded data removed]",
      "text/plain": [
       "<Figure size 432x288 with 2 Axes>"
      ]
     },
     "metadata": {},
     "output_type": "display_data"
    }
   ],
   "source": [
    "%%time\n",
    "### Accuracy SVC (kernel=rbf), uni-gram, TfIdf,  GridSearchCV \n",
    "\n",
    "from sklearn.svm import SVC\n",
    "\n",
    "model = SVC(C=gsv.best_params_['C'], gamma=gsv.best_params_['gamma']) \n",
    "## C = Hyperparamter in Loss ::: inverse to lambda in Logistic loss \n",
    "## gamma = hyperpamater in RBF (equal to K in knn), gamma says how many nearest points to consider in similarity function\n",
    "\n",
    "model.fit(X_train, y_train)\n",
    "\n",
    "y_pred = model.predict(X_test)\n",
    "\n",
    "print(\"Accuracy \", (accuracy_score(y_test, y_pred)*100))\n",
    "print(\"Precision \", (precision_score(y_test, y_pred)))\n",
    "print(\"Recall \", (recall_score(y_test, y_pred)))\n",
    "print(\"F1-Score \", (f1_score(y_test, y_pred)))\n",
    "\n",
    "df_cm = pd.DataFrame(confusion_matrix(y_test, y_pred), range(2),range(2))\n",
    "sns.set(font_scale=1.4)#for label size\n",
    "\n",
    "sns.heatmap(df_cm, annot=True,annot_kws={\"size\": 16}, fmt='g')"
   ]
  },
  {
   "cell_type": "code",
   "execution_count": 36,
   "metadata": {},
   "outputs": [],
   "source": [
    "### SKipping bi-gram, and Randomized Search for TfIdf .. as it is taking huge time \n",
    "\n"
   ]
  },
  {
   "cell_type": "code",
   "execution_count": 38,
   "metadata": {},
   "outputs": [
    {
     "name": "stdout",
     "output_type": "stream",
     "text": [
      "Fitting 10 folds for each of 48 candidates, totalling 480 fits\n",
      "Best HyperParameter:  {'alpha': 0.0001, 'penalty': 'l2'}\n",
      "Best Accuracy: 89.18%\n",
      "Wall time: 7.75 s\n"
     ]
    },
    {
     "name": "stderr",
     "output_type": "stream",
     "text": [
      "[Parallel(n_jobs=1)]: Done 480 out of 480 | elapsed:    7.6s finished\n"
     ]
    }
   ],
   "source": [
    "%%time\n",
    "\n",
    "############## Using SGDClassifier with Hinge Loss. \n",
    "\n",
    "from sklearn.model_selection import GridSearchCV\n",
    "from sklearn.linear_model import SGDClassifier\n",
    "from sklearn.model_selection import TimeSeriesSplit\n",
    "\n",
    "clf = SGDClassifier()\n",
    "## by defualt loss = hinge, others = log, huber, modified_huber, squared_hinge, perceptron, regression_loss, \n",
    "## Log loss gives LogisticRegression, \n",
    "#params we need to try on classifier\n",
    "param_dist = {'penalty':['l1','l2','elasticnet'],\n",
    "             'alpha':[500,100,50,10,5,1,0.5,0.1,0.05,0.01,0.005,0.001,0.0005,0.0001,0.00005,0.00001]} \n",
    "\n",
    "tscv = TimeSeriesSplit(n_splits=10) #For time based splitting\n",
    "gsv = GridSearchCV(clf,param_dist,cv=tscv,verbose=1)\n",
    "\n",
    "gsv.fit(X_train,y_train)\n",
    "\n",
    "print(\"Best HyperParameter: \",gsv.best_params_)\n",
    "print(\"Best Accuracy: %.2f%%\"%(gsv.best_score_*100))"
   ]
  },
  {
   "cell_type": "code",
   "execution_count": 39,
   "metadata": {},
   "outputs": [
    {
     "name": "stdout",
     "output_type": "stream",
     "text": [
      "Accuracy  88.95555555555555\n",
      "Precision  0.8984492246123061\n",
      "Recall  0.975291881618246\n",
      "F1-Score  0.9352948834787136\n",
      "Wall time: 74.8 ms\n"
     ]
    },
    {
     "data": {
      "image/png": "[encoded data removed]",
      "text/plain": [
       "<Figure size 432x288 with 2 Axes>"
      ]
     },
     "metadata": {},
     "output_type": "display_data"
    }
   ],
   "source": [
    "%%time\n",
    "### Accuracy SVC (kernel=rbf), uni-gram, TfIdf,  GridSearchCV \n",
    "\n",
    "from sklearn.linear_model import SGDClassifier\n",
    "\n",
    "model = SGDClassifier(alpha=gsv.best_params_['alpha'], penalty=gsv.best_params_['penalty']) \n",
    "\n",
    "model.fit(X_train, y_train)\n",
    "\n",
    "y_pred = model.predict(X_test)\n",
    "\n",
    "print(\"Accuracy \", (accuracy_score(y_test, y_pred)*100))\n",
    "print(\"Precision \", (precision_score(y_test, y_pred)))\n",
    "print(\"Recall \", (recall_score(y_test, y_pred)))\n",
    "print(\"F1-Score \", (f1_score(y_test, y_pred)))\n",
    "\n",
    "df_cm = pd.DataFrame(confusion_matrix(y_test, y_pred), range(2),range(2))\n",
    "sns.set(font_scale=1.4)#for label size\n",
    "\n",
    "sns.heatmap(df_cm, annot=True,annot_kws={\"size\": 16}, fmt='g')"
   ]
  },
  {
   "cell_type": "code",
   "execution_count": null,
   "metadata": {},
   "outputs": [],
   "source": []
  }
 ],
 "metadata": {
  "kernelspec": {
   "display_name": "Python 3",
   "language": "python",
   "name": "python3"
  },
  "language_info": {
   "codemirror_mode": {
    "name": "ipython",
    "version": 3
   },
   "file_extension": ".py",
   "mimetype": "text/x-python",
   "name": "python",
   "nbconvert_exporter": "python",
   "pygments_lexer": "ipython3",
   "version": "3.7.0"
  }
 },
 "nbformat": 4,
 "nbformat_minor": 2
}
