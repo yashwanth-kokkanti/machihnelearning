{
 "cells": [
  {
   "cell_type": "code",
   "execution_count": 1,
   "metadata": {},
   "outputs": [],
   "source": [
    "############ Performing Naive Bayes on Amazon Fine Food Reviews \n",
    "\n",
    "\n",
    "# Data source - URL https://www.kaggle.com/snap/amazon-fine-food-reviews\n",
    "\n",
    "## Data Contains reviews of fine food from Amazon. \n",
    "## It includes information about product, user, ratings, text review. \n",
    "\n"
   ]
  },
  {
   "cell_type": "code",
   "execution_count": 2,
   "metadata": {},
   "outputs": [],
   "source": [
    "## Objective: \n",
    "    # 1. Apply Naive Bayes Using Bernoulli NB on Amazon FFR using BOW, Word2Vec, TFIDF, AvgWord2Vec\n",
    "    # 2. Multinomial NB on Different Featurization\n",
    "    # 3. Implement using KD-Tree and Brute KNN\n",
    "    # 4. Metrics: Accuracy, precision, recall, f1-score etc. Confusion matrix\n",
    "\n",
    "## Predict the Polarity of a given review"
   ]
  },
  {
   "cell_type": "code",
   "execution_count": 3,
   "metadata": {},
   "outputs": [],
   "source": [
    "## Columns \n",
    "    # 1.Id\n",
    "    # 2.ProductId - unique identifier for the product\n",
    "    # 3.UserId - unqiue identifier for the user\n",
    "    # 4.ProfileName\n",
    "    # 5.HelpfulnessNumerator - number of users who found the review helpful\n",
    "    # 6.HelpfulnessDenominator - number of users who indicated whether they found the review helpful or not\n",
    "    # 7.Score - rating between 1 and 5\n",
    "    # 8.Time - timestamp for the review\n",
    "    # 9.Summary - brief summary of the review\n",
    "    # 10.Text - text of the review"
   ]
  },
  {
   "cell_type": "code",
   "execution_count": 4,
   "metadata": {},
   "outputs": [
    {
     "name": "stderr",
     "output_type": "stream",
     "text": [
      "C:\\ProgramData\\Anaconda3\\lib\\site-packages\\gensim\\utils.py:1197: UserWarning: detected Windows; aliasing chunkize to chunkize_serial\n",
      "  warnings.warn(\"detected Windows; aliasing chunkize to chunkize_serial\")\n"
     ]
    }
   ],
   "source": [
    "#######################################################################\n",
    "\n",
    "# Lets start with imports \n",
    "\n",
    "\n",
    "import numpy as np\n",
    "import pandas as pd\n",
    "import matplotlib.pyplot as plt\n",
    "import sqlite3 as sql\n",
    "import seaborn as sns\n",
    "from time import time\n",
    "import random\n",
    "import gensim\n",
    "import warnings\n",
    "\n",
    "\n",
    "from sklearn.metrics import accuracy_score\n",
    "from sklearn.metrics import confusion_matrix\n",
    "from sklearn.metrics import precision_score\n",
    "from sklearn.metrics import f1_score\n",
    "from sklearn.metrics import recall_score\n",
    "\n",
    "warnings.filterwarnings(\"ignore\")\n",
    "\n",
    "%matplotlib inline "
   ]
  },
  {
   "cell_type": "code",
   "execution_count": 5,
   "metadata": {},
   "outputs": [
    {
     "data": {
      "text/html": [
       "<div>\n",
       "<style scoped>\n",
       "    .dataframe tbody tr th:only-of-type {\n",
       "        vertical-align: middle;\n",
       "    }\n",
       "\n",
       "    .dataframe tbody tr th {\n",
       "        vertical-align: top;\n",
       "    }\n",
       "\n",
       "    .dataframe thead th {\n",
       "        text-align: right;\n",
       "    }\n",
       "</style>\n",
       "<table border=\"1\" class=\"dataframe\">\n",
       "  <thead>\n",
       "    <tr style=\"text-align: right;\">\n",
       "      <th></th>\n",
       "      <th>index</th>\n",
       "      <th>Id</th>\n",
       "      <th>ProductId</th>\n",
       "      <th>UserId</th>\n",
       "      <th>ProfileName</th>\n",
       "      <th>HelpfulnessNumerator</th>\n",
       "      <th>HelpfulnessDenominator</th>\n",
       "      <th>Score</th>\n",
       "      <th>Time</th>\n",
       "      <th>Summary</th>\n",
       "      <th>Text</th>\n",
       "      <th>CleanedText</th>\n",
       "      <th>CleanedText_NoStem</th>\n",
       "    </tr>\n",
       "  </thead>\n",
       "  <tbody>\n",
       "    <tr>\n",
       "      <th>0</th>\n",
       "      <td>0</td>\n",
       "      <td>1</td>\n",
       "      <td>B001E4KFG0</td>\n",
       "      <td>A3SGXH7AUHU8GW</td>\n",
       "      <td>delmartian</td>\n",
       "      <td>1</td>\n",
       "      <td>1</td>\n",
       "      <td>Positive</td>\n",
       "      <td>1303862400</td>\n",
       "      <td>Good Quality Dog Food</td>\n",
       "      <td>I have bought several of the Vitality canned d...</td>\n",
       "      <td>b'bought sever vital can dog food product foun...</td>\n",
       "      <td>b''</td>\n",
       "    </tr>\n",
       "    <tr>\n",
       "      <th>1</th>\n",
       "      <td>1</td>\n",
       "      <td>2</td>\n",
       "      <td>B00813GRG4</td>\n",
       "      <td>A1D87F6ZCVE5NK</td>\n",
       "      <td>dll pa</td>\n",
       "      <td>0</td>\n",
       "      <td>0</td>\n",
       "      <td>Negative</td>\n",
       "      <td>1346976000</td>\n",
       "      <td>Not as Advertised</td>\n",
       "      <td>Product arrived labeled as Jumbo Salted Peanut...</td>\n",
       "      <td>b'product arriv label jumbo salt peanutsth pea...</td>\n",
       "      <td>b''</td>\n",
       "    </tr>\n",
       "    <tr>\n",
       "      <th>2</th>\n",
       "      <td>2</td>\n",
       "      <td>3</td>\n",
       "      <td>B000LQOCH0</td>\n",
       "      <td>ABXLMWJIXXAIN</td>\n",
       "      <td>Natalia Corres \"Natalia Corres\"</td>\n",
       "      <td>1</td>\n",
       "      <td>1</td>\n",
       "      <td>Positive</td>\n",
       "      <td>1219017600</td>\n",
       "      <td>\"Delight\" says it all</td>\n",
       "      <td>This is a confection that has been around a fe...</td>\n",
       "      <td>b'confect around centuri light pillowi citrus ...</td>\n",
       "      <td>b''</td>\n",
       "    </tr>\n",
       "    <tr>\n",
       "      <th>3</th>\n",
       "      <td>3</td>\n",
       "      <td>4</td>\n",
       "      <td>B000UA0QIQ</td>\n",
       "      <td>A395BORC6FGVXV</td>\n",
       "      <td>Karl</td>\n",
       "      <td>3</td>\n",
       "      <td>3</td>\n",
       "      <td>Negative</td>\n",
       "      <td>1307923200</td>\n",
       "      <td>Cough Medicine</td>\n",
       "      <td>If you are looking for the secret ingredient i...</td>\n",
       "      <td>b'look secret ingredi robitussin believ found ...</td>\n",
       "      <td>b''</td>\n",
       "    </tr>\n",
       "    <tr>\n",
       "      <th>4</th>\n",
       "      <td>4</td>\n",
       "      <td>5</td>\n",
       "      <td>B006K2ZZ7K</td>\n",
       "      <td>A1UQRSCLF8GW1T</td>\n",
       "      <td>Michael D. Bigham \"M. Wassir\"</td>\n",
       "      <td>0</td>\n",
       "      <td>0</td>\n",
       "      <td>Positive</td>\n",
       "      <td>1350777600</td>\n",
       "      <td>Great taffy</td>\n",
       "      <td>Great taffy at a great price.  There was a wid...</td>\n",
       "      <td>b'great taffi great price wide assort yummi ta...</td>\n",
       "      <td>b''</td>\n",
       "    </tr>\n",
       "  </tbody>\n",
       "</table>\n",
       "</div>"
      ],
      "text/plain": [
       "   index  Id   ProductId          UserId                      ProfileName  \\\n",
       "0      0   1  B001E4KFG0  A3SGXH7AUHU8GW                       delmartian   \n",
       "1      1   2  B00813GRG4  A1D87F6ZCVE5NK                           dll pa   \n",
       "2      2   3  B000LQOCH0   ABXLMWJIXXAIN  Natalia Corres \"Natalia Corres\"   \n",
       "3      3   4  B000UA0QIQ  A395BORC6FGVXV                             Karl   \n",
       "4      4   5  B006K2ZZ7K  A1UQRSCLF8GW1T    Michael D. Bigham \"M. Wassir\"   \n",
       "\n",
       "   HelpfulnessNumerator  HelpfulnessDenominator     Score        Time  \\\n",
       "0                     1                       1  Positive  1303862400   \n",
       "1                     0                       0  Negative  1346976000   \n",
       "2                     1                       1  Positive  1219017600   \n",
       "3                     3                       3  Negative  1307923200   \n",
       "4                     0                       0  Positive  1350777600   \n",
       "\n",
       "                 Summary                                               Text  \\\n",
       "0  Good Quality Dog Food  I have bought several of the Vitality canned d...   \n",
       "1      Not as Advertised  Product arrived labeled as Jumbo Salted Peanut...   \n",
       "2  \"Delight\" says it all  This is a confection that has been around a fe...   \n",
       "3         Cough Medicine  If you are looking for the secret ingredient i...   \n",
       "4            Great taffy  Great taffy at a great price.  There was a wid...   \n",
       "\n",
       "                                         CleanedText CleanedText_NoStem  \n",
       "0  b'bought sever vital can dog food product foun...                b''  \n",
       "1  b'product arriv label jumbo salt peanutsth pea...                b''  \n",
       "2  b'confect around centuri light pillowi citrus ...                b''  \n",
       "3  b'look secret ingredi robitussin believ found ...                b''  \n",
       "4  b'great taffi great price wide assort yummi ta...                b''  "
      ]
     },
     "execution_count": 5,
     "metadata": {},
     "output_type": "execute_result"
    }
   ],
   "source": [
    "## Load from SQL file (sqlite)\n",
    "\n",
    "con = sql.connect('final.sqlite') ## This file obtained after text preprocessing in previous chapter \n",
    "\n",
    "df = pd.read_sql_query(''' SELECT * from Reviews''', con)\n",
    "\n",
    "df.head()"
   ]
  },
  {
   "cell_type": "code",
   "execution_count": 6,
   "metadata": {},
   "outputs": [
    {
     "name": "stdout",
     "output_type": "stream",
     "text": [
      "(364171, 13)\n",
      "364171\n"
     ]
    },
    {
     "data": {
      "text/html": [
       "<div>\n",
       "<style scoped>\n",
       "    .dataframe tbody tr th:only-of-type {\n",
       "        vertical-align: middle;\n",
       "    }\n",
       "\n",
       "    .dataframe tbody tr th {\n",
       "        vertical-align: top;\n",
       "    }\n",
       "\n",
       "    .dataframe thead th {\n",
       "        text-align: right;\n",
       "    }\n",
       "</style>\n",
       "<table border=\"1\" class=\"dataframe\">\n",
       "  <thead>\n",
       "    <tr style=\"text-align: right;\">\n",
       "      <th></th>\n",
       "      <th>index</th>\n",
       "      <th>Id</th>\n",
       "      <th>HelpfulnessNumerator</th>\n",
       "      <th>HelpfulnessDenominator</th>\n",
       "      <th>Time</th>\n",
       "    </tr>\n",
       "  </thead>\n",
       "  <tbody>\n",
       "    <tr>\n",
       "      <th>count</th>\n",
       "      <td>364171.000000</td>\n",
       "      <td>364171.000000</td>\n",
       "      <td>364171.000000</td>\n",
       "      <td>364171.000000</td>\n",
       "      <td>3.641710e+05</td>\n",
       "    </tr>\n",
       "    <tr>\n",
       "      <th>mean</th>\n",
       "      <td>241825.377603</td>\n",
       "      <td>261814.561014</td>\n",
       "      <td>1.739021</td>\n",
       "      <td>2.186841</td>\n",
       "      <td>1.296135e+09</td>\n",
       "    </tr>\n",
       "    <tr>\n",
       "      <th>std</th>\n",
       "      <td>154519.869452</td>\n",
       "      <td>166958.768333</td>\n",
       "      <td>6.723921</td>\n",
       "      <td>7.348482</td>\n",
       "      <td>4.864772e+07</td>\n",
       "    </tr>\n",
       "    <tr>\n",
       "      <th>min</th>\n",
       "      <td>0.000000</td>\n",
       "      <td>1.000000</td>\n",
       "      <td>0.000000</td>\n",
       "      <td>0.000000</td>\n",
       "      <td>9.393408e+08</td>\n",
       "    </tr>\n",
       "    <tr>\n",
       "      <th>25%</th>\n",
       "      <td>104427.500000</td>\n",
       "      <td>113379.500000</td>\n",
       "      <td>0.000000</td>\n",
       "      <td>0.000000</td>\n",
       "      <td>1.270858e+09</td>\n",
       "    </tr>\n",
       "    <tr>\n",
       "      <th>50%</th>\n",
       "      <td>230033.000000</td>\n",
       "      <td>249445.000000</td>\n",
       "      <td>0.000000</td>\n",
       "      <td>1.000000</td>\n",
       "      <td>1.311379e+09</td>\n",
       "    </tr>\n",
       "    <tr>\n",
       "      <th>75%</th>\n",
       "      <td>376763.500000</td>\n",
       "      <td>407408.500000</td>\n",
       "      <td>2.000000</td>\n",
       "      <td>2.000000</td>\n",
       "      <td>1.332893e+09</td>\n",
       "    </tr>\n",
       "    <tr>\n",
       "      <th>max</th>\n",
       "      <td>525813.000000</td>\n",
       "      <td>568454.000000</td>\n",
       "      <td>866.000000</td>\n",
       "      <td>878.000000</td>\n",
       "      <td>1.351210e+09</td>\n",
       "    </tr>\n",
       "  </tbody>\n",
       "</table>\n",
       "</div>"
      ],
      "text/plain": [
       "               index             Id  HelpfulnessNumerator  \\\n",
       "count  364171.000000  364171.000000         364171.000000   \n",
       "mean   241825.377603  261814.561014              1.739021   \n",
       "std    154519.869452  166958.768333              6.723921   \n",
       "min         0.000000       1.000000              0.000000   \n",
       "25%    104427.500000  113379.500000              0.000000   \n",
       "50%    230033.000000  249445.000000              0.000000   \n",
       "75%    376763.500000  407408.500000              2.000000   \n",
       "max    525813.000000  568454.000000            866.000000   \n",
       "\n",
       "       HelpfulnessDenominator          Time  \n",
       "count           364171.000000  3.641710e+05  \n",
       "mean                 2.186841  1.296135e+09  \n",
       "std                  7.348482  4.864772e+07  \n",
       "min                  0.000000  9.393408e+08  \n",
       "25%                  0.000000  1.270858e+09  \n",
       "50%                  1.000000  1.311379e+09  \n",
       "75%                  2.000000  1.332893e+09  \n",
       "max                878.000000  1.351210e+09  "
      ]
     },
     "execution_count": 6,
     "metadata": {},
     "output_type": "execute_result"
    }
   ],
   "source": [
    "print (df.shape)\n",
    "print (df['Score'].size)\n",
    "df.describe()"
   ]
  },
  {
   "cell_type": "code",
   "execution_count": 7,
   "metadata": {},
   "outputs": [
    {
     "data": {
      "text/html": [
       "<div>\n",
       "<style scoped>\n",
       "    .dataframe tbody tr th:only-of-type {\n",
       "        vertical-align: middle;\n",
       "    }\n",
       "\n",
       "    .dataframe tbody tr th {\n",
       "        vertical-align: top;\n",
       "    }\n",
       "\n",
       "    .dataframe thead th {\n",
       "        text-align: right;\n",
       "    }\n",
       "</style>\n",
       "<table border=\"1\" class=\"dataframe\">\n",
       "  <thead>\n",
       "    <tr style=\"text-align: right;\">\n",
       "      <th></th>\n",
       "      <th>index</th>\n",
       "      <th>Id</th>\n",
       "      <th>ProductId</th>\n",
       "      <th>UserId</th>\n",
       "      <th>ProfileName</th>\n",
       "      <th>HelpfulnessNumerator</th>\n",
       "      <th>HelpfulnessDenominator</th>\n",
       "      <th>Score</th>\n",
       "      <th>Time</th>\n",
       "      <th>Summary</th>\n",
       "      <th>Text</th>\n",
       "      <th>CleanedText</th>\n",
       "      <th>CleanedText_NoStem</th>\n",
       "    </tr>\n",
       "  </thead>\n",
       "  <tbody>\n",
       "    <tr>\n",
       "      <th>0</th>\n",
       "      <td>0</td>\n",
       "      <td>1</td>\n",
       "      <td>B001E4KFG0</td>\n",
       "      <td>A3SGXH7AUHU8GW</td>\n",
       "      <td>delmartian</td>\n",
       "      <td>1</td>\n",
       "      <td>1</td>\n",
       "      <td>1</td>\n",
       "      <td>1303862400</td>\n",
       "      <td>Good Quality Dog Food</td>\n",
       "      <td>I have bought several of the Vitality canned d...</td>\n",
       "      <td>b'bought sever vital can dog food product foun...</td>\n",
       "      <td>b''</td>\n",
       "    </tr>\n",
       "    <tr>\n",
       "      <th>1</th>\n",
       "      <td>1</td>\n",
       "      <td>2</td>\n",
       "      <td>B00813GRG4</td>\n",
       "      <td>A1D87F6ZCVE5NK</td>\n",
       "      <td>dll pa</td>\n",
       "      <td>0</td>\n",
       "      <td>0</td>\n",
       "      <td>0</td>\n",
       "      <td>1346976000</td>\n",
       "      <td>Not as Advertised</td>\n",
       "      <td>Product arrived labeled as Jumbo Salted Peanut...</td>\n",
       "      <td>b'product arriv label jumbo salt peanutsth pea...</td>\n",
       "      <td>b''</td>\n",
       "    </tr>\n",
       "    <tr>\n",
       "      <th>2</th>\n",
       "      <td>2</td>\n",
       "      <td>3</td>\n",
       "      <td>B000LQOCH0</td>\n",
       "      <td>ABXLMWJIXXAIN</td>\n",
       "      <td>Natalia Corres \"Natalia Corres\"</td>\n",
       "      <td>1</td>\n",
       "      <td>1</td>\n",
       "      <td>1</td>\n",
       "      <td>1219017600</td>\n",
       "      <td>\"Delight\" says it all</td>\n",
       "      <td>This is a confection that has been around a fe...</td>\n",
       "      <td>b'confect around centuri light pillowi citrus ...</td>\n",
       "      <td>b''</td>\n",
       "    </tr>\n",
       "    <tr>\n",
       "      <th>3</th>\n",
       "      <td>3</td>\n",
       "      <td>4</td>\n",
       "      <td>B000UA0QIQ</td>\n",
       "      <td>A395BORC6FGVXV</td>\n",
       "      <td>Karl</td>\n",
       "      <td>3</td>\n",
       "      <td>3</td>\n",
       "      <td>0</td>\n",
       "      <td>1307923200</td>\n",
       "      <td>Cough Medicine</td>\n",
       "      <td>If you are looking for the secret ingredient i...</td>\n",
       "      <td>b'look secret ingredi robitussin believ found ...</td>\n",
       "      <td>b''</td>\n",
       "    </tr>\n",
       "    <tr>\n",
       "      <th>4</th>\n",
       "      <td>4</td>\n",
       "      <td>5</td>\n",
       "      <td>B006K2ZZ7K</td>\n",
       "      <td>A1UQRSCLF8GW1T</td>\n",
       "      <td>Michael D. Bigham \"M. Wassir\"</td>\n",
       "      <td>0</td>\n",
       "      <td>0</td>\n",
       "      <td>1</td>\n",
       "      <td>1350777600</td>\n",
       "      <td>Great taffy</td>\n",
       "      <td>Great taffy at a great price.  There was a wid...</td>\n",
       "      <td>b'great taffi great price wide assort yummi ta...</td>\n",
       "      <td>b''</td>\n",
       "    </tr>\n",
       "  </tbody>\n",
       "</table>\n",
       "</div>"
      ],
      "text/plain": [
       "   index  Id   ProductId          UserId                      ProfileName  \\\n",
       "0      0   1  B001E4KFG0  A3SGXH7AUHU8GW                       delmartian   \n",
       "1      1   2  B00813GRG4  A1D87F6ZCVE5NK                           dll pa   \n",
       "2      2   3  B000LQOCH0   ABXLMWJIXXAIN  Natalia Corres \"Natalia Corres\"   \n",
       "3      3   4  B000UA0QIQ  A395BORC6FGVXV                             Karl   \n",
       "4      4   5  B006K2ZZ7K  A1UQRSCLF8GW1T    Michael D. Bigham \"M. Wassir\"   \n",
       "\n",
       "   HelpfulnessNumerator  HelpfulnessDenominator  Score        Time  \\\n",
       "0                     1                       1      1  1303862400   \n",
       "1                     0                       0      0  1346976000   \n",
       "2                     1                       1      1  1219017600   \n",
       "3                     3                       3      0  1307923200   \n",
       "4                     0                       0      1  1350777600   \n",
       "\n",
       "                 Summary                                               Text  \\\n",
       "0  Good Quality Dog Food  I have bought several of the Vitality canned d...   \n",
       "1      Not as Advertised  Product arrived labeled as Jumbo Salted Peanut...   \n",
       "2  \"Delight\" says it all  This is a confection that has been around a fe...   \n",
       "3         Cough Medicine  If you are looking for the secret ingredient i...   \n",
       "4            Great taffy  Great taffy at a great price.  There was a wid...   \n",
       "\n",
       "                                         CleanedText CleanedText_NoStem  \n",
       "0  b'bought sever vital can dog food product foun...                b''  \n",
       "1  b'product arriv label jumbo salt peanutsth pea...                b''  \n",
       "2  b'confect around centuri light pillowi citrus ...                b''  \n",
       "3  b'look secret ingredi robitussin believ found ...                b''  \n",
       "4  b'great taffi great price wide assort yummi ta...                b''  "
      ]
     },
     "execution_count": 7,
     "metadata": {},
     "output_type": "execute_result"
    }
   ],
   "source": [
    "## EDA and Text PRocessing \n",
    "\n",
    "# convert back Polarity back to 0 or 1\n",
    "\n",
    "def polarity(x):\n",
    "    if x == 'Positive':\n",
    "        return 1\n",
    "    return 0\n",
    "\n",
    "df['Score'] = df['Score'].map(polarity)\n",
    "\n",
    "df.head()"
   ]
  },
  {
   "cell_type": "code",
   "execution_count": 8,
   "metadata": {},
   "outputs": [
    {
     "data": {
      "text/html": [
       "<div>\n",
       "<style scoped>\n",
       "    .dataframe tbody tr th:only-of-type {\n",
       "        vertical-align: middle;\n",
       "    }\n",
       "\n",
       "    .dataframe tbody tr th {\n",
       "        vertical-align: top;\n",
       "    }\n",
       "\n",
       "    .dataframe thead th {\n",
       "        text-align: right;\n",
       "    }\n",
       "</style>\n",
       "<table border=\"1\" class=\"dataframe\">\n",
       "  <thead>\n",
       "    <tr style=\"text-align: right;\">\n",
       "      <th></th>\n",
       "      <th>index</th>\n",
       "      <th>Id</th>\n",
       "      <th>ProductId</th>\n",
       "      <th>UserId</th>\n",
       "      <th>ProfileName</th>\n",
       "      <th>HelpfulnessNumerator</th>\n",
       "      <th>HelpfulnessDenominator</th>\n",
       "      <th>Score</th>\n",
       "      <th>Time</th>\n",
       "      <th>Summary</th>\n",
       "      <th>Text</th>\n",
       "      <th>CleanedText</th>\n",
       "      <th>CleanedText_NoStem</th>\n",
       "    </tr>\n",
       "  </thead>\n",
       "  <tbody>\n",
       "    <tr>\n",
       "      <th>117924</th>\n",
       "      <td>138706</td>\n",
       "      <td>150524</td>\n",
       "      <td>0006641040</td>\n",
       "      <td>ACITT7DI6IDDL</td>\n",
       "      <td>shari zychinski</td>\n",
       "      <td>0</td>\n",
       "      <td>0</td>\n",
       "      <td>1</td>\n",
       "      <td>939340800</td>\n",
       "      <td>EVERY book is educational</td>\n",
       "      <td>this witty little book makes my son laugh at l...</td>\n",
       "      <td>b'witti littl book make son laugh loud recit c...</td>\n",
       "      <td>b''</td>\n",
       "    </tr>\n",
       "    <tr>\n",
       "      <th>117901</th>\n",
       "      <td>138683</td>\n",
       "      <td>150501</td>\n",
       "      <td>0006641040</td>\n",
       "      <td>AJ46FKXOVC7NR</td>\n",
       "      <td>Nicholas A Mesiano</td>\n",
       "      <td>2</td>\n",
       "      <td>2</td>\n",
       "      <td>1</td>\n",
       "      <td>940809600</td>\n",
       "      <td>This whole series is great way to spend time w...</td>\n",
       "      <td>I can remember seeing the show when it aired o...</td>\n",
       "      <td>b'rememb see show air televis year ago child s...</td>\n",
       "      <td>b''</td>\n",
       "    </tr>\n",
       "    <tr>\n",
       "      <th>298792</th>\n",
       "      <td>417839</td>\n",
       "      <td>451856</td>\n",
       "      <td>B00004CXX9</td>\n",
       "      <td>AIUWLEQ1ADEG5</td>\n",
       "      <td>Elizabeth Medina</td>\n",
       "      <td>0</td>\n",
       "      <td>0</td>\n",
       "      <td>1</td>\n",
       "      <td>944092800</td>\n",
       "      <td>Entertainingl Funny!</td>\n",
       "      <td>Beetlejuice is a well written movie ..... ever...</td>\n",
       "      <td>b'beetlejuic well written movi everyth excel a...</td>\n",
       "      <td>b''</td>\n",
       "    </tr>\n",
       "    <tr>\n",
       "      <th>169281</th>\n",
       "      <td>212472</td>\n",
       "      <td>230285</td>\n",
       "      <td>B00004RYGX</td>\n",
       "      <td>A344SMIA5JECGM</td>\n",
       "      <td>Vincent P. Ross</td>\n",
       "      <td>1</td>\n",
       "      <td>2</td>\n",
       "      <td>1</td>\n",
       "      <td>944438400</td>\n",
       "      <td>A modern day fairy tale</td>\n",
       "      <td>A twist of rumplestiskin captured on film, sta...</td>\n",
       "      <td>b'twist rumplestiskin captur film star michael...</td>\n",
       "      <td>b''</td>\n",
       "    </tr>\n",
       "    <tr>\n",
       "      <th>298791</th>\n",
       "      <td>417838</td>\n",
       "      <td>451855</td>\n",
       "      <td>B00004CXX9</td>\n",
       "      <td>AJH6LUC1UT1ON</td>\n",
       "      <td>The Phantom of the Opera</td>\n",
       "      <td>0</td>\n",
       "      <td>0</td>\n",
       "      <td>1</td>\n",
       "      <td>946857600</td>\n",
       "      <td>FANTASTIC!</td>\n",
       "      <td>Beetlejuice is an excellent and funny movie. K...</td>\n",
       "      <td>b'beetlejuic excel funni movi keaton hilari wa...</td>\n",
       "      <td>b''</td>\n",
       "    </tr>\n",
       "  </tbody>\n",
       "</table>\n",
       "</div>"
      ],
      "text/plain": [
       "         index      Id   ProductId          UserId               ProfileName  \\\n",
       "117924  138706  150524  0006641040   ACITT7DI6IDDL           shari zychinski   \n",
       "117901  138683  150501  0006641040   AJ46FKXOVC7NR        Nicholas A Mesiano   \n",
       "298792  417839  451856  B00004CXX9   AIUWLEQ1ADEG5          Elizabeth Medina   \n",
       "169281  212472  230285  B00004RYGX  A344SMIA5JECGM           Vincent P. Ross   \n",
       "298791  417838  451855  B00004CXX9   AJH6LUC1UT1ON  The Phantom of the Opera   \n",
       "\n",
       "        HelpfulnessNumerator  HelpfulnessDenominator  Score       Time  \\\n",
       "117924                     0                       0      1  939340800   \n",
       "117901                     2                       2      1  940809600   \n",
       "298792                     0                       0      1  944092800   \n",
       "169281                     1                       2      1  944438400   \n",
       "298791                     0                       0      1  946857600   \n",
       "\n",
       "                                                  Summary  \\\n",
       "117924                          EVERY book is educational   \n",
       "117901  This whole series is great way to spend time w...   \n",
       "298792                               Entertainingl Funny!   \n",
       "169281                            A modern day fairy tale   \n",
       "298791                                         FANTASTIC!   \n",
       "\n",
       "                                                     Text  \\\n",
       "117924  this witty little book makes my son laugh at l...   \n",
       "117901  I can remember seeing the show when it aired o...   \n",
       "298792  Beetlejuice is a well written movie ..... ever...   \n",
       "169281  A twist of rumplestiskin captured on film, sta...   \n",
       "298791  Beetlejuice is an excellent and funny movie. K...   \n",
       "\n",
       "                                              CleanedText CleanedText_NoStem  \n",
       "117924  b'witti littl book make son laugh loud recit c...                b''  \n",
       "117901  b'rememb see show air televis year ago child s...                b''  \n",
       "298792  b'beetlejuic well written movi everyth excel a...                b''  \n",
       "169281  b'twist rumplestiskin captur film star michael...                b''  \n",
       "298791  b'beetlejuic excel funni movi keaton hilari wa...                b''  "
      ]
     },
     "execution_count": 8,
     "metadata": {},
     "output_type": "execute_result"
    }
   ],
   "source": [
    "## Consider Whole data .. As Naiye Bayes is faster \n",
    "\n",
    "n_samples = 364170\n",
    "df_sample = df\n",
    "\n",
    "df_sample.sort_values('Time', inplace=True)\n",
    "df_sample.head()"
   ]
  },
  {
   "cell_type": "code",
   "execution_count": 9,
   "metadata": {},
   "outputs": [],
   "source": [
    "#### Lets Save data to file and load from file \n",
    "\n",
    "import pickle \n",
    "\n",
    "def savetofile(obj, filename):\n",
    "    ''' Save to Local Disk'''\n",
    "    \n",
    "    pickle.dump(obj, open(filename+\".p\",\"wb\"))\n",
    "\n",
    "def openfromfile(filename):\n",
    "    ''' Read data from pickled file'''\n",
    "    \n",
    "    temp = pickle.load(open(filename+\".p\",\"rb\"))\n",
    "    return temp\n",
    "\n",
    "\n",
    "## Save to Local Machine \n",
    "savetofile(df_sample, \"sample_nb\")\n",
    "\n",
    "df_sample = openfromfile('sample_nb')"
   ]
  },
  {
   "cell_type": "code",
   "execution_count": 13,
   "metadata": {},
   "outputs": [
    {
     "data": {
      "text/plain": [
       "(364171, 13)"
      ]
     },
     "execution_count": 13,
     "metadata": {},
     "output_type": "execute_result"
    }
   ],
   "source": [
    "df_sample.shape"
   ]
  },
  {
   "cell_type": "code",
   "execution_count": 15,
   "metadata": {},
   "outputs": [
    {
     "name": "stdout",
     "output_type": "stream",
     "text": [
      "(254919, 161941)\n",
      "(109252, 161941)\n"
     ]
    }
   ],
   "source": [
    "################### BOW - Bag of Words \n",
    "\n",
    "from sklearn.feature_extraction.text import CountVectorizer\n",
    "from sklearn.model_selection import train_test_split\n",
    "from sklearn import preprocessing\n",
    "\n",
    "\n",
    "## Train Test Split \n",
    "X_train, X_test, y_train, y_test = train_test_split(df_sample['CleanedText'].values,\n",
    "                                                   df_sample['Score'].values,\n",
    "                                                    test_size=0.3,\n",
    "                                                   shuffle=False)\n",
    "\n",
    "uni_gram = CountVectorizer() ## by Default it is uni_gram \n",
    "\n",
    "X_train = uni_gram.fit_transform(X_train)\n",
    "X_train = preprocessing.normalize(X_train) ## normalizing train data \n",
    "\n",
    "X_test = uni_gram.transform(X_test)\n",
    "X_test = preprocessing.normalize(X_test)\n",
    "\n",
    "print (X_train.shape)\n",
    "print (X_test.shape)"
   ]
  },
  {
   "cell_type": "code",
   "execution_count": 21,
   "metadata": {},
   "outputs": [
    {
     "name": "stdout",
     "output_type": "stream",
     "text": [
      "Train =  [    0     1     2 ... 23176 23177 23178]\n",
      "CV =  [23179 23180 23181 ... 46350 46351 46352]\n",
      "Shape =  (23179, 161941) (23174, 161941) \n",
      "\n",
      "\n",
      "Train =  [    0     1     2 ... 46350 46351 46352]\n",
      "CV =  [46353 46354 46355 ... 69524 69525 69526]\n",
      "Shape =  (46353, 161941) (23174, 161941) \n",
      "\n",
      "\n",
      "Train =  [    0     1     2 ... 69524 69525 69526]\n",
      "CV =  [69527 69528 69529 ... 92698 92699 92700]\n",
      "Shape =  (69527, 161941) (23174, 161941) \n",
      "\n",
      "\n",
      "Train =  [    0     1     2 ... 92698 92699 92700]\n",
      "CV =  [ 92701  92702  92703 ... 115872 115873 115874]\n",
      "Shape =  (92701, 161941) (23174, 161941) \n",
      "\n",
      "\n",
      "Train =  [     0      1      2 ... 115872 115873 115874]\n",
      "CV =  [115875 115876 115877 ... 139046 139047 139048]\n",
      "Shape =  (115875, 161941) (23174, 161941) \n",
      "\n",
      "\n",
      "Train =  [     0      1      2 ... 139046 139047 139048]\n",
      "CV =  [139049 139050 139051 ... 162220 162221 162222]\n",
      "Shape =  (139049, 161941) (23174, 161941) \n",
      "\n",
      "\n",
      "Train =  [     0      1      2 ... 162220 162221 162222]\n",
      "CV =  [162223 162224 162225 ... 185394 185395 185396]\n",
      "Shape =  (162223, 161941) (23174, 161941) \n",
      "\n",
      "\n",
      "Train =  [     0      1      2 ... 185394 185395 185396]\n",
      "CV =  [185397 185398 185399 ... 208568 208569 208570]\n",
      "Shape =  (185397, 161941) (23174, 161941) \n",
      "\n",
      "\n",
      "Train =  [     0      1      2 ... 208568 208569 208570]\n",
      "CV =  [208571 208572 208573 ... 231742 231743 231744]\n",
      "Shape =  (208571, 161941) (23174, 161941) \n",
      "\n",
      "\n",
      "Train =  [     0      1      2 ... 231742 231743 231744]\n",
      "CV =  [231745 231746 231747 ... 254916 254917 254918]\n",
      "Shape =  (231745, 161941) (23174, 161941) \n",
      "\n",
      "\n"
     ]
    }
   ],
   "source": [
    "### Time Series Split \n",
    "from sklearn.model_selection import TimeSeriesSplit\n",
    "\n",
    "## TimeSeriesSplit Example URL: http://scikit-learn.org/stable/modules/generated/sklearn.model_selection.TimeSeriesSplit.html\n",
    "\n",
    "ts_cv = TimeSeriesSplit(n_splits=10)\n",
    "for train, cv in ts_cv.split(X_train):\n",
    "    print (\"Train = \", train)\n",
    "    print (\"CV = \", cv)\n",
    "    print (\"Shape = \", X_train[train].shape, X_train[cv].shape, \"\\n\\n\")"
   ]
  },
  {
   "cell_type": "code",
   "execution_count": 24,
   "metadata": {},
   "outputs": [
    {
     "name": "stdout",
     "output_type": "stream",
     "text": [
      "Fitting 10 folds for each of 12 candidates, totalling 120 fits\n"
     ]
    },
    {
     "name": "stderr",
     "output_type": "stream",
     "text": [
      "[Parallel(n_jobs=1)]: Done 120 out of 120 | elapsed:  1.5min finished\n"
     ]
    },
    {
     "name": "stdout",
     "output_type": "stream",
     "text": [
      "Best Param =  {'alpha': 0.001}\n",
      "Best Accuracy =  87.4480020712868\n",
      "Wall time: 1min 28s\n"
     ]
    }
   ],
   "source": [
    "%%time\n",
    "####### ###################################\n",
    "\n",
    "## Lets Start building our model .. \n",
    "# figure out best alpha using TimeSeriesSplit (Forward Chaining Cross Validation)\n",
    "\n",
    "from sklearn.naive_bayes import BernoulliNB\n",
    "from sklearn.model_selection import GridSearchCV\n",
    "\n",
    "bNB = BernoulliNB()\n",
    "param_grid = {'alpha':[100, 50, 10, 5, 1, 0.5, 0.1, 0.01, 0.001, 0.0001, 0.05, 0.005]}\n",
    "\n",
    "tscv = TimeSeriesSplit(n_splits=10)\n",
    "\n",
    "gsv = GridSearchCV(bNB, param_grid, cv=tscv, verbose=1)\n",
    "\n",
    "gsv.fit(X_train, y_train)\n",
    "\n",
    "savetofile(gsv, \"NB_gsv_uni\")\n",
    "\n",
    "print (\"Best Param = \", gsv.best_params_)\n",
    "print (\"Best Accuracy = \", gsv.best_score_ * 100)"
   ]
  },
  {
   "cell_type": "code",
   "execution_count": 25,
   "metadata": {},
   "outputs": [
    {
     "data": {
      "image/png": "[encoded data removed]",
      "text/plain": [
       "<Figure size 432x288 with 1 Axes>"
      ]
     },
     "metadata": {
      "needs_background": "light"
     },
     "output_type": "display_data"
    }
   ],
   "source": [
    "## Lets plot above parms \n",
    "\n",
    "x =[]\n",
    "y = []\n",
    "\n",
    "for i in gsv.grid_scores_:\n",
    "    x.append(i[0]['alpha'])\n",
    "    y.append(i[1]  * 100)\n",
    "\n",
    "plt.xlim(-10,100)\n",
    "plt.ylim(80,90)\n",
    "plt.xlabel(\"alpha\",fontsize=15)\n",
    "plt.ylabel(\"Accuracy\")\n",
    "plt.title('Accuracy v/s alpha')\n",
    "plt.plot(x,y)\n",
    "plt.show()"
   ]
  },
  {
   "cell_type": "code",
   "execution_count": 29,
   "metadata": {},
   "outputs": [
    {
     "name": "stdout",
     "output_type": "stream",
     "text": [
      "Accuracy =  88.07893677003624\n",
      "Precision  0.9185409410973321\n",
      "Recall  0.9388314093394102\n",
      "F1-Score  0.9285753457712261\n"
     ]
    },
    {
     "data": {
      "text/plain": [
       "<matplotlib.axes._subplots.AxesSubplot at 0x21abdd6f898>"
      ]
     },
     "execution_count": 29,
     "metadata": {},
     "output_type": "execute_result"
    },
    {
     "data": {
      "image/png": "[encoded data removed]",
      "text/plain": [
       "<Figure size 432x288 with 2 Axes>"
      ]
     },
     "metadata": {},
     "output_type": "display_data"
    }
   ],
   "source": [
    "## Accuracy \n",
    "\n",
    "bNB = BernoulliNB(gsv.best_params_['alpha']) ## alpha =  0.001\n",
    "bNB.fit(X_train, y_train)\n",
    "\n",
    "y_pred = bNB.predict(X_test)\n",
    "\n",
    "print (\"Accuracy = \", (accuracy_score(y_test, y_pred) * 100))\n",
    "print(\"Precision \", (precision_score(y_test, y_pred)))\n",
    "print(\"Recall \", (recall_score(y_test, y_pred)))\n",
    "print(\"F1-Score \", (f1_score(y_test, y_pred)))\n",
    "\n",
    "df_cm = pd.DataFrame(confusion_matrix(y_test, y_pred), range(2), range(2))\n",
    "\n",
    "sns.set(font_scale=1.4)\n",
    "\n",
    "sns.heatmap(df_cm, annot=True, annot_kws={\"size\": 16}, fmt='g')"
   ]
  },
  {
   "cell_type": "code",
   "execution_count": 30,
   "metadata": {},
   "outputs": [
    {
     "name": "stdout",
     "output_type": "stream",
     "text": [
      "Fitting 10 folds for each of 12 candidates, totalling 120 fits\n",
      "Best Param =  {'alpha': 0.001}\n",
      "Best Accuracy =  86.98929835160094\n",
      "Wall time: 58.1 s\n"
     ]
    },
    {
     "name": "stderr",
     "output_type": "stream",
     "text": [
      "[Parallel(n_jobs=1)]: Done 120 out of 120 | elapsed:   57.8s finished\n"
     ]
    }
   ],
   "source": [
    "%%time\n",
    "### Multinomial NB \n",
    "\n",
    "from sklearn.naive_bayes import MultinomialNB\n",
    "\n",
    "mNB = MultinomialNB()\n",
    "\n",
    "param_grid = {'alpha':[100, 50, 10, 5, 1, 0.5, 0.1, 0.01, 0.001, 0.0001, 0.05, 0.005]}\n",
    "\n",
    "tscv = TimeSeriesSplit(n_splits=10)\n",
    "\n",
    "gsv = GridSearchCV(mNB, param_grid, cv=tscv, verbose=1)\n",
    "\n",
    "gsv.fit(X_train, y_train)\n",
    "\n",
    "savetofile(gsv, \"NB_gsv_uni_MultiNB\")\n",
    "\n",
    "print (\"Best Param = \", gsv.best_params_)\n",
    "print (\"Best Accuracy = \", gsv.best_score_ * 100)"
   ]
  },
  {
   "cell_type": "code",
   "execution_count": 34,
   "metadata": {},
   "outputs": [
    {
     "data": {
      "image/png": "[encoded data removed]",
      "text/plain": [
       "<Figure size 432x288 with 1 Axes>"
      ]
     },
     "metadata": {},
     "output_type": "display_data"
    }
   ],
   "source": [
    "## Lets plot above parms \n",
    "\n",
    "x =[]\n",
    "y = []\n",
    "\n",
    "for i in gsv.grid_scores_:\n",
    "    x.append(i[0]['alpha'])\n",
    "    y.append(i[1]  * 100)\n",
    "\n",
    "plt.xlim(-5,5)\n",
    "plt.ylim(80,90)\n",
    "plt.xlabel(\"alpha\",fontsize=15)\n",
    "plt.ylabel(\"Accuracy\")\n",
    "plt.title('Accuracy v/s alpha')\n",
    "plt.plot(x,y)\n",
    "plt.show()"
   ]
  },
  {
   "cell_type": "code",
   "execution_count": 35,
   "metadata": {},
   "outputs": [
    {
     "name": "stdout",
     "output_type": "stream",
     "text": [
      "Accuracy =  85.64145278804965\n",
      "Precision  0.8540803133437275\n",
      "Recall  0.9962518158732271\n",
      "F1-Score  0.9197041435262202\n"
     ]
    },
    {
     "data": {
      "text/plain": [
       "<matplotlib.axes._subplots.AxesSubplot at 0x21abd7fd470>"
      ]
     },
     "execution_count": 35,
     "metadata": {},
     "output_type": "execute_result"
    },
    {
     "data": {
      "image/png": "[encoded data removed]",
      "text/plain": [
       "<Figure size 432x288 with 2 Axes>"
      ]
     },
     "metadata": {},
     "output_type": "display_data"
    }
   ],
   "source": [
    "## Accuracy - Multinomial NB\n",
    "\n",
    "## Accuracy \n",
    "\n",
    "mNB = MultinomialNB(gsv.best_params_['alpha']) ## alpha =  0.001\n",
    "mNB.fit(X_train, y_train)\n",
    "\n",
    "y_pred = mNB.predict(X_test)\n",
    "\n",
    "print (\"Accuracy = \", (accuracy_score(y_test, y_pred) * 100))\n",
    "print(\"Precision \", (precision_score(y_test, y_pred)))\n",
    "print(\"Recall \", (recall_score(y_test, y_pred)))\n",
    "print(\"F1-Score \", (f1_score(y_test, y_pred)))\n",
    "\n",
    "df_cm = pd.DataFrame(confusion_matrix(y_test, y_pred), range(2), range(2))\n",
    "\n",
    "sns.set(font_scale=1.4)\n",
    "\n",
    "sns.heatmap(df_cm, annot=True, annot_kws={\"size\": 16}, fmt='g')"
   ]
  },
  {
   "cell_type": "code",
   "execution_count": 41,
   "metadata": {},
   "outputs": [
    {
     "name": "stdout",
     "output_type": "stream",
     "text": [
      "\t\t\tPositive\t\t\t\t\t\tNegative\n",
      "-19.194873215584956  ::  aaaaaaarrrrrggghhh  \t::\t\t  -1.152660293245365  ::  not\n",
      "-19.194873215584956  ::  aaaaaahhhhhyaaaaaa  \t::\t\t  -1.194339823305036  ::  like\n",
      "-19.194873215584956  ::  aachen  \t::\t\t  -1.2247856916660727  ::  tast\n",
      "-19.194873215584956  ::  aalso  \t::\t\t  -1.2779928139118368  ::  love\n",
      "-19.194873215584956  ::  aamzonhowev  \t::\t\t  -1.2964161234932288  ::  good\n",
      "-19.194873215584956  ::  aauc  \t::\t\t  -1.315494467979061  ::  great\n",
      "-19.194873215584956  ::  abad  \t::\t\t  -1.4490675877672086  ::  flavor\n",
      "-19.194873215584956  ::  abalon  \t::\t\t  -1.488869750307627  ::  one\n",
      "-19.194873215584956  ::  abandonedterr  \t::\t\t  -1.4971186580771203  ::  use\n",
      "-19.194873215584956  ::  abbazabba  \t::\t\t  -1.550199636331893  ::  tri\n"
     ]
    }
   ],
   "source": [
    "###### Feature Importance \n",
    "\n",
    "## Notes: \n",
    "    # sort features in descending order. High probability means more chance of occurance and hence \n",
    "    # coef_ gives therobabilities of the features\n",
    "\n",
    "## source: https://stackoverflow.com/questions/11116697/how-to-get-most-informative-features-for-scikit-learn-classifiers\n",
    "\n",
    "def get_important_features(vectorizer, clf, n=10):\n",
    "    feature_names = vectorizer.get_feature_names()\n",
    "    coefs_with_fns = sorted(zip(clf.coef_[0], feature_names))\n",
    "    top_features =zip(coefs_with_fns[:n], coefs_with_fns[:-(n + 1):-1])\n",
    "    print(\"\\t\\t\\tPositive\\t\\t\\t\\t\\t\\tNegative\")\n",
    "    \n",
    "    for (coef_1, fn_1), (coef_2, fn_2) in top_features:\n",
    "        print (coef_1, \" :: \", fn_1, \" \\t::\\t\\t \", coef_2, \" :: \", fn_2)\n",
    "\n",
    "get_important_features(uni_gram, bNB)"
   ]
  },
  {
   "cell_type": "code",
   "execution_count": 42,
   "metadata": {},
   "outputs": [
    {
     "name": "stdout",
     "output_type": "stream",
     "text": [
      "\t\t\tPositive\t\t\t\t\t\tNegative\n",
      "-20.78071004962762  ::  aaaaaaarrrrrggghhh  \t::\t\t  -4.4141176103710436  ::  not\n",
      "-20.78071004962762  ::  aaaaaahhhhhyaaaaaa  \t::\t\t  -4.434394962287  ::  like\n",
      "-20.78071004962762  ::  aachen  \t::\t\t  -4.447052347217019  ::  tast\n",
      "-20.78071004962762  ::  aalso  \t::\t\t  -4.44728411854558  ::  love\n",
      "-20.78071004962762  ::  aamzonhowev  \t::\t\t  -4.4770728101324835  ::  great\n",
      "-20.78071004962762  ::  aauc  \t::\t\t  -4.5130109620636  ::  good\n",
      "-20.78071004962762  ::  abad  \t::\t\t  -4.641197800492968  ::  flavor\n",
      "-20.78071004962762  ::  abalon  \t::\t\t  -4.734677819583554  ::  use\n",
      "-20.78071004962762  ::  abandonedterr  \t::\t\t  -4.754595562091124  ::  product\n",
      "-20.78071004962762  ::  abbazabba  \t::\t\t  -4.81962264523921  ::  one\n"
     ]
    }
   ],
   "source": [
    "get_important_features(uni_gram, mNB)"
   ]
  },
  {
   "cell_type": "code",
   "execution_count": 53,
   "metadata": {},
   "outputs": [
    {
     "name": "stdout",
     "output_type": "stream",
     "text": [
      "(254919, 2642089)\n",
      "(109252, 2642089)\n",
      "Wall time: 1min 26s\n"
     ]
    }
   ],
   "source": [
    "%%time\n",
    "############## BOW - BiGram \n",
    "\n",
    "from sklearn.feature_extraction.text import CountVectorizer\n",
    "from sklearn.model_selection import train_test_split\n",
    "from sklearn import preprocessing\n",
    "\n",
    "\n",
    "## Train Test Split \n",
    "X_train, X_test, y_train, y_test = train_test_split(df_sample['CleanedText'].values,\n",
    "                                                   df_sample['Score'].values,\n",
    "                                                    test_size=0.3,\n",
    "                                                   shuffle=False)\n",
    "\n",
    "bi_gram = CountVectorizer(ngram_range=(1,2)) ## by Default it is uni_gram \n",
    "\n",
    "X_train = bi_gram.fit_transform(X_train)\n",
    "X_train = preprocessing.normalize(X_train) ## normalizing train data \n",
    "\n",
    "X_test = bi_gram.transform(X_test)\n",
    "X_test = preprocessing.normalize(X_test)\n",
    "\n",
    "print (X_train.shape)\n",
    "print (X_test.shape)"
   ]
  },
  {
   "cell_type": "code",
   "execution_count": 54,
   "metadata": {},
   "outputs": [
    {
     "name": "stdout",
     "output_type": "stream",
     "text": [
      "Fitting 10 folds for each of 6 candidates, totalling 60 fits\n"
     ]
    },
    {
     "name": "stderr",
     "output_type": "stream",
     "text": [
      "[Parallel(n_jobs=1)]: Done  60 out of  60 | elapsed:  2.6min finished\n"
     ]
    },
    {
     "name": "stdout",
     "output_type": "stream",
     "text": [
      "Best Param =  {'alpha': 0.001}\n",
      "Best Accuracy =  88.9470958833175\n",
      "Wall time: 2min 37s\n"
     ]
    }
   ],
   "source": [
    "%%time\n",
    "### BinomialNB \n",
    "\n",
    "\n",
    "from sklearn.naive_bayes import BernoulliNB\n",
    "from sklearn.model_selection import GridSearchCV\n",
    "\n",
    "bNB = BernoulliNB()\n",
    "param_grid = {'alpha':[10, 1, 0.1, 0.01, 0.001, 0.0001]}\n",
    "\n",
    "tscv = TimeSeriesSplit(n_splits=10)\n",
    "\n",
    "gsv = GridSearchCV(bNB, param_grid, cv=tscv, verbose=1)\n",
    "\n",
    "gsv.fit(X_train, y_train)\n",
    "\n",
    "savetofile(gsv, \"BNB_gsv_bi\")\n",
    "\n",
    "print (\"Best Param = \", gsv.best_params_)\n",
    "print (\"Best Accuracy = \", gsv.best_score_ * 100)"
   ]
  },
  {
   "cell_type": "code",
   "execution_count": 55,
   "metadata": {},
   "outputs": [
    {
     "data": {
      "image/png": "[encoded data removed]",
      "text/plain": [
       "<Figure size 432x288 with 1 Axes>"
      ]
     },
     "metadata": {},
     "output_type": "display_data"
    }
   ],
   "source": [
    "x =[]\n",
    "y = []\n",
    "\n",
    "for i in gsv.grid_scores_:\n",
    "    x.append(i[0]['alpha'])\n",
    "    y.append(i[1]  * 100)\n",
    "\n",
    "plt.xlim(-0.5,1)\n",
    "plt.ylim(80,90)\n",
    "plt.xlabel(\"alpha\",fontsize=15)\n",
    "plt.ylabel(\"Accuracy\")\n",
    "plt.title('Accuracy v/s alpha')\n",
    "plt.plot(x,y)\n",
    "plt.show()"
   ]
  },
  {
   "cell_type": "code",
   "execution_count": 56,
   "metadata": {},
   "outputs": [
    {
     "name": "stdout",
     "output_type": "stream",
     "text": [
      "Accuracy =  88.63270237615787\n",
      "Precision  0.8870328707667191\n",
      "Recall  0.988123357397119\n",
      "F1-Score  0.934853198063274\n"
     ]
    },
    {
     "data": {
      "text/plain": [
       "<matplotlib.axes._subplots.AxesSubplot at 0x21ad809f080>"
      ]
     },
     "execution_count": 56,
     "metadata": {},
     "output_type": "execute_result"
    },
    {
     "data": {
      "image/png": "[encoded data removed]",
      "text/plain": [
       "<Figure size 432x288 with 2 Axes>"
      ]
     },
     "metadata": {},
     "output_type": "display_data"
    }
   ],
   "source": [
    "## Accuracy of BernouliNB using BiGram\n",
    "\n",
    "bNB = BernoulliNB(gsv.best_params_['alpha']) ## alpha =  0.001\n",
    "bNB.fit(X_train, y_train)\n",
    "\n",
    "y_pred = bNB.predict(X_test)\n",
    "\n",
    "print (\"Accuracy = \", (accuracy_score(y_test, y_pred) * 100))\n",
    "print(\"Precision \", (precision_score(y_test, y_pred)))\n",
    "print(\"Recall \", (recall_score(y_test, y_pred)))\n",
    "print(\"F1-Score \", (f1_score(y_test, y_pred)))\n",
    "\n",
    "df_cm = pd.DataFrame(confusion_matrix(y_test, y_pred), range(2), range(2))\n",
    "\n",
    "sns.set(font_scale=1.4)\n",
    "\n",
    "sns.heatmap(df_cm, annot=True, annot_kws={\"size\": 16}, fmt='g')"
   ]
  },
  {
   "cell_type": "code",
   "execution_count": 57,
   "metadata": {},
   "outputs": [
    {
     "name": "stdout",
     "output_type": "stream",
     "text": [
      "Fitting 10 folds for each of 6 candidates, totalling 60 fits\n"
     ]
    },
    {
     "name": "stderr",
     "output_type": "stream",
     "text": [
      "[Parallel(n_jobs=1)]: Done  60 out of  60 | elapsed:  2.1min finished\n"
     ]
    },
    {
     "name": "stdout",
     "output_type": "stream",
     "text": [
      "Best Param =  {'alpha': 0.001}\n",
      "Best Accuracy =  89.78251488737378\n",
      "Wall time: 2min 5s\n"
     ]
    }
   ],
   "source": [
    "%%time\n",
    "\n",
    "### Multinomial NB \n",
    "\n",
    "\n",
    "mNB = MultinomialNB()\n",
    "param_grid = {'alpha':[10, 1, 0.1, 0.01, 0.001, 0.0001]}\n",
    "\n",
    "tscv = TimeSeriesSplit(n_splits=10)\n",
    "\n",
    "gsv = GridSearchCV(mNB, param_grid, cv=tscv, verbose=1)\n",
    "\n",
    "gsv.fit(X_train, y_train)\n",
    "\n",
    "savetofile(gsv, \"MNB_gsv_bi\")\n",
    "\n",
    "print (\"Best Param = \", gsv.best_params_)\n",
    "print (\"Best Accuracy = \", gsv.best_score_ * 100)"
   ]
  },
  {
   "cell_type": "code",
   "execution_count": 58,
   "metadata": {},
   "outputs": [
    {
     "data": {
      "image/png": "[encoded data removed]",
      "text/plain": [
       "<Figure size 432x288 with 1 Axes>"
      ]
     },
     "metadata": {},
     "output_type": "display_data"
    }
   ],
   "source": [
    "x =[]\n",
    "y = []\n",
    "\n",
    "for i in gsv.grid_scores_:\n",
    "    x.append(i[0]['alpha'])\n",
    "    y.append(i[1]  * 100)\n",
    "\n",
    "plt.xlim(-0.5,1)\n",
    "plt.ylim(80,90)\n",
    "plt.xlabel(\"alpha\",fontsize=15)\n",
    "plt.ylabel(\"Accuracy\")\n",
    "plt.title('Accuracy v/s alpha')\n",
    "plt.plot(x,y)\n",
    "plt.show()"
   ]
  },
  {
   "cell_type": "code",
   "execution_count": 59,
   "metadata": {},
   "outputs": [
    {
     "name": "stdout",
     "output_type": "stream",
     "text": [
      "Accuracy =  88.68029875883279\n",
      "Precision  0.8839814449269641\n",
      "Recall  0.993213347084068\n",
      "F1-Score  0.9354193538279973\n"
     ]
    },
    {
     "data": {
      "text/plain": [
       "<matplotlib.axes._subplots.AxesSubplot at 0x21ad3ee78d0>"
      ]
     },
     "execution_count": 59,
     "metadata": {},
     "output_type": "execute_result"
    },
    {
     "data": {
      "image/png": "[encoded data removed]",
      "text/plain": [
       "<Figure size 432x288 with 2 Axes>"
      ]
     },
     "metadata": {},
     "output_type": "display_data"
    }
   ],
   "source": [
    "## Accuracy for MultinomialNB using BiGram \n",
    "\n",
    "mNB = MultinomialNB(gsv.best_params_['alpha']) ## alpha =  0.001\n",
    "mNB.fit(X_train, y_train)\n",
    "\n",
    "y_pred = mNB.predict(X_test)\n",
    "\n",
    "print (\"Accuracy = \", (accuracy_score(y_test, y_pred) * 100))\n",
    "print(\"Precision \", (precision_score(y_test, y_pred)))\n",
    "print(\"Recall \", (recall_score(y_test, y_pred)))\n",
    "print(\"F1-Score \", (f1_score(y_test, y_pred)))\n",
    "\n",
    "df_cm = pd.DataFrame(confusion_matrix(y_test, y_pred), range(2), range(2))\n",
    "\n",
    "sns.set(font_scale=1.4)\n",
    "\n",
    "sns.heatmap(df_cm, annot=True, annot_kws={\"size\": 16}, fmt='g')"
   ]
  },
  {
   "cell_type": "code",
   "execution_count": 60,
   "metadata": {},
   "outputs": [
    {
     "name": "stdout",
     "output_type": "stream",
     "text": [
      "\t\t\tPositive\t\t\t\t\t\tNegative\n",
      "-19.194873215584956  ::  aa preservativeoh  \t::\t\t  -1.152660293245365  ::  not\n",
      "-19.194873215584956  ::  aaa dont  \t::\t\t  -1.194339823305036  ::  like\n",
      "-19.194873215584956  ::  aaaaaaarrrrrggghhh  \t::\t\t  -1.2247856916660727  ::  tast\n",
      "-19.194873215584956  ::  aaaaaaarrrrrggghhh back  \t::\t\t  -1.2779928139118368  ::  love\n",
      "-19.194873215584956  ::  aaaaaahhhhhyaaaaaa  \t::\t\t  -1.2964161234932288  ::  good\n",
      "-19.194873215584956  ::  aaaaaahhhhhyaaaaaa fire  \t::\t\t  -1.315494467979061  ::  great\n",
      "-19.194873215584956  ::  aachen  \t::\t\t  -1.4490675877672086  ::  flavor\n",
      "-19.194873215584956  ::  aachen munich  \t::\t\t  -1.488869750307627  ::  one\n",
      "-19.194873215584956  ::  aachen printen  \t::\t\t  -1.4971186580771203  ::  use\n",
      "-19.194873215584956  ::  aafco brewer  \t::\t\t  -1.550199636331893  ::  tri\n"
     ]
    }
   ],
   "source": [
    "### Feature Importance \n",
    "get_important_features(bi_gram, bNB)"
   ]
  },
  {
   "cell_type": "code",
   "execution_count": 61,
   "metadata": {},
   "outputs": [
    {
     "name": "stdout",
     "output_type": "stream",
     "text": [
      "\t\t\tPositive\t\t\t\t\t\tNegative\n",
      "-21.177901844267616  ::  aa preservativeoh  \t::\t\t  -5.085999915798032  ::  not\n",
      "-21.177901844267616  ::  aaa dont  \t::\t\t  -5.106529994694398  ::  like\n",
      "-21.177901844267616  ::  aaaaaaarrrrrggghhh  \t::\t\t  -5.1237481970079966  ::  tast\n",
      "-21.177901844267616  ::  aaaaaaarrrrrggghhh back  \t::\t\t  -5.1326979169379925  ::  love\n",
      "-21.177901844267616  ::  aaaaaahhhhhyaaaaaa  \t::\t\t  -5.163419319892512  ::  great\n",
      "-21.177901844267616  ::  aaaaaahhhhhyaaaaaa fire  \t::\t\t  -5.193983408649325  ::  good\n",
      "-21.177901844267616  ::  aachen  \t::\t\t  -5.315643550811039  ::  flavor\n",
      "-21.177901844267616  ::  aachen munich  \t::\t\t  -5.408244490805792  ::  use\n",
      "-21.177901844267616  ::  aachen printen  \t::\t\t  -5.438083596760787  ::  product\n",
      "-21.177901844267616  ::  aafco brewer  \t::\t\t  -5.493672338611383  ::  one\n"
     ]
    }
   ],
   "source": [
    "get_important_features(bi_gram, mNB)"
   ]
  },
  {
   "cell_type": "code",
   "execution_count": 63,
   "metadata": {},
   "outputs": [
    {
     "name": "stdout",
     "output_type": "stream",
     "text": [
      "Train  (254919, 161941)\n",
      "Test (109252, 161941)\n",
      "Wall time: 27.4 s\n"
     ]
    }
   ],
   "source": [
    "%%time\n",
    "######################################################## \n",
    "\n",
    "# TF-IDF - uni_gram - BernoulliNB\n",
    "\n",
    "from sklearn.feature_extraction.text import TfidfVectorizer\n",
    "\n",
    "X_train, X_test, y_train, y_test = train_test_split(df_sample['CleanedText'].values,\n",
    "                                                   df_sample.Score.values,\n",
    "                                                   test_size=0.3,\n",
    "                                                   shuffle=False)\n",
    "\n",
    "tfidf = TfidfVectorizer()\n",
    "X_train = tfidf.fit_transform(X_train)\n",
    "\n",
    "X_train = preprocessing.normalize(X_train)\n",
    "\n",
    "X_test = tfidf.transform(X_test)\n",
    "X_test = preprocessing.normalize(X_test)\n",
    "\n",
    "print (\"Train \", X_train.shape)\n",
    "print (\"Test\", X_test.shape)"
   ]
  },
  {
   "cell_type": "code",
   "execution_count": 64,
   "metadata": {},
   "outputs": [
    {
     "name": "stdout",
     "output_type": "stream",
     "text": [
      "Fitting 10 folds for each of 6 candidates, totalling 60 fits\n"
     ]
    },
    {
     "name": "stderr",
     "output_type": "stream",
     "text": [
      "[Parallel(n_jobs=1)]: Done  60 out of  60 | elapsed:   42.4s finished\n"
     ]
    },
    {
     "name": "stdout",
     "output_type": "stream",
     "text": [
      "Best Param =  {'alpha': 0.001}\n",
      "Best Accuracy =  87.4480020712868\n",
      "Wall time: 43 s\n"
     ]
    }
   ],
   "source": [
    "%%time\n",
    "\n",
    "### Bernoulli NB \n",
    "\n",
    "\n",
    "bNB = BernoulliNB()\n",
    "param_grid = {'alpha':[10, 1, 0.1, 0.01, 0.001, 0.0001]}\n",
    "\n",
    "tscv = TimeSeriesSplit(n_splits=10)\n",
    "\n",
    "gsv = GridSearchCV(bNB, param_grid, cv=tscv, verbose=1)\n",
    "\n",
    "gsv.fit(X_train, y_train)\n",
    "\n",
    "savetofile(gsv, \"BNB_gsv_tfidf\")\n",
    "\n",
    "print (\"Best Param = \", gsv.best_params_)\n",
    "print (\"Best Accuracy = \", gsv.best_score_ * 100)"
   ]
  },
  {
   "cell_type": "code",
   "execution_count": 65,
   "metadata": {},
   "outputs": [
    {
     "data": {
      "image/png": "[encoded data removed]",
      "text/plain": [
       "<Figure size 432x288 with 1 Axes>"
      ]
     },
     "metadata": {},
     "output_type": "display_data"
    }
   ],
   "source": [
    "x =[]\n",
    "y = []\n",
    "\n",
    "for i in gsv.grid_scores_:\n",
    "    x.append(i[0]['alpha'])\n",
    "    y.append(i[1]  * 100)\n",
    "\n",
    "plt.xlim(-0.5,1)\n",
    "plt.ylim(80,90)\n",
    "plt.xlabel(\"alpha\",fontsize=15)\n",
    "plt.ylabel(\"Accuracy\")\n",
    "plt.title('Accuracy v/s alpha')\n",
    "plt.plot(x,y)\n",
    "plt.show()"
   ]
  },
  {
   "cell_type": "code",
   "execution_count": 66,
   "metadata": {},
   "outputs": [
    {
     "name": "stdout",
     "output_type": "stream",
     "text": [
      "Accuracy =  88.07893677003624\n",
      "Precision  0.9185409410973321\n",
      "Recall  0.9388314093394102\n",
      "F1-Score  0.9285753457712261\n"
     ]
    },
    {
     "data": {
      "text/plain": [
       "<matplotlib.axes._subplots.AxesSubplot at 0x21ad51ece10>"
      ]
     },
     "execution_count": 66,
     "metadata": {},
     "output_type": "execute_result"
    },
    {
     "data": {
      "image/png": "[encoded data removed]",
      "text/plain": [
       "<Figure size 432x288 with 2 Axes>"
      ]
     },
     "metadata": {},
     "output_type": "display_data"
    }
   ],
   "source": [
    "### Accuracy for TfIdf - uni_gram - BernoulliNB \n",
    "\n",
    "bNB = BernoulliNB(gsv.best_params_['alpha']) ## alpha =  0.001\n",
    "bNB.fit(X_train, y_train)\n",
    "\n",
    "y_pred = bNB.predict(X_test)\n",
    "\n",
    "print (\"Accuracy = \", (accuracy_score(y_test, y_pred) * 100))\n",
    "print(\"Precision \", (precision_score(y_test, y_pred)))\n",
    "print(\"Recall \", (recall_score(y_test, y_pred)))\n",
    "print(\"F1-Score \", (f1_score(y_test, y_pred)))\n",
    "\n",
    "df_cm = pd.DataFrame(confusion_matrix(y_test, y_pred), range(2), range(2))\n",
    "\n",
    "sns.set(font_scale=1.4)\n",
    "\n",
    "sns.heatmap(df_cm, annot=True, annot_kws={\"size\": 16}, fmt='g')"
   ]
  },
  {
   "cell_type": "code",
   "execution_count": 67,
   "metadata": {},
   "outputs": [
    {
     "name": "stdout",
     "output_type": "stream",
     "text": [
      "Fitting 10 folds for each of 6 candidates, totalling 60 fits\n",
      "Best Param =  {'alpha': 0.01}\n",
      "Best Accuracy =  87.09717787175283\n",
      "Wall time: 26 s\n"
     ]
    },
    {
     "name": "stderr",
     "output_type": "stream",
     "text": [
      "[Parallel(n_jobs=1)]: Done  60 out of  60 | elapsed:   25.7s finished\n"
     ]
    }
   ],
   "source": [
    "%%time\n",
    "####### TfIdf MultinomialNB uni_gram \n",
    "\n",
    "mNB = MultinomialNB()\n",
    "param_grid = {'alpha':[10, 1, 0.1, 0.01, 0.001, 0.0001]}\n",
    "\n",
    "tscv = TimeSeriesSplit(n_splits=10)\n",
    "\n",
    "gsv = GridSearchCV(mNB, param_grid, cv=tscv, verbose=1)\n",
    "\n",
    "gsv.fit(X_train, y_train)\n",
    "\n",
    "savetofile(gsv, \"MNB_gsv_tfidf_uni\")\n",
    "\n",
    "print (\"Best Param = \", gsv.best_params_)\n",
    "print (\"Best Accuracy = \", gsv.best_score_ * 100)"
   ]
  },
  {
   "cell_type": "code",
   "execution_count": 68,
   "metadata": {},
   "outputs": [
    {
     "data": {
      "image/png": "[encoded data removed]",
      "text/plain": [
       "<Figure size 432x288 with 1 Axes>"
      ]
     },
     "metadata": {},
     "output_type": "display_data"
    }
   ],
   "source": [
    "x =[]\n",
    "y = []\n",
    "\n",
    "for i in gsv.grid_scores_:\n",
    "    x.append(i[0]['alpha'])\n",
    "    y.append(i[1]  * 100)\n",
    "\n",
    "plt.xlim(-0.5,1)\n",
    "plt.ylim(80,90)\n",
    "plt.xlabel(\"alpha\",fontsize=15)\n",
    "plt.ylabel(\"Accuracy\")\n",
    "plt.title('Accuracy v/s alpha')\n",
    "plt.plot(x,y)\n",
    "plt.show()"
   ]
  },
  {
   "cell_type": "code",
   "execution_count": 69,
   "metadata": {},
   "outputs": [
    {
     "name": "stdout",
     "output_type": "stream",
     "text": [
      "Accuracy =  86.15128327170211\n",
      "Precision  0.8619618586435414\n",
      "Recall  0.9909067722368231\n",
      "F1-Score  0.9219475454489178\n"
     ]
    },
    {
     "data": {
      "text/plain": [
       "<matplotlib.axes._subplots.AxesSubplot at 0x21ac20f2b00>"
      ]
     },
     "execution_count": 69,
     "metadata": {},
     "output_type": "execute_result"
    },
    {
     "data": {
      "image/png": "[encoded data removed]",
      "text/plain": [
       "<Figure size 432x288 with 2 Axes>"
      ]
     },
     "metadata": {},
     "output_type": "display_data"
    }
   ],
   "source": [
    "## Accuracy for TfIdf - MultinomialNB - uni_gram \n",
    "\n",
    "mNB = MultinomialNB(gsv.best_params_['alpha']) ## alpha =  0.001\n",
    "mNB.fit(X_train, y_train)\n",
    "\n",
    "y_pred = mNB.predict(X_test)\n",
    "\n",
    "print (\"Accuracy = \", (accuracy_score(y_test, y_pred) * 100))\n",
    "print(\"Precision \", (precision_score(y_test, y_pred)))\n",
    "print(\"Recall \", (recall_score(y_test, y_pred)))\n",
    "print(\"F1-Score \", (f1_score(y_test, y_pred)))\n",
    "\n",
    "df_cm = pd.DataFrame(confusion_matrix(y_test, y_pred), range(2), range(2))\n",
    "\n",
    "sns.set(font_scale=1.4)\n",
    "\n",
    "sns.heatmap(df_cm, annot=True, annot_kws={\"size\": 16}, fmt='g')"
   ]
  },
  {
   "cell_type": "code",
   "execution_count": 70,
   "metadata": {},
   "outputs": [
    {
     "name": "stdout",
     "output_type": "stream",
     "text": [
      "\t\t\tPositive\t\t\t\t\t\tNegative\n",
      "-19.194873215584956  ::  aaaaaaarrrrrggghhh  \t::\t\t  -1.152660293245365  ::  not\n",
      "-19.194873215584956  ::  aaaaaahhhhhyaaaaaa  \t::\t\t  -1.194339823305036  ::  like\n",
      "-19.194873215584956  ::  aachen  \t::\t\t  -1.2247856916660727  ::  tast\n",
      "-19.194873215584956  ::  aalso  \t::\t\t  -1.2779928139118368  ::  love\n",
      "-19.194873215584956  ::  aamzonhowev  \t::\t\t  -1.2964161234932288  ::  good\n",
      "-19.194873215584956  ::  aauc  \t::\t\t  -1.315494467979061  ::  great\n",
      "-19.194873215584956  ::  abad  \t::\t\t  -1.4490675877672086  ::  flavor\n",
      "-19.194873215584956  ::  abalon  \t::\t\t  -1.488869750307627  ::  one\n",
      "-19.194873215584956  ::  abandonedterr  \t::\t\t  -1.4971186580771203  ::  use\n",
      "-19.194873215584956  ::  abbazabba  \t::\t\t  -1.550199636331893  ::  tri\n"
     ]
    }
   ],
   "source": [
    "#### get important Features \n",
    "\n",
    "# TfIdf BernoulliNB uni_gram \n",
    "get_important_features(tfidf, bNB)"
   ]
  },
  {
   "cell_type": "code",
   "execution_count": 71,
   "metadata": {},
   "outputs": [
    {
     "name": "stdout",
     "output_type": "stream",
     "text": [
      "\t\t\tPositive\t\t\t\t\t\tNegative\n",
      "-18.435830267669566  ::  aaaaaaarrrrrggghhh  \t::\t\t  -5.106458700617482  ::  great\n",
      "-18.435830267669566  ::  aaaaaahhhhhyaaaaaa  \t::\t\t  -5.110431590701733  ::  love\n",
      "-18.435830267669566  ::  aachen  \t::\t\t  -5.1821295940952155  ::  tast\n",
      "-18.435830267669566  ::  aalso  \t::\t\t  -5.184852341893738  ::  good\n",
      "-18.435830267669566  ::  aamzonhowev  \t::\t\t  -5.190368338590158  ::  like\n",
      "-18.435830267669566  ::  aauc  \t::\t\t  -5.215690425796531  ::  tea\n",
      "-18.435830267669566  ::  abad  \t::\t\t  -5.236091126875351  ::  not\n",
      "-18.435830267669566  ::  abalon  \t::\t\t  -5.2572381143324804  ::  flavor\n",
      "-18.435830267669566  ::  abandonedterr  \t::\t\t  -5.291373820842232  ::  coffe\n",
      "-18.435830267669566  ::  abbazabba  \t::\t\t  -5.359733604888765  ::  product\n"
     ]
    }
   ],
   "source": [
    "# TfIdf MultinomialNB uni_gram\n",
    "get_important_features(tfidf, mNB)"
   ]
  },
  {
   "cell_type": "code",
   "execution_count": 73,
   "metadata": {},
   "outputs": [
    {
     "name": "stdout",
     "output_type": "stream",
     "text": [
      "Train  (254919, 2642089)\n",
      "Test (109252, 2642089)\n"
     ]
    }
   ],
   "source": [
    "#### TFIDF - BiGram - BernoulliNB\n",
    "\n",
    "X_train, X_test, y_train, y_test = train_test_split(df_sample['CleanedText'].values,\n",
    "                                                   df_sample.Score.values,\n",
    "                                                   test_size=0.3,\n",
    "                                                   shuffle=False)\n",
    "\n",
    "tfidf = TfidfVectorizer(ngram_range=(1, 2))\n",
    "X_train = tfidf.fit_transform(X_train)\n",
    "\n",
    "X_train = preprocessing.normalize(X_train)\n",
    "\n",
    "X_test = tfidf.transform(X_test)\n",
    "X_test = preprocessing.normalize(X_test)\n",
    "\n",
    "print (\"Train \", X_train.shape)\n",
    "print (\"Test\", X_test.shape)"
   ]
  },
  {
   "cell_type": "code",
   "execution_count": 74,
   "metadata": {},
   "outputs": [
    {
     "name": "stdout",
     "output_type": "stream",
     "text": [
      "Fitting 10 folds for each of 6 candidates, totalling 60 fits\n"
     ]
    },
    {
     "name": "stderr",
     "output_type": "stream",
     "text": [
      "[Parallel(n_jobs=1)]: Done  60 out of  60 | elapsed:  2.6min finished\n"
     ]
    },
    {
     "name": "stdout",
     "output_type": "stream",
     "text": [
      "Best Param =  {'alpha': 0.001}\n",
      "Best Accuracy =  88.9470958833175\n",
      "Wall time: 2min 40s\n"
     ]
    }
   ],
   "source": [
    "%%time\n",
    "\n",
    "### Bernoulli NB \n",
    "\n",
    "\n",
    "bNB = BernoulliNB()\n",
    "param_grid = {'alpha':[10, 1, 0.1, 0.01, 0.001, 0.0001]}\n",
    "\n",
    "tscv = TimeSeriesSplit(n_splits=10)\n",
    "\n",
    "gsv = GridSearchCV(bNB, param_grid, cv=tscv, verbose=1)\n",
    "\n",
    "gsv.fit(X_train, y_train)\n",
    "\n",
    "savetofile(gsv, \"BNB_gsv_tfidf_bigram\")\n",
    "\n",
    "print (\"Best Param = \", gsv.best_params_)\n",
    "print (\"Best Accuracy = \", gsv.best_score_ * 100)"
   ]
  },
  {
   "cell_type": "code",
   "execution_count": 75,
   "metadata": {},
   "outputs": [
    {
     "data": {
      "image/png": "[encoded data removed]",
      "text/plain": [
       "<Figure size 432x288 with 1 Axes>"
      ]
     },
     "metadata": {},
     "output_type": "display_data"
    }
   ],
   "source": [
    "x =[]\n",
    "y = []\n",
    "\n",
    "for i in gsv.grid_scores_:\n",
    "    x.append(i[0]['alpha'])\n",
    "    y.append(i[1]  * 100)\n",
    "\n",
    "plt.xlim(-0.5,1)\n",
    "plt.ylim(80,90)\n",
    "plt.xlabel(\"alpha\",fontsize=15)\n",
    "plt.ylabel(\"Accuracy\")\n",
    "plt.title('Accuracy v/s alpha')\n",
    "plt.plot(x,y)\n",
    "plt.show()"
   ]
  },
  {
   "cell_type": "code",
   "execution_count": 76,
   "metadata": {},
   "outputs": [
    {
     "name": "stdout",
     "output_type": "stream",
     "text": [
      "Accuracy =  88.63270237615787\n",
      "Precision  0.8870328707667191\n",
      "Recall  0.988123357397119\n",
      "F1-Score  0.934853198063274\n"
     ]
    },
    {
     "data": {
      "text/plain": [
       "<matplotlib.axes._subplots.AxesSubplot at 0x21afa6c3550>"
      ]
     },
     "execution_count": 76,
     "metadata": {},
     "output_type": "execute_result"
    },
    {
     "data": {
      "image/png": "[encoded data removed]",
      "text/plain": [
       "<Figure size 432x288 with 2 Axes>"
      ]
     },
     "metadata": {},
     "output_type": "display_data"
    }
   ],
   "source": [
    "## Accuracy TfIdf BernoulliNB bigram \n",
    "\n",
    "bNB = BernoulliNB(gsv.best_params_['alpha']) ## alpha =  0.001\n",
    "bNB.fit(X_train, y_train)\n",
    "\n",
    "y_pred = bNB.predict(X_test)\n",
    "\n",
    "print (\"Accuracy = \", (accuracy_score(y_test, y_pred) * 100))\n",
    "print(\"Precision \", (precision_score(y_test, y_pred)))\n",
    "print(\"Recall \", (recall_score(y_test, y_pred)))\n",
    "print(\"F1-Score \", (f1_score(y_test, y_pred)))\n",
    "\n",
    "df_cm = pd.DataFrame(confusion_matrix(y_test, y_pred), range(2), range(2))\n",
    "\n",
    "sns.set(font_scale=1.4)\n",
    "\n",
    "sns.heatmap(df_cm, annot=True, annot_kws={\"size\": 16}, fmt='g')"
   ]
  },
  {
   "cell_type": "code",
   "execution_count": 77,
   "metadata": {},
   "outputs": [
    {
     "name": "stdout",
     "output_type": "stream",
     "text": [
      "Fitting 10 folds for each of 6 candidates, totalling 60 fits\n"
     ]
    },
    {
     "name": "stderr",
     "output_type": "stream",
     "text": [
      "[Parallel(n_jobs=1)]: Done  60 out of  60 | elapsed:  1.8min finished\n"
     ]
    },
    {
     "name": "stdout",
     "output_type": "stream",
     "text": [
      "Best Param =  {'alpha': 0.0001}\n",
      "Best Accuracy =  88.01760593768878\n",
      "Wall time: 1min 46s\n"
     ]
    }
   ],
   "source": [
    "%%time\n",
    "\n",
    "### TfIdf - MultinomialNB , Bigram \n",
    "\n",
    "\n",
    "### MultinomialNB NB \n",
    "\n",
    "\n",
    "mNB = MultinomialNB()\n",
    "param_grid = {'alpha':[10, 1, 0.1, 0.01, 0.001, 0.0001]}\n",
    "\n",
    "tscv = TimeSeriesSplit(n_splits=10)\n",
    "\n",
    "gsv = GridSearchCV(mNB, param_grid, cv=tscv, verbose=1)\n",
    "\n",
    "gsv.fit(X_train, y_train)\n",
    "\n",
    "savetofile(gsv, \"MNB_gsv_tfidf_bigram\")\n",
    "\n",
    "print (\"Best Param = \", gsv.best_params_)\n",
    "print (\"Best Accuracy = \", gsv.best_score_ * 100)"
   ]
  },
  {
   "cell_type": "code",
   "execution_count": 78,
   "metadata": {},
   "outputs": [
    {
     "data": {
      "image/png": "[encoded data removed]",
      "text/plain": [
       "<Figure size 432x288 with 1 Axes>"
      ]
     },
     "metadata": {},
     "output_type": "display_data"
    }
   ],
   "source": [
    "x =[]\n",
    "y = []\n",
    "\n",
    "for i in gsv.grid_scores_:\n",
    "    x.append(i[0]['alpha'])\n",
    "    y.append(i[1]  * 100)\n",
    "\n",
    "plt.xlim(-0.5,1)\n",
    "plt.ylim(80,90)\n",
    "plt.xlabel(\"alpha\",fontsize=15)\n",
    "plt.ylabel(\"Accuracy\")\n",
    "plt.title('Accuracy v/s alpha')\n",
    "plt.plot(x,y)\n",
    "plt.show()"
   ]
  },
  {
   "cell_type": "code",
   "execution_count": 79,
   "metadata": {},
   "outputs": [
    {
     "name": "stdout",
     "output_type": "stream",
     "text": [
      "Accuracy =  86.67667411122908\n",
      "Precision  0.8664198703350163\n",
      "Recall  0.9914390587400335\n",
      "F1-Score  0.924723064034008\n"
     ]
    },
    {
     "data": {
      "text/plain": [
       "<matplotlib.axes._subplots.AxesSubplot at 0x21adfa1f4e0>"
      ]
     },
     "execution_count": 79,
     "metadata": {},
     "output_type": "execute_result"
    },
    {
     "data": {
      "image/png": "[encoded data removed]",
      "text/plain": [
       "<Figure size 432x288 with 2 Axes>"
      ]
     },
     "metadata": {},
     "output_type": "display_data"
    }
   ],
   "source": [
    "## Accuracy TfIdf MultinomialNBnomialNBnomialNBMultinomialNBlNB Bigram \n",
    "mNB = MultinomialNB(gsv.best_params_['alpha']) ## alpha =  0.001\n",
    "mNB.fit(X_train, y_train)\n",
    "\n",
    "y_pred = mNB.predict(X_test)\n",
    "\n",
    "print (\"Accuracy = \", (accuracy_score(y_test, y_pred) * 100))\n",
    "print(\"Precision \", (precision_score(y_test, y_pred)))\n",
    "print(\"Recall \", (recall_score(y_test, y_pred)))\n",
    "print(\"F1-Score \", (f1_score(y_test, y_pred)))\n",
    "\n",
    "df_cm = pd.DataFrame(confusion_matrix(y_test, y_pred), range(2), range(2))\n",
    "\n",
    "sns.set(font_scale=1.4)\n",
    "\n",
    "sns.heatmap(df_cm, annot=True, annot_kws={\"size\": 16}, fmt='g')"
   ]
  },
  {
   "cell_type": "code",
   "execution_count": 80,
   "metadata": {},
   "outputs": [
    {
     "name": "stdout",
     "output_type": "stream",
     "text": [
      "\t\t\tPositive\t\t\t\t\t\tNegative\n",
      "-19.194873215584956  ::  aa preservativeoh  \t::\t\t  -1.152660293245365  ::  not\n",
      "-19.194873215584956  ::  aaa dont  \t::\t\t  -1.194339823305036  ::  like\n",
      "-19.194873215584956  ::  aaaaaaarrrrrggghhh  \t::\t\t  -1.2247856916660727  ::  tast\n",
      "-19.194873215584956  ::  aaaaaaarrrrrggghhh back  \t::\t\t  -1.2779928139118368  ::  love\n",
      "-19.194873215584956  ::  aaaaaahhhhhyaaaaaa  \t::\t\t  -1.2964161234932288  ::  good\n",
      "-19.194873215584956  ::  aaaaaahhhhhyaaaaaa fire  \t::\t\t  -1.315494467979061  ::  great\n",
      "-19.194873215584956  ::  aachen  \t::\t\t  -1.4490675877672086  ::  flavor\n",
      "-19.194873215584956  ::  aachen munich  \t::\t\t  -1.488869750307627  ::  one\n",
      "-19.194873215584956  ::  aachen printen  \t::\t\t  -1.4971186580771203  ::  use\n",
      "-19.194873215584956  ::  aafco brewer  \t::\t\t  -1.550199636331893  ::  tri\n"
     ]
    }
   ],
   "source": [
    "## Feature importance \n",
    "\n",
    "# TfIdf BernoulliNB bigram \n",
    "get_important_features(tfidf, bNB)"
   ]
  },
  {
   "cell_type": "code",
   "execution_count": 81,
   "metadata": {},
   "outputs": [
    {
     "name": "stdout",
     "output_type": "stream",
     "text": [
      "\t\t\tPositive\t\t\t\t\t\tNegative\n",
      "-23.443497383535192  ::  aa preservativeoh  \t::\t\t  -6.246543099370942  ::  love\n",
      "-23.443497383535192  ::  aaa dont  \t::\t\t  -6.247672540080973  ::  great\n",
      "-23.443497383535192  ::  aaaaaaarrrrrggghhh  \t::\t\t  -6.302917694223479  ::  like\n",
      "-23.443497383535192  ::  aaaaaaarrrrrggghhh back  \t::\t\t  -6.303542588793581  ::  tast\n",
      "-23.443497383535192  ::  aaaaaahhhhhyaaaaaa  \t::\t\t  -6.310544479315506  ::  tea\n",
      "-23.443497383535192  ::  aaaaaahhhhhyaaaaaa fire  \t::\t\t  -6.316488641665398  ::  good\n",
      "-23.443497383535192  ::  aachen  \t::\t\t  -6.345824815420337  ::  not\n",
      "-23.443497383535192  ::  aachen munich  \t::\t\t  -6.377102550505412  ::  flavor\n",
      "-23.443497383535192  ::  aachen printen  \t::\t\t  -6.405988472154915  ::  coffe\n",
      "-23.443497383535192  ::  aafco brewer  \t::\t\t  -6.469829884929544  ::  use\n"
     ]
    }
   ],
   "source": [
    "# TfIdf MultinomialNB bigram\n",
    "get_important_features(tfidf, mNB)"
   ]
  },
  {
   "cell_type": "code",
   "execution_count": 82,
   "metadata": {},
   "outputs": [
    {
     "name": "stdout",
     "output_type": "stream",
     "text": [
      "Train  (254919, 9814784)\n",
      "Test (109252, 9814784)\n"
     ]
    }
   ],
   "source": [
    "### Lets Try for different gram \n",
    "\n",
    "# TfIdf MultinomialNB tri-gram \n",
    "\n",
    "\n",
    "X_train, X_test, y_train, y_test = train_test_split(df_sample['CleanedText'].values,\n",
    "                                                   df_sample.Score.values,\n",
    "                                                   test_size=0.3,\n",
    "                                                   shuffle=False)\n",
    "\n",
    "tfidf = TfidfVectorizer(ngram_range=(1, 3))\n",
    "X_train = tfidf.fit_transform(X_train)\n",
    "\n",
    "X_train = preprocessing.normalize(X_train)\n",
    "\n",
    "X_test = tfidf.transform(X_test)\n",
    "X_test = preprocessing.normalize(X_test)\n",
    "\n",
    "print (\"Train \", X_train.shape)\n",
    "print (\"Test\", X_test.shape)"
   ]
  },
  {
   "cell_type": "code",
   "execution_count": 83,
   "metadata": {},
   "outputs": [
    {
     "name": "stdout",
     "output_type": "stream",
     "text": [
      "Fitting 10 folds for each of 6 candidates, totalling 60 fits\n"
     ]
    },
    {
     "name": "stderr",
     "output_type": "stream",
     "text": [
      "[Parallel(n_jobs=1)]: Done  60 out of  60 | elapsed:  4.0min finished\n"
     ]
    },
    {
     "name": "stdout",
     "output_type": "stream",
     "text": [
      "Best Param =  {'alpha': 0.1}\n",
      "Best Accuracy =  86.48226460688703\n",
      "Wall time: 4min 7s\n"
     ]
    }
   ],
   "source": [
    "%%time \n",
    "\n",
    "## MultinomialNB Tri-gram \n",
    "\n",
    "mNB = MultinomialNB()\n",
    "param_grid = {'alpha':[10, 1, 0.1, 0.01, 0.001, 0.0001]}\n",
    "\n",
    "tscv = TimeSeriesSplit(n_splits=10)\n",
    "\n",
    "gsv = GridSearchCV(mNB, param_grid, cv=tscv, verbose=1)\n",
    "\n",
    "gsv.fit(X_train, y_train)\n",
    "\n",
    "savetofile(gsv, \"MNB_gsv_tfidf_trigram\")\n",
    "\n",
    "print (\"Best Param = \", gsv.best_params_)\n",
    "print (\"Best Accuracy = \", gsv.best_score_ * 100)"
   ]
  },
  {
   "cell_type": "code",
   "execution_count": 84,
   "metadata": {},
   "outputs": [
    {
     "data": {
      "image/png": "[encoded data removed]",
      "text/plain": [
       "<Figure size 432x288 with 1 Axes>"
      ]
     },
     "metadata": {},
     "output_type": "display_data"
    }
   ],
   "source": [
    "x =[]\n",
    "y = []\n",
    "\n",
    "for i in gsv.grid_scores_:\n",
    "    x.append(i[0]['alpha'])\n",
    "    y.append(i[1]  * 100)\n",
    "\n",
    "plt.xlim(-0.5,1)\n",
    "plt.ylim(80,90)\n",
    "plt.xlabel(\"alpha\",fontsize=15)\n",
    "plt.ylabel(\"Accuracy\")\n",
    "plt.title('Accuracy v/s alpha')\n",
    "plt.plot(x,y)\n",
    "plt.show()"
   ]
  },
  {
   "cell_type": "code",
   "execution_count": 85,
   "metadata": {},
   "outputs": [
    {
     "name": "stdout",
     "output_type": "stream",
     "text": [
      "Accuracy =  83.68450920806941\n",
      "Precision  0.8350436216126105\n",
      "Recall  0.999844749769897\n",
      "F1-Score  0.9100433507779422\n"
     ]
    },
    {
     "data": {
      "text/plain": [
       "<matplotlib.axes._subplots.AxesSubplot at 0x21ad318eac8>"
      ]
     },
     "execution_count": 85,
     "metadata": {},
     "output_type": "execute_result"
    },
    {
     "data": {
      "image/png": "[encoded data removed]",
      "text/plain": [
       "<Figure size 432x288 with 2 Axes>"
      ]
     },
     "metadata": {},
     "output_type": "display_data"
    }
   ],
   "source": [
    "## Accuracy MultinMultinomialNBNB MultinomialNB Tri-gram\n",
    "\n",
    "mNB = MultinomialNB(gsv.best_params_['alpha']) ## alpha =  0.001\n",
    "mNB.fit(X_train, y_train)\n",
    "\n",
    "y_pred = mNB.predict(X_test)\n",
    "\n",
    "print (\"Accuracy = \", (accuracy_score(y_test, y_pred) * 100))\n",
    "print(\"Precision \", (precision_score(y_test, y_pred)))\n",
    "print(\"Recall \", (recall_score(y_test, y_pred)))\n",
    "print(\"F1-Score \", (f1_score(y_test, y_pred)))\n",
    "\n",
    "df_cm = pd.DataFrame(confusion_matrix(y_test, y_pred), range(2), range(2))\n",
    "\n",
    "sns.set(font_scale=1.4)\n",
    "\n",
    "sns.heatmap(df_cm, annot=True, annot_kws={\"size\": 16}, fmt='g')"
   ]
  },
  {
   "cell_type": "code",
   "execution_count": 87,
   "metadata": {},
   "outputs": [
    {
     "name": "stdout",
     "output_type": "stream",
     "text": [
      "\t\t\tPositive\t\t\t\t\t\tNegative\n",
      "-17.179120915981468  ::  aa preservativeoh  \t::\t\t  -7.257540309424325  ::  love\n",
      "-17.179120915981468  ::  aa preservativeoh thank  \t::\t\t  -7.262122311926656  ::  great\n",
      "-17.179120915981468  ::  aaa dont  \t::\t\t  -7.3091101972447925  ::  like\n",
      "-17.179120915981468  ::  aaa dont think  \t::\t\t  -7.313444796373888  ::  tast\n",
      "-17.179120915981468  ::  aaaaaaarrrrrggghhh  \t::\t\t  -7.316649475500946  ::  tea\n",
      "-17.179120915981468  ::  aaaaaaarrrrrggghhh back  \t::\t\t  -7.327554436738941  ::  good\n",
      "-17.179120915981468  ::  aaaaaaarrrrrggghhh back dark  \t::\t\t  -7.349218909033351  ::  not\n",
      "-17.179120915981468  ::  aaaaaahhhhhyaaaaaa  \t::\t\t  -7.386659159272174  ::  flavor\n",
      "-17.179120915981468  ::  aaaaaahhhhhyaaaaaa fire  \t::\t\t  -7.419989560570672  ::  coffe\n",
      "-17.179120915981468  ::  aaaaaahhhhhyaaaaaa fire weapon  \t::\t\t  -7.469599210779484  ::  use\n"
     ]
    }
   ],
   "source": [
    "### Feature Importance\n",
    "get_important_features(tfidf, mNB)"
   ]
  },
  {
   "cell_type": "code",
   "execution_count": null,
   "metadata": {},
   "outputs": [],
   "source": [
    "%%time\n",
    "########### TfIdf MultinomialNB 5-Gram \n",
    "\n",
    "X_train, X_test, y_train, y_test = train_test_split(df_sample['CleanedText'].values,\n",
    "                                                   df_sample.Score.values,\n",
    "                                                   test_size=0.2,\n",
    "                                                   shuffle=False)\n",
    "\n",
    "tfidf = TfidfVectorizer(ngram_range=(4, 5))\n",
    "X_train = tfidf.fit_transform(X_train)\n",
    "\n",
    "X_train = preprocessing.normalize(X_train)\n",
    "\n",
    "X_test = tfidf.transform(X_test)\n",
    "X_test = preprocessing.normalize(X_test)\n",
    "\n",
    "print (\"Train \", X_train.shape)\n",
    "print (\"Test\", X_test.shape)\n"
   ]
  },
  {
   "cell_type": "code",
   "execution_count": null,
   "metadata": {},
   "outputs": [],
   "source": [
    "%%time \n",
    "\n",
    "## MultinomialNB Tri-gram \n",
    "\n",
    "mNB = MultinomialNB()\n",
    "param_grid = {'alpha':[10, 1, 0.1, 0.01, 0.001, 0.0001]}\n",
    "\n",
    "tscv = TimeSeriesSplit(n_splits=10)\n",
    "\n",
    "gsv = GridSearchCV(mNB, param_grid, cv=tscv, verbose=1)\n",
    "\n",
    "gsv.fit(X_train, y_train)\n",
    "\n",
    "savetofile(gsv, \"MNB_gsv_tfidf_5gram\")\n",
    "\n",
    "print (\"Best Param = \", gsv.best_params_)\n",
    "print (\"Best Accuracy = \", gsv.best_score_ * 100)"
   ]
  },
  {
   "cell_type": "code",
   "execution_count": null,
   "metadata": {},
   "outputs": [],
   "source": []
  }
 ],
 "metadata": {
  "kernelspec": {
   "display_name": "Python 3",
   "language": "python",
   "name": "python3"
  },
  "language_info": {
   "codemirror_mode": {
    "name": "ipython",
    "version": 3
   },
   "file_extension": ".py",
   "mimetype": "text/x-python",
   "name": "python",
   "nbconvert_exporter": "python",
   "pygments_lexer": "ipython3",
   "version": "3.7.0"
  }
 },
 "nbformat": 4,
 "nbformat_minor": 2
}
